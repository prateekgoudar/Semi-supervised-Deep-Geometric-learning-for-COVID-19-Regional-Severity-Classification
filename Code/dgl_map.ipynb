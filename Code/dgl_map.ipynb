{
 "cells": [
  {
   "cell_type": "code",
   "execution_count": 545,
   "metadata": {
    "colab": {},
    "colab_type": "code",
    "id": "NZQkvXIxws5L"
   },
   "outputs": [],
   "source": [
    "import itertools\n",
    "import plotly.express as px\n",
    "import chart_studio.plotly as py\n",
    "import numpy as np\n",
    "import pandas as pd\n",
    "import torch\n",
    "import torch.nn as nn\n",
    "import torch.nn.functional as F\n",
    "import networkx as nx\n",
    "import dgl\n",
    "from dgl.nn.pytorch import GraphConv"
   ]
  },
  {
   "cell_type": "code",
   "execution_count": 546,
   "metadata": {
    "colab": {},
    "colab_type": "code",
    "id": "iD49lFY_0DMz"
   },
   "outputs": [],
   "source": [
    "percentage_labeled = 0.05\n",
    "num_labels = int(percentage_labeled * 48)\n",
    "\n",
    "coordinates = pd.read_csv(\"./StateLatLong_USA.csv\")\n",
    "population_density = pd.read_csv('./DensPob_USA.csv')\n",
    "ground_truth_labels = pd.read_csv('./StatesGroundTruth_USA.csv')\n",
    "states_list = coordinates[\"State\"].to_list()\n",
    "lat_list = coordinates[\"Lat\"]\n",
    "lon_list = coordinates['Long']"
   ]
  },
  {
   "cell_type": "code",
   "execution_count": 547,
   "metadata": {
    "colab": {
     "base_uri": "https://localhost:8080/",
     "height": 817
    },
    "colab_type": "code",
    "id": "xE0Sb0YC5ds7",
    "outputId": "4670b92f-6edf-4364-93e8-b23f8f5dcce4"
   },
   "outputs": [
    {
     "data": {
      "application/vnd.plotly.v1+json": {
       "config": {
        "plotlyServerURL": "https://plot.ly"
       },
       "data": [
        {
         "alignmentgroup": "True",
         "hovertemplate": "Population Density [inhabitants per square mi]=%{x}<br>State=%{y}<extra></extra>",
         "legendgroup": "",
         "marker": {
          "color": "#636efa"
         },
         "name": "",
         "offsetgroup": "",
         "orientation": "h",
         "showlegend": false,
         "textposition": "auto",
         "type": "bar",
         "x": [
          6,
          7.1,
          11,
          11.3,
          17.2,
          20,
          24.7,
          26.3,
          35.6,
          36.5,
          42,
          43.1,
          52.6,
          55.9,
          57,
          57.2,
          60.1,
          63.8,
          67.7,
          69,
          76.6,
          88.3,
          95.8,
          104.9,
          106.3,
          107.2,
          107.8,
          111.4,
          148.4,
          160.1,
          162.6,
          174.7,
          176.4,
          184.6,
          206.2,
          211.7,
          231.4,
          251,
          283.6,
          285.7,
          375.9,
          419.3,
          484.1,
          614.5,
          741.2,
          866.6,
          1010.8,
          1207.8
         ],
         "xaxis": "x",
         "y": [
          "Wyoming",
          "Montana",
          "North Dakota",
          "South Dakota",
          "New Mexico",
          "Idaho",
          "Nebraska",
          "Nevada",
          "Kansas",
          "Utah",
          "Oregon",
          "Maine",
          "Colorado",
          "Iowa",
          "Oklahoma",
          "Arkansas",
          "Arizona",
          "Mississippi",
          "Vermont",
          "Minnesota",
          "West Virginia",
          "Missouri",
          "Alabama",
          "Texas",
          "Wisconsin",
          "Louisiana",
          "Washington",
          "Kentucky",
          "New Hampshire",
          "Tennessee",
          "South Carolina",
          "Michigan",
          "Georgia",
          "Indiana",
          "North Carolina",
          "Virginia",
          "Illinois",
          "California",
          "Ohio",
          "Pennsylvania",
          "Florida",
          "New York",
          "Delaware",
          "Maryland",
          "Connecticut",
          "Massachusetts",
          "Rhode Island",
          "New Jersey"
         ],
         "yaxis": "y"
        }
       ],
       "layout": {
        "barmode": "relative",
        "height": 900,
        "legend": {
         "tracegroupgap": 0
        },
        "margin": {
         "t": 60
        },
        "template": {
         "data": {
          "bar": [
           {
            "error_x": {
             "color": "#2a3f5f"
            },
            "error_y": {
             "color": "#2a3f5f"
            },
            "marker": {
             "line": {
              "color": "#E5ECF6",
              "width": 0.5
             }
            },
            "type": "bar"
           }
          ],
          "barpolar": [
           {
            "marker": {
             "line": {
              "color": "#E5ECF6",
              "width": 0.5
             }
            },
            "type": "barpolar"
           }
          ],
          "carpet": [
           {
            "aaxis": {
             "endlinecolor": "#2a3f5f",
             "gridcolor": "white",
             "linecolor": "white",
             "minorgridcolor": "white",
             "startlinecolor": "#2a3f5f"
            },
            "baxis": {
             "endlinecolor": "#2a3f5f",
             "gridcolor": "white",
             "linecolor": "white",
             "minorgridcolor": "white",
             "startlinecolor": "#2a3f5f"
            },
            "type": "carpet"
           }
          ],
          "choropleth": [
           {
            "colorbar": {
             "outlinewidth": 0,
             "ticks": ""
            },
            "type": "choropleth"
           }
          ],
          "contour": [
           {
            "colorbar": {
             "outlinewidth": 0,
             "ticks": ""
            },
            "colorscale": [
             [
              0,
              "#0d0887"
             ],
             [
              0.1111111111111111,
              "#46039f"
             ],
             [
              0.2222222222222222,
              "#7201a8"
             ],
             [
              0.3333333333333333,
              "#9c179e"
             ],
             [
              0.4444444444444444,
              "#bd3786"
             ],
             [
              0.5555555555555556,
              "#d8576b"
             ],
             [
              0.6666666666666666,
              "#ed7953"
             ],
             [
              0.7777777777777778,
              "#fb9f3a"
             ],
             [
              0.8888888888888888,
              "#fdca26"
             ],
             [
              1,
              "#f0f921"
             ]
            ],
            "type": "contour"
           }
          ],
          "contourcarpet": [
           {
            "colorbar": {
             "outlinewidth": 0,
             "ticks": ""
            },
            "type": "contourcarpet"
           }
          ],
          "heatmap": [
           {
            "colorbar": {
             "outlinewidth": 0,
             "ticks": ""
            },
            "colorscale": [
             [
              0,
              "#0d0887"
             ],
             [
              0.1111111111111111,
              "#46039f"
             ],
             [
              0.2222222222222222,
              "#7201a8"
             ],
             [
              0.3333333333333333,
              "#9c179e"
             ],
             [
              0.4444444444444444,
              "#bd3786"
             ],
             [
              0.5555555555555556,
              "#d8576b"
             ],
             [
              0.6666666666666666,
              "#ed7953"
             ],
             [
              0.7777777777777778,
              "#fb9f3a"
             ],
             [
              0.8888888888888888,
              "#fdca26"
             ],
             [
              1,
              "#f0f921"
             ]
            ],
            "type": "heatmap"
           }
          ],
          "heatmapgl": [
           {
            "colorbar": {
             "outlinewidth": 0,
             "ticks": ""
            },
            "colorscale": [
             [
              0,
              "#0d0887"
             ],
             [
              0.1111111111111111,
              "#46039f"
             ],
             [
              0.2222222222222222,
              "#7201a8"
             ],
             [
              0.3333333333333333,
              "#9c179e"
             ],
             [
              0.4444444444444444,
              "#bd3786"
             ],
             [
              0.5555555555555556,
              "#d8576b"
             ],
             [
              0.6666666666666666,
              "#ed7953"
             ],
             [
              0.7777777777777778,
              "#fb9f3a"
             ],
             [
              0.8888888888888888,
              "#fdca26"
             ],
             [
              1,
              "#f0f921"
             ]
            ],
            "type": "heatmapgl"
           }
          ],
          "histogram": [
           {
            "marker": {
             "colorbar": {
              "outlinewidth": 0,
              "ticks": ""
             }
            },
            "type": "histogram"
           }
          ],
          "histogram2d": [
           {
            "colorbar": {
             "outlinewidth": 0,
             "ticks": ""
            },
            "colorscale": [
             [
              0,
              "#0d0887"
             ],
             [
              0.1111111111111111,
              "#46039f"
             ],
             [
              0.2222222222222222,
              "#7201a8"
             ],
             [
              0.3333333333333333,
              "#9c179e"
             ],
             [
              0.4444444444444444,
              "#bd3786"
             ],
             [
              0.5555555555555556,
              "#d8576b"
             ],
             [
              0.6666666666666666,
              "#ed7953"
             ],
             [
              0.7777777777777778,
              "#fb9f3a"
             ],
             [
              0.8888888888888888,
              "#fdca26"
             ],
             [
              1,
              "#f0f921"
             ]
            ],
            "type": "histogram2d"
           }
          ],
          "histogram2dcontour": [
           {
            "colorbar": {
             "outlinewidth": 0,
             "ticks": ""
            },
            "colorscale": [
             [
              0,
              "#0d0887"
             ],
             [
              0.1111111111111111,
              "#46039f"
             ],
             [
              0.2222222222222222,
              "#7201a8"
             ],
             [
              0.3333333333333333,
              "#9c179e"
             ],
             [
              0.4444444444444444,
              "#bd3786"
             ],
             [
              0.5555555555555556,
              "#d8576b"
             ],
             [
              0.6666666666666666,
              "#ed7953"
             ],
             [
              0.7777777777777778,
              "#fb9f3a"
             ],
             [
              0.8888888888888888,
              "#fdca26"
             ],
             [
              1,
              "#f0f921"
             ]
            ],
            "type": "histogram2dcontour"
           }
          ],
          "mesh3d": [
           {
            "colorbar": {
             "outlinewidth": 0,
             "ticks": ""
            },
            "type": "mesh3d"
           }
          ],
          "parcoords": [
           {
            "line": {
             "colorbar": {
              "outlinewidth": 0,
              "ticks": ""
             }
            },
            "type": "parcoords"
           }
          ],
          "pie": [
           {
            "automargin": true,
            "type": "pie"
           }
          ],
          "scatter": [
           {
            "marker": {
             "colorbar": {
              "outlinewidth": 0,
              "ticks": ""
             }
            },
            "type": "scatter"
           }
          ],
          "scatter3d": [
           {
            "line": {
             "colorbar": {
              "outlinewidth": 0,
              "ticks": ""
             }
            },
            "marker": {
             "colorbar": {
              "outlinewidth": 0,
              "ticks": ""
             }
            },
            "type": "scatter3d"
           }
          ],
          "scattercarpet": [
           {
            "marker": {
             "colorbar": {
              "outlinewidth": 0,
              "ticks": ""
             }
            },
            "type": "scattercarpet"
           }
          ],
          "scattergeo": [
           {
            "marker": {
             "colorbar": {
              "outlinewidth": 0,
              "ticks": ""
             }
            },
            "type": "scattergeo"
           }
          ],
          "scattergl": [
           {
            "marker": {
             "colorbar": {
              "outlinewidth": 0,
              "ticks": ""
             }
            },
            "type": "scattergl"
           }
          ],
          "scattermapbox": [
           {
            "marker": {
             "colorbar": {
              "outlinewidth": 0,
              "ticks": ""
             }
            },
            "type": "scattermapbox"
           }
          ],
          "scatterpolar": [
           {
            "marker": {
             "colorbar": {
              "outlinewidth": 0,
              "ticks": ""
             }
            },
            "type": "scatterpolar"
           }
          ],
          "scatterpolargl": [
           {
            "marker": {
             "colorbar": {
              "outlinewidth": 0,
              "ticks": ""
             }
            },
            "type": "scatterpolargl"
           }
          ],
          "scatterternary": [
           {
            "marker": {
             "colorbar": {
              "outlinewidth": 0,
              "ticks": ""
             }
            },
            "type": "scatterternary"
           }
          ],
          "surface": [
           {
            "colorbar": {
             "outlinewidth": 0,
             "ticks": ""
            },
            "colorscale": [
             [
              0,
              "#0d0887"
             ],
             [
              0.1111111111111111,
              "#46039f"
             ],
             [
              0.2222222222222222,
              "#7201a8"
             ],
             [
              0.3333333333333333,
              "#9c179e"
             ],
             [
              0.4444444444444444,
              "#bd3786"
             ],
             [
              0.5555555555555556,
              "#d8576b"
             ],
             [
              0.6666666666666666,
              "#ed7953"
             ],
             [
              0.7777777777777778,
              "#fb9f3a"
             ],
             [
              0.8888888888888888,
              "#fdca26"
             ],
             [
              1,
              "#f0f921"
             ]
            ],
            "type": "surface"
           }
          ],
          "table": [
           {
            "cells": {
             "fill": {
              "color": "#EBF0F8"
             },
             "line": {
              "color": "white"
             }
            },
            "header": {
             "fill": {
              "color": "#C8D4E3"
             },
             "line": {
              "color": "white"
             }
            },
            "type": "table"
           }
          ]
         },
         "layout": {
          "annotationdefaults": {
           "arrowcolor": "#2a3f5f",
           "arrowhead": 0,
           "arrowwidth": 1
          },
          "coloraxis": {
           "colorbar": {
            "outlinewidth": 0,
            "ticks": ""
           }
          },
          "colorscale": {
           "diverging": [
            [
             0,
             "#8e0152"
            ],
            [
             0.1,
             "#c51b7d"
            ],
            [
             0.2,
             "#de77ae"
            ],
            [
             0.3,
             "#f1b6da"
            ],
            [
             0.4,
             "#fde0ef"
            ],
            [
             0.5,
             "#f7f7f7"
            ],
            [
             0.6,
             "#e6f5d0"
            ],
            [
             0.7,
             "#b8e186"
            ],
            [
             0.8,
             "#7fbc41"
            ],
            [
             0.9,
             "#4d9221"
            ],
            [
             1,
             "#276419"
            ]
           ],
           "sequential": [
            [
             0,
             "#0d0887"
            ],
            [
             0.1111111111111111,
             "#46039f"
            ],
            [
             0.2222222222222222,
             "#7201a8"
            ],
            [
             0.3333333333333333,
             "#9c179e"
            ],
            [
             0.4444444444444444,
             "#bd3786"
            ],
            [
             0.5555555555555556,
             "#d8576b"
            ],
            [
             0.6666666666666666,
             "#ed7953"
            ],
            [
             0.7777777777777778,
             "#fb9f3a"
            ],
            [
             0.8888888888888888,
             "#fdca26"
            ],
            [
             1,
             "#f0f921"
            ]
           ],
           "sequentialminus": [
            [
             0,
             "#0d0887"
            ],
            [
             0.1111111111111111,
             "#46039f"
            ],
            [
             0.2222222222222222,
             "#7201a8"
            ],
            [
             0.3333333333333333,
             "#9c179e"
            ],
            [
             0.4444444444444444,
             "#bd3786"
            ],
            [
             0.5555555555555556,
             "#d8576b"
            ],
            [
             0.6666666666666666,
             "#ed7953"
            ],
            [
             0.7777777777777778,
             "#fb9f3a"
            ],
            [
             0.8888888888888888,
             "#fdca26"
            ],
            [
             1,
             "#f0f921"
            ]
           ]
          },
          "colorway": [
           "#636efa",
           "#EF553B",
           "#00cc96",
           "#ab63fa",
           "#FFA15A",
           "#19d3f3",
           "#FF6692",
           "#B6E880",
           "#FF97FF",
           "#FECB52"
          ],
          "font": {
           "color": "#2a3f5f"
          },
          "geo": {
           "bgcolor": "white",
           "lakecolor": "white",
           "landcolor": "#E5ECF6",
           "showlakes": true,
           "showland": true,
           "subunitcolor": "white"
          },
          "hoverlabel": {
           "align": "left"
          },
          "hovermode": "closest",
          "mapbox": {
           "style": "light"
          },
          "paper_bgcolor": "white",
          "plot_bgcolor": "#E5ECF6",
          "polar": {
           "angularaxis": {
            "gridcolor": "white",
            "linecolor": "white",
            "ticks": ""
           },
           "bgcolor": "#E5ECF6",
           "radialaxis": {
            "gridcolor": "white",
            "linecolor": "white",
            "ticks": ""
           }
          },
          "scene": {
           "xaxis": {
            "backgroundcolor": "#E5ECF6",
            "gridcolor": "white",
            "gridwidth": 2,
            "linecolor": "white",
            "showbackground": true,
            "ticks": "",
            "zerolinecolor": "white"
           },
           "yaxis": {
            "backgroundcolor": "#E5ECF6",
            "gridcolor": "white",
            "gridwidth": 2,
            "linecolor": "white",
            "showbackground": true,
            "ticks": "",
            "zerolinecolor": "white"
           },
           "zaxis": {
            "backgroundcolor": "#E5ECF6",
            "gridcolor": "white",
            "gridwidth": 2,
            "linecolor": "white",
            "showbackground": true,
            "ticks": "",
            "zerolinecolor": "white"
           }
          },
          "shapedefaults": {
           "line": {
            "color": "#2a3f5f"
           }
          },
          "ternary": {
           "aaxis": {
            "gridcolor": "white",
            "linecolor": "white",
            "ticks": ""
           },
           "baxis": {
            "gridcolor": "white",
            "linecolor": "white",
            "ticks": ""
           },
           "bgcolor": "#E5ECF6",
           "caxis": {
            "gridcolor": "white",
            "linecolor": "white",
            "ticks": ""
           }
          },
          "title": {
           "x": 0.05
          },
          "xaxis": {
           "automargin": true,
           "gridcolor": "white",
           "linecolor": "white",
           "ticks": "",
           "title": {
            "standoff": 15
           },
           "zerolinecolor": "white",
           "zerolinewidth": 2
          },
          "yaxis": {
           "automargin": true,
           "gridcolor": "white",
           "linecolor": "white",
           "ticks": "",
           "title": {
            "standoff": 15
           },
           "zerolinecolor": "white",
           "zerolinewidth": 2
          }
         }
        },
        "width": 900,
        "xaxis": {
         "anchor": "y",
         "domain": [
          0,
          1
         ],
         "title": {
          "text": "Population Density [inhabitants per square mi]"
         }
        },
        "yaxis": {
         "anchor": "x",
         "domain": [
          0,
          1
         ],
         "title": {
          "text": "State"
         }
        }
       }
      },
      "text/html": [
       "<div>\n",
       "        \n",
       "        \n",
       "            <div id=\"03767ce5-4e1b-469a-a89c-3c8554b41073\" class=\"plotly-graph-div\" style=\"height:900px; width:900px;\"></div>\n",
       "            <script type=\"text/javascript\">\n",
       "                require([\"plotly\"], function(Plotly) {\n",
       "                    window.PLOTLYENV=window.PLOTLYENV || {};\n",
       "                    \n",
       "                if (document.getElementById(\"03767ce5-4e1b-469a-a89c-3c8554b41073\")) {\n",
       "                    Plotly.newPlot(\n",
       "                        '03767ce5-4e1b-469a-a89c-3c8554b41073',\n",
       "                        [{\"alignmentgroup\": \"True\", \"hovertemplate\": \"Population Density [inhabitants per square mi]=%{x}<br>State=%{y}<extra></extra>\", \"legendgroup\": \"\", \"marker\": {\"color\": \"#636efa\"}, \"name\": \"\", \"offsetgroup\": \"\", \"orientation\": \"h\", \"showlegend\": false, \"textposition\": \"auto\", \"type\": \"bar\", \"x\": [6.0, 7.1, 11.0, 11.3, 17.2, 20.0, 24.7, 26.3, 35.6, 36.5, 42.0, 43.1, 52.6, 55.9, 57.0, 57.2, 60.1, 63.8, 67.7, 69.0, 76.6, 88.3, 95.8, 104.9, 106.3, 107.2, 107.8, 111.4, 148.4, 160.1, 162.6, 174.7, 176.4, 184.6, 206.2, 211.7, 231.4, 251.0, 283.6, 285.7, 375.9, 419.3, 484.1, 614.5, 741.2, 866.6, 1010.8, 1207.8], \"xaxis\": \"x\", \"y\": [\"Wyoming\", \"Montana\", \"North Dakota\", \"South Dakota\", \"New Mexico\", \"Idaho\", \"Nebraska\", \"Nevada\", \"Kansas\", \"Utah\", \"Oregon\", \"Maine\", \"Colorado\", \"Iowa\", \"Oklahoma\", \"Arkansas\", \"Arizona\", \"Mississippi\", \"Vermont\", \"Minnesota\", \"West Virginia\", \"Missouri\", \"Alabama\", \"Texas\", \"Wisconsin\", \"Louisiana\", \"Washington\", \"Kentucky\", \"New Hampshire\", \"Tennessee\", \"South Carolina\", \"Michigan\", \"Georgia\", \"Indiana\", \"North Carolina\", \"Virginia\", \"Illinois\", \"California\", \"Ohio\", \"Pennsylvania\", \"Florida\", \"New York\", \"Delaware\", \"Maryland\", \"Connecticut\", \"Massachusetts\", \"Rhode Island\", \"New Jersey\"], \"yaxis\": \"y\"}],\n",
       "                        {\"barmode\": \"relative\", \"height\": 900, \"legend\": {\"tracegroupgap\": 0}, \"margin\": {\"t\": 60}, \"template\": {\"data\": {\"bar\": [{\"error_x\": {\"color\": \"#2a3f5f\"}, \"error_y\": {\"color\": \"#2a3f5f\"}, \"marker\": {\"line\": {\"color\": \"#E5ECF6\", \"width\": 0.5}}, \"type\": \"bar\"}], \"barpolar\": [{\"marker\": {\"line\": {\"color\": \"#E5ECF6\", \"width\": 0.5}}, \"type\": \"barpolar\"}], \"carpet\": [{\"aaxis\": {\"endlinecolor\": \"#2a3f5f\", \"gridcolor\": \"white\", \"linecolor\": \"white\", \"minorgridcolor\": \"white\", \"startlinecolor\": \"#2a3f5f\"}, \"baxis\": {\"endlinecolor\": \"#2a3f5f\", \"gridcolor\": \"white\", \"linecolor\": \"white\", \"minorgridcolor\": \"white\", \"startlinecolor\": \"#2a3f5f\"}, \"type\": \"carpet\"}], \"choropleth\": [{\"colorbar\": {\"outlinewidth\": 0, \"ticks\": \"\"}, \"type\": \"choropleth\"}], \"contour\": [{\"colorbar\": {\"outlinewidth\": 0, \"ticks\": \"\"}, \"colorscale\": [[0.0, \"#0d0887\"], [0.1111111111111111, \"#46039f\"], [0.2222222222222222, \"#7201a8\"], [0.3333333333333333, \"#9c179e\"], [0.4444444444444444, \"#bd3786\"], [0.5555555555555556, \"#d8576b\"], [0.6666666666666666, \"#ed7953\"], [0.7777777777777778, \"#fb9f3a\"], [0.8888888888888888, \"#fdca26\"], [1.0, \"#f0f921\"]], \"type\": \"contour\"}], \"contourcarpet\": [{\"colorbar\": {\"outlinewidth\": 0, \"ticks\": \"\"}, \"type\": \"contourcarpet\"}], \"heatmap\": [{\"colorbar\": {\"outlinewidth\": 0, \"ticks\": \"\"}, \"colorscale\": [[0.0, \"#0d0887\"], [0.1111111111111111, \"#46039f\"], [0.2222222222222222, \"#7201a8\"], [0.3333333333333333, \"#9c179e\"], [0.4444444444444444, \"#bd3786\"], [0.5555555555555556, \"#d8576b\"], [0.6666666666666666, \"#ed7953\"], [0.7777777777777778, \"#fb9f3a\"], [0.8888888888888888, \"#fdca26\"], [1.0, \"#f0f921\"]], \"type\": \"heatmap\"}], \"heatmapgl\": [{\"colorbar\": {\"outlinewidth\": 0, \"ticks\": \"\"}, \"colorscale\": [[0.0, \"#0d0887\"], [0.1111111111111111, \"#46039f\"], [0.2222222222222222, \"#7201a8\"], [0.3333333333333333, \"#9c179e\"], [0.4444444444444444, \"#bd3786\"], [0.5555555555555556, \"#d8576b\"], [0.6666666666666666, \"#ed7953\"], [0.7777777777777778, \"#fb9f3a\"], [0.8888888888888888, \"#fdca26\"], [1.0, \"#f0f921\"]], \"type\": \"heatmapgl\"}], \"histogram\": [{\"marker\": {\"colorbar\": {\"outlinewidth\": 0, \"ticks\": \"\"}}, \"type\": \"histogram\"}], \"histogram2d\": [{\"colorbar\": {\"outlinewidth\": 0, \"ticks\": \"\"}, \"colorscale\": [[0.0, \"#0d0887\"], [0.1111111111111111, \"#46039f\"], [0.2222222222222222, \"#7201a8\"], [0.3333333333333333, \"#9c179e\"], [0.4444444444444444, \"#bd3786\"], [0.5555555555555556, \"#d8576b\"], [0.6666666666666666, \"#ed7953\"], [0.7777777777777778, \"#fb9f3a\"], [0.8888888888888888, \"#fdca26\"], [1.0, \"#f0f921\"]], \"type\": \"histogram2d\"}], \"histogram2dcontour\": [{\"colorbar\": {\"outlinewidth\": 0, \"ticks\": \"\"}, \"colorscale\": [[0.0, \"#0d0887\"], [0.1111111111111111, \"#46039f\"], [0.2222222222222222, \"#7201a8\"], [0.3333333333333333, \"#9c179e\"], [0.4444444444444444, \"#bd3786\"], [0.5555555555555556, \"#d8576b\"], [0.6666666666666666, \"#ed7953\"], [0.7777777777777778, \"#fb9f3a\"], [0.8888888888888888, \"#fdca26\"], [1.0, \"#f0f921\"]], \"type\": \"histogram2dcontour\"}], \"mesh3d\": [{\"colorbar\": {\"outlinewidth\": 0, \"ticks\": \"\"}, \"type\": \"mesh3d\"}], \"parcoords\": [{\"line\": {\"colorbar\": {\"outlinewidth\": 0, \"ticks\": \"\"}}, \"type\": \"parcoords\"}], \"pie\": [{\"automargin\": true, \"type\": \"pie\"}], \"scatter\": [{\"marker\": {\"colorbar\": {\"outlinewidth\": 0, \"ticks\": \"\"}}, \"type\": \"scatter\"}], \"scatter3d\": [{\"line\": {\"colorbar\": {\"outlinewidth\": 0, \"ticks\": \"\"}}, \"marker\": {\"colorbar\": {\"outlinewidth\": 0, \"ticks\": \"\"}}, \"type\": \"scatter3d\"}], \"scattercarpet\": [{\"marker\": {\"colorbar\": {\"outlinewidth\": 0, \"ticks\": \"\"}}, \"type\": \"scattercarpet\"}], \"scattergeo\": [{\"marker\": {\"colorbar\": {\"outlinewidth\": 0, \"ticks\": \"\"}}, \"type\": \"scattergeo\"}], \"scattergl\": [{\"marker\": {\"colorbar\": {\"outlinewidth\": 0, \"ticks\": \"\"}}, \"type\": \"scattergl\"}], \"scattermapbox\": [{\"marker\": {\"colorbar\": {\"outlinewidth\": 0, \"ticks\": \"\"}}, \"type\": \"scattermapbox\"}], \"scatterpolar\": [{\"marker\": {\"colorbar\": {\"outlinewidth\": 0, \"ticks\": \"\"}}, \"type\": \"scatterpolar\"}], \"scatterpolargl\": [{\"marker\": {\"colorbar\": {\"outlinewidth\": 0, \"ticks\": \"\"}}, \"type\": \"scatterpolargl\"}], \"scatterternary\": [{\"marker\": {\"colorbar\": {\"outlinewidth\": 0, \"ticks\": \"\"}}, \"type\": \"scatterternary\"}], \"surface\": [{\"colorbar\": {\"outlinewidth\": 0, \"ticks\": \"\"}, \"colorscale\": [[0.0, \"#0d0887\"], [0.1111111111111111, \"#46039f\"], [0.2222222222222222, \"#7201a8\"], [0.3333333333333333, \"#9c179e\"], [0.4444444444444444, \"#bd3786\"], [0.5555555555555556, \"#d8576b\"], [0.6666666666666666, \"#ed7953\"], [0.7777777777777778, \"#fb9f3a\"], [0.8888888888888888, \"#fdca26\"], [1.0, \"#f0f921\"]], \"type\": \"surface\"}], \"table\": [{\"cells\": {\"fill\": {\"color\": \"#EBF0F8\"}, \"line\": {\"color\": \"white\"}}, \"header\": {\"fill\": {\"color\": \"#C8D4E3\"}, \"line\": {\"color\": \"white\"}}, \"type\": \"table\"}]}, \"layout\": {\"annotationdefaults\": {\"arrowcolor\": \"#2a3f5f\", \"arrowhead\": 0, \"arrowwidth\": 1}, \"coloraxis\": {\"colorbar\": {\"outlinewidth\": 0, \"ticks\": \"\"}}, \"colorscale\": {\"diverging\": [[0, \"#8e0152\"], [0.1, \"#c51b7d\"], [0.2, \"#de77ae\"], [0.3, \"#f1b6da\"], [0.4, \"#fde0ef\"], [0.5, \"#f7f7f7\"], [0.6, \"#e6f5d0\"], [0.7, \"#b8e186\"], [0.8, \"#7fbc41\"], [0.9, \"#4d9221\"], [1, \"#276419\"]], \"sequential\": [[0.0, \"#0d0887\"], [0.1111111111111111, \"#46039f\"], [0.2222222222222222, \"#7201a8\"], [0.3333333333333333, \"#9c179e\"], [0.4444444444444444, \"#bd3786\"], [0.5555555555555556, \"#d8576b\"], [0.6666666666666666, \"#ed7953\"], [0.7777777777777778, \"#fb9f3a\"], [0.8888888888888888, \"#fdca26\"], [1.0, \"#f0f921\"]], \"sequentialminus\": [[0.0, \"#0d0887\"], [0.1111111111111111, \"#46039f\"], [0.2222222222222222, \"#7201a8\"], [0.3333333333333333, \"#9c179e\"], [0.4444444444444444, \"#bd3786\"], [0.5555555555555556, \"#d8576b\"], [0.6666666666666666, \"#ed7953\"], [0.7777777777777778, \"#fb9f3a\"], [0.8888888888888888, \"#fdca26\"], [1.0, \"#f0f921\"]]}, \"colorway\": [\"#636efa\", \"#EF553B\", \"#00cc96\", \"#ab63fa\", \"#FFA15A\", \"#19d3f3\", \"#FF6692\", \"#B6E880\", \"#FF97FF\", \"#FECB52\"], \"font\": {\"color\": \"#2a3f5f\"}, \"geo\": {\"bgcolor\": \"white\", \"lakecolor\": \"white\", \"landcolor\": \"#E5ECF6\", \"showlakes\": true, \"showland\": true, \"subunitcolor\": \"white\"}, \"hoverlabel\": {\"align\": \"left\"}, \"hovermode\": \"closest\", \"mapbox\": {\"style\": \"light\"}, \"paper_bgcolor\": \"white\", \"plot_bgcolor\": \"#E5ECF6\", \"polar\": {\"angularaxis\": {\"gridcolor\": \"white\", \"linecolor\": \"white\", \"ticks\": \"\"}, \"bgcolor\": \"#E5ECF6\", \"radialaxis\": {\"gridcolor\": \"white\", \"linecolor\": \"white\", \"ticks\": \"\"}}, \"scene\": {\"xaxis\": {\"backgroundcolor\": \"#E5ECF6\", \"gridcolor\": \"white\", \"gridwidth\": 2, \"linecolor\": \"white\", \"showbackground\": true, \"ticks\": \"\", \"zerolinecolor\": \"white\"}, \"yaxis\": {\"backgroundcolor\": \"#E5ECF6\", \"gridcolor\": \"white\", \"gridwidth\": 2, \"linecolor\": \"white\", \"showbackground\": true, \"ticks\": \"\", \"zerolinecolor\": \"white\"}, \"zaxis\": {\"backgroundcolor\": \"#E5ECF6\", \"gridcolor\": \"white\", \"gridwidth\": 2, \"linecolor\": \"white\", \"showbackground\": true, \"ticks\": \"\", \"zerolinecolor\": \"white\"}}, \"shapedefaults\": {\"line\": {\"color\": \"#2a3f5f\"}}, \"ternary\": {\"aaxis\": {\"gridcolor\": \"white\", \"linecolor\": \"white\", \"ticks\": \"\"}, \"baxis\": {\"gridcolor\": \"white\", \"linecolor\": \"white\", \"ticks\": \"\"}, \"bgcolor\": \"#E5ECF6\", \"caxis\": {\"gridcolor\": \"white\", \"linecolor\": \"white\", \"ticks\": \"\"}}, \"title\": {\"x\": 0.05}, \"xaxis\": {\"automargin\": true, \"gridcolor\": \"white\", \"linecolor\": \"white\", \"ticks\": \"\", \"title\": {\"standoff\": 15}, \"zerolinecolor\": \"white\", \"zerolinewidth\": 2}, \"yaxis\": {\"automargin\": true, \"gridcolor\": \"white\", \"linecolor\": \"white\", \"ticks\": \"\", \"title\": {\"standoff\": 15}, \"zerolinecolor\": \"white\", \"zerolinewidth\": 2}}}, \"width\": 900, \"xaxis\": {\"anchor\": \"y\", \"domain\": [0.0, 1.0], \"title\": {\"text\": \"Population Density [inhabitants per square mi]\"}}, \"yaxis\": {\"anchor\": \"x\", \"domain\": [0.0, 1.0], \"title\": {\"text\": \"State\"}}},\n",
       "                        {\"responsive\": true}\n",
       "                    ).then(function(){\n",
       "                            \n",
       "var gd = document.getElementById('03767ce5-4e1b-469a-a89c-3c8554b41073');\n",
       "var x = new MutationObserver(function (mutations, observer) {{\n",
       "        var display = window.getComputedStyle(gd).display;\n",
       "        if (!display || display === 'none') {{\n",
       "            console.log([gd, 'removed!']);\n",
       "            Plotly.purge(gd);\n",
       "            observer.disconnect();\n",
       "        }}\n",
       "}});\n",
       "\n",
       "// Listen for the removal of the full notebook cells\n",
       "var notebookContainer = gd.closest('#notebook-container');\n",
       "if (notebookContainer) {{\n",
       "    x.observe(notebookContainer, {childList: true});\n",
       "}}\n",
       "\n",
       "// Listen for the clearing of the current output cell\n",
       "var outputEl = gd.closest('.output');\n",
       "if (outputEl) {{\n",
       "    x.observe(outputEl, {childList: true});\n",
       "}}\n",
       "\n",
       "                        })\n",
       "                };\n",
       "                });\n",
       "            </script>\n",
       "        </div>"
      ]
     },
     "metadata": {},
     "output_type": "display_data"
    }
   ],
   "source": [
    "population_density = population_density.sort_values(by=['Density'])\n",
    "fig = px.bar(population_density, y=\"State\", x=\"Density\", orientation='h',height=900,width=900,labels={'Density':'Population Density [inhabitants per square mi]','State':'State'})\n",
    "fig.show()"
   ]
  },
  {
   "cell_type": "code",
   "execution_count": 548,
   "metadata": {
    "colab": {},
    "colab_type": "code",
    "id": "8jtG_p8dwwXs"
   },
   "outputs": [],
   "source": [
    "G=dgl.DGLGraph()"
   ]
  },
  {
   "cell_type": "code",
   "execution_count": 549,
   "metadata": {
    "colab": {},
    "colab_type": "code",
    "id": "D__CS6ra7kz-"
   },
   "outputs": [],
   "source": [
    "G.add_nodes(48)"
   ]
  },
  {
   "cell_type": "code",
   "execution_count": 550,
   "metadata": {
    "colab": {},
    "colab_type": "code",
    "id": "Nu-EoDET1qG-"
   },
   "outputs": [],
   "source": [
    "def build_map():\n",
    "  src=np.array([0 ,0 ,0 ,0 ,\n",
    "                1 ,1 ,1 ,1 ,\n",
    "                2 ,2 ,2 ,2 ,2 ,2 ,\n",
    "                3 ,3 ,3 ,\n",
    "                4 ,4 ,4 ,4 ,4 ,4 ,\n",
    "                5 ,5 ,5 ,\n",
    "                6 ,6 ,6 ,\n",
    "                7 ,7 , \n",
    "                8 ,8 ,8 ,8 ,8 , \n",
    "                9 ,9 ,9 ,9 ,9 ,9 , \n",
    "                10 ,10 ,10 ,10 ,10 ,\n",
    "                11 ,11 ,11 ,11 ,\n",
    "                12 ,12 ,12 ,12 ,12 ,12 ,\n",
    "                13 ,13 ,13 ,13 ,\n",
    "                14  ,14 ,14 ,14 ,14 ,14 ,14 ,\n",
    "                15 , 15 ,15 ,\n",
    "                16 ,\n",
    "                17 ,17 ,17 ,17 , \n",
    "                18 ,18 ,18 ,18 , 18 ,\n",
    "                19 ,19 ,19 ,\n",
    "                20 ,20 ,20 ,20 ,\n",
    "                21 ,21 ,21 ,21 ,\n",
    "                22 ,22 ,22 ,22 ,22 ,22 ,22 ,22 ,\n",
    "                23 ,23 ,23 ,23 ,\n",
    "                24 ,24 ,24 ,24 ,24 ,24 ,\n",
    "                25 ,25 ,25 ,25 ,25 ,\n",
    "                26 ,26 ,26 ,\n",
    "                27 ,27 ,27 ,\n",
    "                28 ,28 ,28 ,28 ,28 ,\n",
    "                29 ,29 ,29 ,29 ,29 ,\n",
    "                30 ,30 ,30 ,30 ,\n",
    "                31 ,31 ,31 ,\n",
    "                32 ,32 ,32 ,32 ,32 ,\n",
    "                33 ,33 ,33 ,33 ,33 ,33 ,\n",
    "                34 ,34 ,34 ,34 ,\n",
    "                35 ,35 ,35 ,35 ,35 ,35 ,\n",
    "                36 ,36 ,\n",
    "                37 ,37 ,\n",
    "                38 ,38 ,38 ,38 ,38 ,38 ,\n",
    "                39 ,39 ,39 ,39 ,39 ,39 ,39 ,39 ,\n",
    "                40 ,40 ,40 ,40 ,\n",
    "                41 ,41 ,41 ,41 ,41 ,41 ,\n",
    "                42 ,42 ,42 ,\n",
    "                43 ,43 ,43 ,43 ,43 ,\n",
    "                44 ,44 ,\n",
    "                45 ,45 ,45 ,45 ,45 ,\n",
    "                46 ,46 ,46 ,46 ,\n",
    "                47 ,47 ,47 ,47 ,47 ,47])\n",
    "  dst=np.array([ 21, 39, 7, 8,\n",
    "       3, 25, 41, 28,\n",
    "       15, 40, 33, 22, 39, 21,\n",
    "       34, 25, 1,\n",
    "       28, 41, 47, 24, 13, 33,\n",
    "       29, 18, 36,\n",
    "       17, 25, 27,\n",
    "       0, 8,\n",
    "       0, 7, 39, 37, 30, \n",
    "       25, 24, 44, 23, 47, 41,\n",
    "       22, 12, 46, 11, 14,\n",
    "       14, 10, 19, 32,\n",
    "       24, 38, 20, 46, 10, 22,\n",
    "       4, 24, 22, 33,\n",
    "       22, 10, 11, 32, 45, 43, 39,\n",
    "       40, 2, 21,\n",
    "       26,\n",
    "       45, 43, 35, 6,\n",
    "       29, 42, 26, 5, 36,\n",
    "       11, 32, 46,\n",
    "       31, 38, 12, 46,\n",
    "       15, 2, 39, 0,\n",
    "       33, 13, 24, 12, 10, 14, 39, 2,\n",
    "       9, 47, 31, 38,\n",
    "       4, 47, 38, 12, 22, 13,\n",
    "       1, 3, 34, 9, 41,\n",
    "       16, 42, 18,\n",
    "       6, 35, 29,\n",
    "       1, 41, 4, 33, 40,\n",
    "       35, 27, 42, 18, 5,\n",
    "       23, 38, 20,\n",
    "       19, 11, 14, 45, 35,\n",
    "       40, 28, 4, 13, 22, 2,\n",
    "       44, 9, 25, 3,\n",
    "       32, 45, 17, 27, 29,\n",
    "       5, 18,\n",
    "       8, 30,\n",
    "       47, 23, 31, 20, 12, 24,\n",
    "       21, 2, 22, 14, 43, 30, 8, 0,\n",
    "       28, 33, 2, 15,\n",
    "       28, 1, 25, 9, 47, 4,\n",
    "       26, 29, 18,\n",
    "       45, 17, 14, 39, 30,\n",
    "       9, 34,\n",
    "       32,  35, 17, 43, 14,\n",
    "       20, 12, 10, 19,\n",
    "       9, 23, 38, 24, 41, 4])\n",
    "  u=np.concatenate([src,dst])\n",
    "  v=np.concatenate([dst,src])\n",
    "  return dgl.DGLGraph((u,v))"
   ]
  },
  {
   "cell_type": "code",
   "execution_count": 551,
   "metadata": {
    "colab": {},
    "colab_type": "code",
    "id": "gNU08QT8X9fM"
   },
   "outputs": [],
   "source": [
    "G=build_map()"
   ]
  },
  {
   "cell_type": "code",
   "execution_count": 552,
   "metadata": {
    "colab": {
     "base_uri": "https://localhost:8080/",
     "height": 51
    },
    "colab_type": "code",
    "id": "Fa4QrYLEoCXr",
    "outputId": "d31daded-96b3-4989-e4ad-1267b98fa9ec"
   },
   "outputs": [
    {
     "name": "stdout",
     "output_type": "stream",
     "text": [
      "48\n",
      "419\n"
     ]
    }
   ],
   "source": [
    "print(G.number_of_nodes())\n",
    "print(G.number_of_edges())"
   ]
  },
  {
   "cell_type": "code",
   "execution_count": 553,
   "metadata": {
    "colab": {
     "base_uri": "https://localhost:8080/",
     "height": 319
    },
    "colab_type": "code",
    "id": "FvU3EOCX8Q9-",
    "outputId": "98bed555-ce10-46a9-ad28-838243ff5cff"
   },
   "outputs": [
    {
     "data": {
      "image/png": "[encoded data removed]",
      "text/plain": [
       "<Figure size 432x288 with 1 Axes>"
      ]
     },
     "metadata": {},
     "output_type": "display_data"
    }
   ],
   "source": [
    "nx_G = G.to_networkx().to_undirected()\n",
    "pos = nx.kamada_kawai_layout(nx_G)\n",
    "\n",
    "nx.draw(nx_G, pos, with_labels=True, node_color=[[.9, .3, .3]])"
   ]
  },
  {
   "cell_type": "code",
   "execution_count": 554,
   "metadata": {
    "colab": {},
    "colab_type": "code",
    "id": "CXfje1RtrS1J"
   },
   "outputs": [],
   "source": [
    "embed = nn.Embedding(48, 48)  "
   ]
  },
  {
   "cell_type": "code",
   "execution_count": 555,
   "metadata": {
    "colab": {},
    "colab_type": "code",
    "id": "fjJGvdnmUMDS"
   },
   "outputs": [],
   "source": [
    "x = torch.arange(0,48)\n",
    "G.ndata['feat'] =torch.nn.functional.one_hot(x)"
   ]
  },
  {
   "cell_type": "code",
   "execution_count": 566,
   "metadata": {
    "colab": {
     "base_uri": "https://localhost:8080/",
     "height": 51
    },
    "colab_type": "code",
    "id": "hRP5RXsMrivy",
    "outputId": "039678cd-888e-40e4-bbf9-ffdeddfc7026"
   },
   "outputs": [
    {
     "name": "stdout",
     "output_type": "stream",
     "text": [
      "tensor([ 0,  0,  0,  0,  0,  0,  0,  0,  0,  0,  0,  0,  0,  0,  0,  0,  0,  0,\n",
      "         0,  0,  0,  0,  0,  0,  0,  0,  0,  0,  0,  0,  0,  0,  0,  0,  0,  0,\n",
      "         0,  0,  0,  0,  0,  0,  0,  0,  0,  0,  0, 36])\n"
     ]
    }
   ],
   "source": [
    "for i in range(48):\n",
    "  G.ndata['feat'][i]=G.ndata['feat'][i]*population_density['Density'][i]\n",
    "\n",
    "\n",
    "print(G.ndata['feat'][47])"
   ]
  },
  {
   "cell_type": "code",
   "execution_count": 557,
   "metadata": {
    "colab": {},
    "colab_type": "code",
    "id": "RiULmJnUrson"
   },
   "outputs": [],
   "source": [
    "class GCN(nn.Module):\n",
    "    def __init__(self, in_feats, hidden_size, num_classes):\n",
    "        super(GCN, self).__init__()\n",
    "        self.conv1 = GraphConv(in_feats, hidden_size)\n",
    "        self.conv2 = GraphConv(hidden_size, num_classes)\n",
    "\n",
    "    def forward(self, g, inputs):\n",
    "        h = self.conv1(g, inputs)\n",
    "        h = torch.relu(h)\n",
    "        h = self.conv2(g, h)\n",
    "        return h\n",
    "\n",
    "\n",
    "net = GCN(48, 10, 5)"
   ]
  },
  {
   "cell_type": "code",
   "execution_count": 558,
   "metadata": {
    "colab": {},
    "colab_type": "code",
    "id": "QlogcVtdsAu-"
   },
   "outputs": [],
   "source": [
    "inputs = embed.weight\n",
    "#labeled_nodes = torch.tensor([3,17,13,18,4,1])  \n",
    "#labels = torch.tensor([0,0,1,1,2,2])\n",
    "\n",
    "sample = ground_truth_labels.sample(n = num_labels)\n",
    "\n",
    "training_labeled_nodes = torch.tensor(sample.index.to_numpy())\n",
    "training_labels = torch.tensor(sample['Label'].to_numpy())\n",
    "\n",
    "total_labeled_nodes = ground_truth_labels.index.to_numpy()\n",
    "total_labels = ground_truth_labels['Label'].to_numpy()"
   ]
  },
  {
   "cell_type": "code",
   "execution_count": 559,
   "metadata": {
    "colab": {},
    "colab_type": "code",
    "id": "DnXReHAnsfNS"
   },
   "outputs": [
    {
     "name": "stdout",
     "output_type": "stream",
     "text": [
      "Epoch 0 | Loss: 1.7960 | Accuracy: 25.0000\n",
      "Epoch 1 | Loss: 1.6077 | Accuracy: 25.0000\n",
      "Epoch 2 | Loss: 1.4595 | Accuracy: 25.0000\n",
      "Epoch 3 | Loss: 1.3370 | Accuracy: 29.1667\n",
      "Epoch 4 | Loss: 1.2329 | Accuracy: 29.1667\n",
      "Epoch 5 | Loss: 1.1405 | Accuracy: 20.8333\n",
      "Epoch 6 | Loss: 1.0552 | Accuracy: 25.0000\n",
      "Epoch 7 | Loss: 0.9717 | Accuracy: 22.9167\n",
      "Epoch 8 | Loss: 0.8912 | Accuracy: 25.0000\n",
      "Epoch 9 | Loss: 0.8105 | Accuracy: 27.0833\n",
      "Epoch 10 | Loss: 0.7292 | Accuracy: 27.0833\n",
      "Epoch 11 | Loss: 0.6491 | Accuracy: 27.0833\n",
      "Epoch 12 | Loss: 0.5707 | Accuracy: 27.0833\n",
      "Epoch 13 | Loss: 0.4950 | Accuracy: 27.0833\n",
      "Epoch 14 | Loss: 0.4221 | Accuracy: 27.0833\n",
      "Epoch 15 | Loss: 0.3537 | Accuracy: 27.0833\n",
      "Epoch 16 | Loss: 0.2902 | Accuracy: 25.0000\n",
      "Epoch 17 | Loss: 0.2333 | Accuracy: 25.0000\n",
      "Epoch 18 | Loss: 0.1840 | Accuracy: 25.0000\n",
      "Epoch 19 | Loss: 0.1419 | Accuracy: 25.0000\n",
      "Epoch 20 | Loss: 0.1075 | Accuracy: 22.9167\n",
      "Epoch 21 | Loss: 0.0805 | Accuracy: 22.9167\n",
      "Epoch 22 | Loss: 0.0599 | Accuracy: 20.8333\n",
      "Epoch 23 | Loss: 0.0446 | Accuracy: 20.8333\n",
      "Epoch 24 | Loss: 0.0333 | Accuracy: 22.9167\n",
      "Epoch 25 | Loss: 0.0251 | Accuracy: 22.9167\n",
      "Epoch 26 | Loss: 0.0191 | Accuracy: 22.9167\n",
      "Epoch 27 | Loss: 0.0148 | Accuracy: 22.9167\n",
      "Epoch 28 | Loss: 0.0116 | Accuracy: 20.8333\n",
      "Epoch 29 | Loss: 0.0092 | Accuracy: 20.8333\n",
      "Epoch 30 | Loss: 0.0074 | Accuracy: 20.8333\n",
      "Epoch 31 | Loss: 0.0060 | Accuracy: 20.8333\n",
      "Epoch 32 | Loss: 0.0049 | Accuracy: 20.8333\n",
      "Epoch 33 | Loss: 0.0041 | Accuracy: 20.8333\n",
      "Epoch 34 | Loss: 0.0035 | Accuracy: 20.8333\n",
      "Epoch 35 | Loss: 0.0029 | Accuracy: 16.6667\n",
      "Epoch 36 | Loss: 0.0025 | Accuracy: 16.6667\n",
      "Epoch 37 | Loss: 0.0022 | Accuracy: 16.6667\n",
      "Epoch 38 | Loss: 0.0019 | Accuracy: 16.6667\n",
      "Epoch 39 | Loss: 0.0017 | Accuracy: 16.6667\n",
      "Epoch 40 | Loss: 0.0015 | Accuracy: 16.6667\n",
      "Epoch 41 | Loss: 0.0013 | Accuracy: 16.6667\n",
      "Epoch 42 | Loss: 0.0012 | Accuracy: 16.6667\n",
      "Epoch 43 | Loss: 0.0011 | Accuracy: 16.6667\n",
      "Epoch 44 | Loss: 0.0010 | Accuracy: 16.6667\n",
      "Epoch 45 | Loss: 0.0009 | Accuracy: 16.6667\n",
      "Epoch 46 | Loss: 0.0008 | Accuracy: 16.6667\n",
      "Epoch 47 | Loss: 0.0008 | Accuracy: 16.6667\n",
      "Epoch 48 | Loss: 0.0007 | Accuracy: 16.6667\n",
      "Epoch 49 | Loss: 0.0007 | Accuracy: 16.6667\n",
      "Epoch 50 | Loss: 0.0006 | Accuracy: 16.6667\n",
      "Epoch 51 | Loss: 0.0006 | Accuracy: 16.6667\n",
      "Epoch 52 | Loss: 0.0006 | Accuracy: 18.7500\n",
      "Epoch 53 | Loss: 0.0005 | Accuracy: 18.7500\n",
      "Epoch 54 | Loss: 0.0005 | Accuracy: 18.7500\n",
      "Epoch 55 | Loss: 0.0005 | Accuracy: 18.7500\n",
      "Epoch 56 | Loss: 0.0005 | Accuracy: 18.7500\n",
      "Epoch 57 | Loss: 0.0005 | Accuracy: 18.7500\n",
      "Epoch 58 | Loss: 0.0004 | Accuracy: 18.7500\n",
      "Epoch 59 | Loss: 0.0004 | Accuracy: 18.7500\n",
      "Epoch 60 | Loss: 0.0004 | Accuracy: 18.7500\n",
      "Epoch 61 | Loss: 0.0004 | Accuracy: 18.7500\n",
      "Epoch 62 | Loss: 0.0004 | Accuracy: 18.7500\n",
      "Epoch 63 | Loss: 0.0004 | Accuracy: 18.7500\n",
      "Epoch 64 | Loss: 0.0004 | Accuracy: 18.7500\n",
      "Epoch 65 | Loss: 0.0004 | Accuracy: 18.7500\n",
      "Epoch 66 | Loss: 0.0003 | Accuracy: 18.7500\n",
      "Epoch 67 | Loss: 0.0003 | Accuracy: 18.7500\n",
      "Epoch 68 | Loss: 0.0003 | Accuracy: 18.7500\n",
      "Epoch 69 | Loss: 0.0003 | Accuracy: 18.7500\n",
      "Epoch 70 | Loss: 0.0003 | Accuracy: 18.7500\n",
      "Epoch 71 | Loss: 0.0003 | Accuracy: 18.7500\n",
      "Epoch 72 | Loss: 0.0003 | Accuracy: 18.7500\n",
      "Epoch 73 | Loss: 0.0003 | Accuracy: 18.7500\n",
      "Epoch 74 | Loss: 0.0003 | Accuracy: 18.7500\n",
      "Epoch 75 | Loss: 0.0003 | Accuracy: 18.7500\n",
      "Epoch 76 | Loss: 0.0003 | Accuracy: 20.8333\n",
      "Epoch 77 | Loss: 0.0003 | Accuracy: 20.8333\n",
      "Epoch 78 | Loss: 0.0003 | Accuracy: 20.8333\n",
      "Epoch 79 | Loss: 0.0003 | Accuracy: 20.8333\n",
      "Epoch 80 | Loss: 0.0003 | Accuracy: 20.8333\n",
      "Epoch 81 | Loss: 0.0003 | Accuracy: 20.8333\n",
      "Epoch 82 | Loss: 0.0003 | Accuracy: 20.8333\n",
      "Epoch 83 | Loss: 0.0003 | Accuracy: 20.8333\n",
      "Epoch 84 | Loss: 0.0003 | Accuracy: 20.8333\n",
      "Epoch 85 | Loss: 0.0003 | Accuracy: 20.8333\n",
      "Epoch 86 | Loss: 0.0003 | Accuracy: 20.8333\n",
      "Epoch 87 | Loss: 0.0003 | Accuracy: 20.8333\n",
      "Epoch 88 | Loss: 0.0003 | Accuracy: 20.8333\n",
      "Epoch 89 | Loss: 0.0003 | Accuracy: 20.8333\n",
      "Epoch 90 | Loss: 0.0003 | Accuracy: 20.8333\n",
      "Epoch 91 | Loss: 0.0003 | Accuracy: 20.8333\n",
      "Epoch 92 | Loss: 0.0003 | Accuracy: 20.8333\n",
      "Epoch 93 | Loss: 0.0003 | Accuracy: 20.8333\n",
      "Epoch 94 | Loss: 0.0002 | Accuracy: 20.8333\n",
      "Epoch 95 | Loss: 0.0002 | Accuracy: 20.8333\n",
      "Epoch 96 | Loss: 0.0002 | Accuracy: 20.8333\n",
      "Epoch 97 | Loss: 0.0002 | Accuracy: 20.8333\n",
      "Epoch 98 | Loss: 0.0002 | Accuracy: 20.8333\n",
      "Epoch 99 | Loss: 0.0002 | Accuracy: 20.8333\n",
      "Epoch 100 | Loss: 0.0002 | Accuracy: 20.8333\n",
      "Epoch 101 | Loss: 0.0002 | Accuracy: 20.8333\n",
      "Epoch 102 | Loss: 0.0002 | Accuracy: 20.8333\n",
      "Epoch 103 | Loss: 0.0002 | Accuracy: 20.8333\n",
      "Epoch 104 | Loss: 0.0002 | Accuracy: 20.8333\n",
      "Epoch 105 | Loss: 0.0002 | Accuracy: 20.8333\n",
      "Epoch 106 | Loss: 0.0002 | Accuracy: 20.8333\n",
      "Epoch 107 | Loss: 0.0002 | Accuracy: 20.8333\n",
      "Epoch 108 | Loss: 0.0002 | Accuracy: 20.8333\n",
      "Epoch 109 | Loss: 0.0002 | Accuracy: 20.8333\n",
      "Epoch 110 | Loss: 0.0002 | Accuracy: 20.8333\n",
      "Epoch 111 | Loss: 0.0002 | Accuracy: 20.8333\n",
      "Epoch 112 | Loss: 0.0002 | Accuracy: 20.8333\n",
      "Epoch 113 | Loss: 0.0002 | Accuracy: 20.8333\n",
      "Epoch 114 | Loss: 0.0002 | Accuracy: 20.8333\n",
      "Epoch 115 | Loss: 0.0002 | Accuracy: 20.8333\n",
      "Epoch 116 | Loss: 0.0002 | Accuracy: 20.8333\n",
      "Epoch 117 | Loss: 0.0002 | Accuracy: 20.8333\n",
      "Epoch 118 | Loss: 0.0002 | Accuracy: 20.8333\n",
      "Epoch 119 | Loss: 0.0002 | Accuracy: 20.8333\n",
      "Epoch 120 | Loss: 0.0002 | Accuracy: 20.8333\n",
      "Epoch 121 | Loss: 0.0002 | Accuracy: 20.8333\n",
      "Epoch 122 | Loss: 0.0002 | Accuracy: 20.8333\n",
      "Epoch 123 | Loss: 0.0002 | Accuracy: 20.8333\n",
      "Epoch 124 | Loss: 0.0002 | Accuracy: 20.8333\n",
      "Epoch 125 | Loss: 0.0002 | Accuracy: 20.8333\n",
      "Epoch 126 | Loss: 0.0002 | Accuracy: 20.8333\n",
      "Epoch 127 | Loss: 0.0002 | Accuracy: 20.8333\n",
      "Epoch 128 | Loss: 0.0002 | Accuracy: 20.8333\n",
      "Epoch 129 | Loss: 0.0002 | Accuracy: 20.8333\n",
      "Epoch 130 | Loss: 0.0002 | Accuracy: 20.8333\n",
      "Epoch 131 | Loss: 0.0002 | Accuracy: 20.8333\n",
      "Epoch 132 | Loss: 0.0002 | Accuracy: 20.8333\n",
      "Epoch 133 | Loss: 0.0002 | Accuracy: 20.8333\n",
      "Epoch 134 | Loss: 0.0002 | Accuracy: 20.8333\n",
      "Epoch 135 | Loss: 0.0002 | Accuracy: 20.8333\n",
      "Epoch 136 | Loss: 0.0002 | Accuracy: 20.8333\n",
      "Epoch 137 | Loss: 0.0002 | Accuracy: 20.8333\n",
      "Epoch 138 | Loss: 0.0002 | Accuracy: 20.8333\n",
      "Epoch 139 | Loss: 0.0002 | Accuracy: 20.8333\n",
      "Epoch 140 | Loss: 0.0002 | Accuracy: 20.8333\n",
      "Epoch 141 | Loss: 0.0002 | Accuracy: 20.8333\n",
      "Epoch 142 | Loss: 0.0002 | Accuracy: 20.8333\n",
      "Epoch 143 | Loss: 0.0002 | Accuracy: 20.8333\n",
      "Epoch 144 | Loss: 0.0002 | Accuracy: 20.8333\n",
      "Epoch 145 | Loss: 0.0002 | Accuracy: 20.8333\n",
      "Epoch 146 | Loss: 0.0002 | Accuracy: 20.8333\n",
      "Epoch 147 | Loss: 0.0002 | Accuracy: 20.8333\n",
      "Epoch 148 | Loss: 0.0002 | Accuracy: 20.8333\n",
      "Epoch 149 | Loss: 0.0002 | Accuracy: 20.8333\n",
      "Epoch 150 | Loss: 0.0002 | Accuracy: 20.8333\n",
      "Epoch 151 | Loss: 0.0002 | Accuracy: 20.8333\n",
      "Epoch 152 | Loss: 0.0002 | Accuracy: 20.8333\n",
      "Epoch 153 | Loss: 0.0002 | Accuracy: 20.8333\n",
      "Epoch 154 | Loss: 0.0002 | Accuracy: 20.8333\n",
      "Epoch 155 | Loss: 0.0002 | Accuracy: 20.8333\n",
      "Epoch 156 | Loss: 0.0002 | Accuracy: 20.8333\n",
      "Epoch 157 | Loss: 0.0002 | Accuracy: 20.8333\n",
      "Epoch 158 | Loss: 0.0002 | Accuracy: 20.8333\n",
      "Epoch 159 | Loss: 0.0002 | Accuracy: 20.8333\n",
      "Epoch 160 | Loss: 0.0002 | Accuracy: 20.8333\n",
      "Epoch 161 | Loss: 0.0002 | Accuracy: 20.8333\n",
      "Epoch 162 | Loss: 0.0002 | Accuracy: 20.8333\n",
      "Epoch 163 | Loss: 0.0002 | Accuracy: 20.8333\n",
      "Epoch 164 | Loss: 0.0002 | Accuracy: 20.8333\n",
      "Epoch 165 | Loss: 0.0002 | Accuracy: 20.8333\n",
      "Epoch 166 | Loss: 0.0002 | Accuracy: 20.8333\n",
      "Epoch 167 | Loss: 0.0002 | Accuracy: 20.8333\n",
      "Epoch 168 | Loss: 0.0002 | Accuracy: 20.8333\n",
      "Epoch 169 | Loss: 0.0002 | Accuracy: 20.8333\n",
      "Epoch 170 | Loss: 0.0002 | Accuracy: 20.8333\n",
      "Epoch 171 | Loss: 0.0002 | Accuracy: 20.8333\n",
      "Epoch 172 | Loss: 0.0002 | Accuracy: 20.8333\n",
      "Epoch 173 | Loss: 0.0002 | Accuracy: 20.8333\n",
      "Epoch 174 | Loss: 0.0002 | Accuracy: 20.8333\n",
      "Epoch 175 | Loss: 0.0002 | Accuracy: 20.8333\n",
      "Epoch 176 | Loss: 0.0002 | Accuracy: 20.8333\n",
      "Epoch 177 | Loss: 0.0002 | Accuracy: 20.8333\n",
      "Epoch 178 | Loss: 0.0002 | Accuracy: 20.8333\n",
      "Epoch 179 | Loss: 0.0002 | Accuracy: 20.8333\n",
      "Epoch 180 | Loss: 0.0002 | Accuracy: 20.8333\n",
      "Epoch 181 | Loss: 0.0002 | Accuracy: 20.8333\n",
      "Epoch 182 | Loss: 0.0002 | Accuracy: 20.8333\n",
      "Epoch 183 | Loss: 0.0002 | Accuracy: 20.8333\n",
      "Epoch 184 | Loss: 0.0002 | Accuracy: 20.8333\n"
     ]
    },
    {
     "name": "stdout",
     "output_type": "stream",
     "text": [
      "Epoch 185 | Loss: 0.0002 | Accuracy: 22.9167\n",
      "Epoch 186 | Loss: 0.0001 | Accuracy: 22.9167\n",
      "Epoch 187 | Loss: 0.0001 | Accuracy: 22.9167\n",
      "Epoch 188 | Loss: 0.0001 | Accuracy: 22.9167\n",
      "Epoch 189 | Loss: 0.0001 | Accuracy: 22.9167\n",
      "Epoch 190 | Loss: 0.0001 | Accuracy: 22.9167\n",
      "Epoch 191 | Loss: 0.0001 | Accuracy: 22.9167\n",
      "Epoch 192 | Loss: 0.0001 | Accuracy: 22.9167\n",
      "Epoch 193 | Loss: 0.0001 | Accuracy: 22.9167\n",
      "Epoch 194 | Loss: 0.0001 | Accuracy: 22.9167\n",
      "Epoch 195 | Loss: 0.0001 | Accuracy: 22.9167\n",
      "Epoch 196 | Loss: 0.0001 | Accuracy: 22.9167\n",
      "Epoch 197 | Loss: 0.0001 | Accuracy: 22.9167\n",
      "Epoch 198 | Loss: 0.0001 | Accuracy: 22.9167\n",
      "Epoch 199 | Loss: 0.0001 | Accuracy: 22.9167\n",
      "Epoch 200 | Loss: 0.0001 | Accuracy: 22.9167\n",
      "Epoch 201 | Loss: 0.0001 | Accuracy: 22.9167\n",
      "Epoch 202 | Loss: 0.0001 | Accuracy: 22.9167\n",
      "Epoch 203 | Loss: 0.0001 | Accuracy: 22.9167\n",
      "Epoch 204 | Loss: 0.0001 | Accuracy: 22.9167\n",
      "Epoch 205 | Loss: 0.0001 | Accuracy: 22.9167\n",
      "Epoch 206 | Loss: 0.0001 | Accuracy: 22.9167\n",
      "Epoch 207 | Loss: 0.0001 | Accuracy: 22.9167\n",
      "Epoch 208 | Loss: 0.0001 | Accuracy: 22.9167\n",
      "Epoch 209 | Loss: 0.0001 | Accuracy: 22.9167\n",
      "Epoch 210 | Loss: 0.0001 | Accuracy: 22.9167\n",
      "Epoch 211 | Loss: 0.0001 | Accuracy: 22.9167\n",
      "Epoch 212 | Loss: 0.0001 | Accuracy: 22.9167\n",
      "Epoch 213 | Loss: 0.0001 | Accuracy: 22.9167\n",
      "Epoch 214 | Loss: 0.0001 | Accuracy: 22.9167\n",
      "Epoch 215 | Loss: 0.0001 | Accuracy: 22.9167\n",
      "Epoch 216 | Loss: 0.0001 | Accuracy: 22.9167\n",
      "Epoch 217 | Loss: 0.0001 | Accuracy: 22.9167\n",
      "Epoch 218 | Loss: 0.0001 | Accuracy: 22.9167\n",
      "Epoch 219 | Loss: 0.0001 | Accuracy: 22.9167\n",
      "Epoch 220 | Loss: 0.0001 | Accuracy: 22.9167\n",
      "Epoch 221 | Loss: 0.0001 | Accuracy: 22.9167\n",
      "Epoch 222 | Loss: 0.0001 | Accuracy: 22.9167\n",
      "Epoch 223 | Loss: 0.0001 | Accuracy: 22.9167\n",
      "Epoch 224 | Loss: 0.0001 | Accuracy: 22.9167\n",
      "Epoch 225 | Loss: 0.0001 | Accuracy: 22.9167\n",
      "Epoch 226 | Loss: 0.0001 | Accuracy: 22.9167\n",
      "Epoch 227 | Loss: 0.0001 | Accuracy: 22.9167\n",
      "Epoch 228 | Loss: 0.0001 | Accuracy: 22.9167\n",
      "Epoch 229 | Loss: 0.0001 | Accuracy: 22.9167\n",
      "Epoch 230 | Loss: 0.0001 | Accuracy: 22.9167\n",
      "Epoch 231 | Loss: 0.0001 | Accuracy: 22.9167\n",
      "Epoch 232 | Loss: 0.0001 | Accuracy: 22.9167\n",
      "Epoch 233 | Loss: 0.0001 | Accuracy: 22.9167\n",
      "Epoch 234 | Loss: 0.0001 | Accuracy: 22.9167\n",
      "Epoch 235 | Loss: 0.0001 | Accuracy: 22.9167\n",
      "Epoch 236 | Loss: 0.0001 | Accuracy: 22.9167\n",
      "Epoch 237 | Loss: 0.0001 | Accuracy: 22.9167\n",
      "Epoch 238 | Loss: 0.0001 | Accuracy: 22.9167\n",
      "Epoch 239 | Loss: 0.0001 | Accuracy: 22.9167\n",
      "Epoch 240 | Loss: 0.0001 | Accuracy: 22.9167\n",
      "Epoch 241 | Loss: 0.0001 | Accuracy: 22.9167\n",
      "Epoch 242 | Loss: 0.0001 | Accuracy: 22.9167\n",
      "Epoch 243 | Loss: 0.0001 | Accuracy: 22.9167\n",
      "Epoch 244 | Loss: 0.0001 | Accuracy: 22.9167\n",
      "Epoch 245 | Loss: 0.0001 | Accuracy: 22.9167\n",
      "Epoch 246 | Loss: 0.0001 | Accuracy: 22.9167\n",
      "Epoch 247 | Loss: 0.0001 | Accuracy: 22.9167\n",
      "Epoch 248 | Loss: 0.0001 | Accuracy: 22.9167\n",
      "Epoch 249 | Loss: 0.0001 | Accuracy: 22.9167\n",
      "Epoch 250 | Loss: 0.0001 | Accuracy: 22.9167\n",
      "Epoch 251 | Loss: 0.0001 | Accuracy: 22.9167\n",
      "Epoch 252 | Loss: 0.0001 | Accuracy: 22.9167\n",
      "Epoch 253 | Loss: 0.0001 | Accuracy: 22.9167\n",
      "Epoch 254 | Loss: 0.0001 | Accuracy: 22.9167\n",
      "Epoch 255 | Loss: 0.0001 | Accuracy: 22.9167\n",
      "Epoch 256 | Loss: 0.0001 | Accuracy: 22.9167\n",
      "Epoch 257 | Loss: 0.0001 | Accuracy: 22.9167\n",
      "Epoch 258 | Loss: 0.0001 | Accuracy: 22.9167\n",
      "Epoch 259 | Loss: 0.0001 | Accuracy: 22.9167\n",
      "Epoch 260 | Loss: 0.0001 | Accuracy: 22.9167\n",
      "Epoch 261 | Loss: 0.0001 | Accuracy: 22.9167\n",
      "Epoch 262 | Loss: 0.0001 | Accuracy: 22.9167\n",
      "Epoch 263 | Loss: 0.0001 | Accuracy: 22.9167\n",
      "Epoch 264 | Loss: 0.0001 | Accuracy: 22.9167\n",
      "Epoch 265 | Loss: 0.0001 | Accuracy: 22.9167\n",
      "Epoch 266 | Loss: 0.0001 | Accuracy: 22.9167\n",
      "Epoch 267 | Loss: 0.0001 | Accuracy: 22.9167\n",
      "Epoch 268 | Loss: 0.0001 | Accuracy: 22.9167\n",
      "Epoch 269 | Loss: 0.0001 | Accuracy: 22.9167\n",
      "Epoch 270 | Loss: 0.0001 | Accuracy: 22.9167\n",
      "Epoch 271 | Loss: 0.0001 | Accuracy: 22.9167\n",
      "Epoch 272 | Loss: 0.0001 | Accuracy: 22.9167\n",
      "Epoch 273 | Loss: 0.0001 | Accuracy: 22.9167\n",
      "Epoch 274 | Loss: 0.0001 | Accuracy: 22.9167\n",
      "Epoch 275 | Loss: 0.0001 | Accuracy: 22.9167\n",
      "Epoch 276 | Loss: 0.0001 | Accuracy: 22.9167\n",
      "Epoch 277 | Loss: 0.0001 | Accuracy: 22.9167\n",
      "Epoch 278 | Loss: 0.0001 | Accuracy: 22.9167\n",
      "Epoch 279 | Loss: 0.0001 | Accuracy: 22.9167\n",
      "Epoch 280 | Loss: 0.0001 | Accuracy: 22.9167\n",
      "Epoch 281 | Loss: 0.0001 | Accuracy: 22.9167\n",
      "Epoch 282 | Loss: 0.0001 | Accuracy: 22.9167\n",
      "Epoch 283 | Loss: 0.0001 | Accuracy: 22.9167\n",
      "Epoch 284 | Loss: 0.0001 | Accuracy: 22.9167\n",
      "Epoch 285 | Loss: 0.0001 | Accuracy: 22.9167\n",
      "Epoch 286 | Loss: 0.0001 | Accuracy: 22.9167\n",
      "Epoch 287 | Loss: 0.0001 | Accuracy: 22.9167\n",
      "Epoch 288 | Loss: 0.0001 | Accuracy: 22.9167\n",
      "Epoch 289 | Loss: 0.0001 | Accuracy: 22.9167\n",
      "Epoch 290 | Loss: 0.0001 | Accuracy: 22.9167\n",
      "Epoch 291 | Loss: 0.0001 | Accuracy: 22.9167\n",
      "Epoch 292 | Loss: 0.0001 | Accuracy: 22.9167\n",
      "Epoch 293 | Loss: 0.0001 | Accuracy: 22.9167\n",
      "Epoch 294 | Loss: 0.0001 | Accuracy: 22.9167\n",
      "Epoch 295 | Loss: 0.0001 | Accuracy: 22.9167\n",
      "Epoch 296 | Loss: 0.0001 | Accuracy: 22.9167\n",
      "Epoch 297 | Loss: 0.0001 | Accuracy: 22.9167\n",
      "Epoch 298 | Loss: 0.0001 | Accuracy: 22.9167\n",
      "Epoch 299 | Loss: 0.0001 | Accuracy: 22.9167\n",
      "Epoch 300 | Loss: 0.0001 | Accuracy: 22.9167\n",
      "Epoch 301 | Loss: 0.0001 | Accuracy: 22.9167\n",
      "Epoch 302 | Loss: 0.0001 | Accuracy: 22.9167\n",
      "Epoch 303 | Loss: 0.0001 | Accuracy: 22.9167\n",
      "Epoch 304 | Loss: 0.0001 | Accuracy: 22.9167\n",
      "Epoch 305 | Loss: 0.0001 | Accuracy: 22.9167\n",
      "Epoch 306 | Loss: 0.0001 | Accuracy: 22.9167\n",
      "Epoch 307 | Loss: 0.0001 | Accuracy: 22.9167\n",
      "Epoch 308 | Loss: 0.0001 | Accuracy: 22.9167\n",
      "Epoch 309 | Loss: 0.0001 | Accuracy: 22.9167\n",
      "Epoch 310 | Loss: 0.0001 | Accuracy: 22.9167\n",
      "Epoch 311 | Loss: 0.0001 | Accuracy: 22.9167\n",
      "Epoch 312 | Loss: 0.0001 | Accuracy: 22.9167\n",
      "Epoch 313 | Loss: 0.0001 | Accuracy: 22.9167\n",
      "Epoch 314 | Loss: 0.0001 | Accuracy: 22.9167\n",
      "Epoch 315 | Loss: 0.0001 | Accuracy: 22.9167\n",
      "Epoch 316 | Loss: 0.0001 | Accuracy: 22.9167\n",
      "Epoch 317 | Loss: 0.0001 | Accuracy: 22.9167\n",
      "Epoch 318 | Loss: 0.0001 | Accuracy: 22.9167\n",
      "Epoch 319 | Loss: 0.0001 | Accuracy: 22.9167\n",
      "Epoch 320 | Loss: 0.0001 | Accuracy: 22.9167\n",
      "Epoch 321 | Loss: 0.0001 | Accuracy: 22.9167\n",
      "Epoch 322 | Loss: 0.0001 | Accuracy: 22.9167\n",
      "Epoch 323 | Loss: 0.0001 | Accuracy: 22.9167\n",
      "Epoch 324 | Loss: 0.0001 | Accuracy: 22.9167\n",
      "Epoch 325 | Loss: 0.0001 | Accuracy: 22.9167\n",
      "Epoch 326 | Loss: 0.0001 | Accuracy: 22.9167\n",
      "Epoch 327 | Loss: 0.0001 | Accuracy: 22.9167\n",
      "Epoch 328 | Loss: 0.0001 | Accuracy: 22.9167\n",
      "Epoch 329 | Loss: 0.0001 | Accuracy: 22.9167\n",
      "Epoch 330 | Loss: 0.0001 | Accuracy: 22.9167\n",
      "Epoch 331 | Loss: 0.0001 | Accuracy: 22.9167\n",
      "Epoch 332 | Loss: 0.0001 | Accuracy: 22.9167\n",
      "Epoch 333 | Loss: 0.0001 | Accuracy: 22.9167\n",
      "Epoch 334 | Loss: 0.0001 | Accuracy: 22.9167\n",
      "Epoch 335 | Loss: 0.0001 | Accuracy: 22.9167\n",
      "Epoch 336 | Loss: 0.0001 | Accuracy: 22.9167\n",
      "Epoch 337 | Loss: 0.0001 | Accuracy: 22.9167\n",
      "Epoch 338 | Loss: 0.0001 | Accuracy: 22.9167\n",
      "Epoch 339 | Loss: 0.0001 | Accuracy: 22.9167\n",
      "Epoch 340 | Loss: 0.0001 | Accuracy: 22.9167\n",
      "Epoch 341 | Loss: 0.0001 | Accuracy: 22.9167\n",
      "Epoch 342 | Loss: 0.0001 | Accuracy: 22.9167\n",
      "Epoch 343 | Loss: 0.0001 | Accuracy: 22.9167\n",
      "Epoch 344 | Loss: 0.0001 | Accuracy: 22.9167\n",
      "Epoch 345 | Loss: 0.0001 | Accuracy: 22.9167\n",
      "Epoch 346 | Loss: 0.0001 | Accuracy: 22.9167\n",
      "Epoch 347 | Loss: 0.0001 | Accuracy: 22.9167\n",
      "Epoch 348 | Loss: 0.0001 | Accuracy: 22.9167\n",
      "Epoch 349 | Loss: 0.0001 | Accuracy: 22.9167\n",
      "Epoch 350 | Loss: 0.0001 | Accuracy: 22.9167\n",
      "Epoch 351 | Loss: 0.0001 | Accuracy: 22.9167\n",
      "Epoch 352 | Loss: 0.0001 | Accuracy: 22.9167\n",
      "Epoch 353 | Loss: 0.0001 | Accuracy: 22.9167\n",
      "Epoch 354 | Loss: 0.0001 | Accuracy: 22.9167\n",
      "Epoch 355 | Loss: 0.0001 | Accuracy: 22.9167\n",
      "Epoch 356 | Loss: 0.0001 | Accuracy: 22.9167\n",
      "Epoch 357 | Loss: 0.0001 | Accuracy: 22.9167\n",
      "Epoch 358 | Loss: 0.0001 | Accuracy: 22.9167\n",
      "Epoch 359 | Loss: 0.0001 | Accuracy: 22.9167\n",
      "Epoch 360 | Loss: 0.0001 | Accuracy: 22.9167\n",
      "Epoch 361 | Loss: 0.0001 | Accuracy: 22.9167\n",
      "Epoch 362 | Loss: 0.0001 | Accuracy: 22.9167\n",
      "Epoch 363 | Loss: 0.0001 | Accuracy: 22.9167\n",
      "Epoch 364 | Loss: 0.0001 | Accuracy: 22.9167\n",
      "Epoch 365 | Loss: 0.0001 | Accuracy: 22.9167\n",
      "Epoch 366 | Loss: 0.0001 | Accuracy: 22.9167\n",
      "Epoch 367 | Loss: 0.0001 | Accuracy: 22.9167\n",
      "Epoch 368 | Loss: 0.0001 | Accuracy: 22.9167\n",
      "Epoch 369 | Loss: 0.0001 | Accuracy: 22.9167\n",
      "Epoch 370 | Loss: 0.0001 | Accuracy: 22.9167\n",
      "Epoch 371 | Loss: 0.0001 | Accuracy: 22.9167\n",
      "Epoch 372 | Loss: 0.0001 | Accuracy: 22.9167\n",
      "Epoch 373 | Loss: 0.0001 | Accuracy: 22.9167\n",
      "Epoch 374 | Loss: 0.0001 | Accuracy: 22.9167\n"
     ]
    },
    {
     "name": "stdout",
     "output_type": "stream",
     "text": [
      "Epoch 375 | Loss: 0.0001 | Accuracy: 22.9167\n",
      "Epoch 376 | Loss: 0.0001 | Accuracy: 22.9167\n",
      "Epoch 377 | Loss: 0.0001 | Accuracy: 22.9167\n",
      "Epoch 378 | Loss: 0.0001 | Accuracy: 22.9167\n",
      "Epoch 379 | Loss: 0.0001 | Accuracy: 22.9167\n",
      "Epoch 380 | Loss: 0.0001 | Accuracy: 22.9167\n",
      "Epoch 381 | Loss: 0.0001 | Accuracy: 22.9167\n",
      "Epoch 382 | Loss: 0.0001 | Accuracy: 22.9167\n",
      "Epoch 383 | Loss: 0.0001 | Accuracy: 22.9167\n",
      "Epoch 384 | Loss: 0.0001 | Accuracy: 22.9167\n",
      "Epoch 385 | Loss: 0.0001 | Accuracy: 22.9167\n",
      "Epoch 386 | Loss: 0.0001 | Accuracy: 22.9167\n",
      "Epoch 387 | Loss: 0.0001 | Accuracy: 22.9167\n",
      "Epoch 388 | Loss: 0.0001 | Accuracy: 22.9167\n",
      "Epoch 389 | Loss: 0.0001 | Accuracy: 22.9167\n",
      "Epoch 390 | Loss: 0.0001 | Accuracy: 22.9167\n",
      "Epoch 391 | Loss: 0.0001 | Accuracy: 22.9167\n",
      "Epoch 392 | Loss: 0.0001 | Accuracy: 22.9167\n",
      "Epoch 393 | Loss: 0.0001 | Accuracy: 22.9167\n",
      "Epoch 394 | Loss: 0.0001 | Accuracy: 22.9167\n",
      "Epoch 395 | Loss: 0.0001 | Accuracy: 22.9167\n",
      "Epoch 396 | Loss: 0.0001 | Accuracy: 22.9167\n",
      "Epoch 397 | Loss: 0.0001 | Accuracy: 22.9167\n",
      "Epoch 398 | Loss: 0.0001 | Accuracy: 22.9167\n",
      "Epoch 399 | Loss: 0.0001 | Accuracy: 22.9167\n",
      "Epoch 400 | Loss: 0.0001 | Accuracy: 22.9167\n",
      "Epoch 401 | Loss: 0.0001 | Accuracy: 22.9167\n",
      "Epoch 402 | Loss: 0.0001 | Accuracy: 22.9167\n",
      "Epoch 403 | Loss: 0.0001 | Accuracy: 22.9167\n",
      "Epoch 404 | Loss: 0.0001 | Accuracy: 22.9167\n",
      "Epoch 405 | Loss: 0.0001 | Accuracy: 22.9167\n",
      "Epoch 406 | Loss: 0.0001 | Accuracy: 22.9167\n",
      "Epoch 407 | Loss: 0.0001 | Accuracy: 22.9167\n",
      "Epoch 408 | Loss: 0.0001 | Accuracy: 22.9167\n",
      "Epoch 409 | Loss: 0.0001 | Accuracy: 22.9167\n",
      "Epoch 410 | Loss: 0.0001 | Accuracy: 22.9167\n",
      "Epoch 411 | Loss: 0.0001 | Accuracy: 22.9167\n",
      "Epoch 412 | Loss: 0.0001 | Accuracy: 22.9167\n",
      "Epoch 413 | Loss: 0.0001 | Accuracy: 22.9167\n",
      "Epoch 414 | Loss: 0.0001 | Accuracy: 22.9167\n",
      "Epoch 415 | Loss: 0.0001 | Accuracy: 22.9167\n",
      "Epoch 416 | Loss: 0.0001 | Accuracy: 22.9167\n",
      "Epoch 417 | Loss: 0.0001 | Accuracy: 22.9167\n",
      "Epoch 418 | Loss: 0.0001 | Accuracy: 22.9167\n",
      "Epoch 419 | Loss: 0.0001 | Accuracy: 22.9167\n",
      "Epoch 420 | Loss: 0.0001 | Accuracy: 22.9167\n",
      "Epoch 421 | Loss: 0.0001 | Accuracy: 22.9167\n",
      "Epoch 422 | Loss: 0.0001 | Accuracy: 22.9167\n",
      "Epoch 423 | Loss: 0.0001 | Accuracy: 22.9167\n",
      "Epoch 424 | Loss: 0.0001 | Accuracy: 22.9167\n",
      "Epoch 425 | Loss: 0.0001 | Accuracy: 22.9167\n",
      "Epoch 426 | Loss: 0.0001 | Accuracy: 22.9167\n",
      "Epoch 427 | Loss: 0.0001 | Accuracy: 22.9167\n",
      "Epoch 428 | Loss: 0.0001 | Accuracy: 22.9167\n",
      "Epoch 429 | Loss: 0.0001 | Accuracy: 22.9167\n",
      "Epoch 430 | Loss: 0.0001 | Accuracy: 22.9167\n",
      "Epoch 431 | Loss: 0.0001 | Accuracy: 22.9167\n",
      "Epoch 432 | Loss: 0.0001 | Accuracy: 22.9167\n",
      "Epoch 433 | Loss: 0.0001 | Accuracy: 22.9167\n",
      "Epoch 434 | Loss: 0.0001 | Accuracy: 22.9167\n",
      "Epoch 435 | Loss: 0.0001 | Accuracy: 22.9167\n",
      "Epoch 436 | Loss: 0.0001 | Accuracy: 22.9167\n",
      "Epoch 437 | Loss: 0.0001 | Accuracy: 22.9167\n",
      "Epoch 438 | Loss: 0.0001 | Accuracy: 22.9167\n",
      "Epoch 439 | Loss: 0.0001 | Accuracy: 22.9167\n",
      "Epoch 440 | Loss: 0.0001 | Accuracy: 22.9167\n",
      "Epoch 441 | Loss: 0.0001 | Accuracy: 22.9167\n",
      "Epoch 442 | Loss: 0.0001 | Accuracy: 22.9167\n",
      "Epoch 443 | Loss: 0.0001 | Accuracy: 22.9167\n",
      "Epoch 444 | Loss: 0.0001 | Accuracy: 22.9167\n",
      "Epoch 445 | Loss: 0.0001 | Accuracy: 22.9167\n",
      "Epoch 446 | Loss: 0.0001 | Accuracy: 22.9167\n",
      "Epoch 447 | Loss: 0.0001 | Accuracy: 22.9167\n",
      "Epoch 448 | Loss: 0.0001 | Accuracy: 22.9167\n",
      "Epoch 449 | Loss: 0.0001 | Accuracy: 22.9167\n",
      "Epoch 450 | Loss: 0.0001 | Accuracy: 22.9167\n",
      "Epoch 451 | Loss: 0.0001 | Accuracy: 22.9167\n",
      "Epoch 452 | Loss: 0.0001 | Accuracy: 22.9167\n",
      "Epoch 453 | Loss: 0.0001 | Accuracy: 22.9167\n",
      "Epoch 454 | Loss: 0.0001 | Accuracy: 22.9167\n",
      "Epoch 455 | Loss: 0.0001 | Accuracy: 22.9167\n",
      "Epoch 456 | Loss: 0.0001 | Accuracy: 22.9167\n",
      "Epoch 457 | Loss: 0.0001 | Accuracy: 22.9167\n",
      "Epoch 458 | Loss: 0.0001 | Accuracy: 22.9167\n",
      "Epoch 459 | Loss: 0.0001 | Accuracy: 22.9167\n",
      "Epoch 460 | Loss: 0.0001 | Accuracy: 22.9167\n",
      "Epoch 461 | Loss: 0.0001 | Accuracy: 22.9167\n",
      "Epoch 462 | Loss: 0.0001 | Accuracy: 22.9167\n",
      "Epoch 463 | Loss: 0.0001 | Accuracy: 22.9167\n",
      "Epoch 464 | Loss: 0.0001 | Accuracy: 22.9167\n",
      "Epoch 465 | Loss: 0.0001 | Accuracy: 22.9167\n",
      "Epoch 466 | Loss: 0.0001 | Accuracy: 22.9167\n",
      "Epoch 467 | Loss: 0.0001 | Accuracy: 22.9167\n",
      "Epoch 468 | Loss: 0.0001 | Accuracy: 22.9167\n",
      "Epoch 469 | Loss: 0.0001 | Accuracy: 22.9167\n",
      "Epoch 470 | Loss: 0.0001 | Accuracy: 22.9167\n",
      "Epoch 471 | Loss: 0.0001 | Accuracy: 22.9167\n",
      "Epoch 472 | Loss: 0.0001 | Accuracy: 22.9167\n",
      "Epoch 473 | Loss: 0.0001 | Accuracy: 22.9167\n",
      "Epoch 474 | Loss: 0.0001 | Accuracy: 22.9167\n",
      "Epoch 475 | Loss: 0.0001 | Accuracy: 22.9167\n",
      "Epoch 476 | Loss: 0.0001 | Accuracy: 22.9167\n",
      "Epoch 477 | Loss: 0.0001 | Accuracy: 22.9167\n",
      "Epoch 478 | Loss: 0.0000 | Accuracy: 22.9167\n",
      "Epoch 479 | Loss: 0.0000 | Accuracy: 22.9167\n",
      "Epoch 480 | Loss: 0.0000 | Accuracy: 22.9167\n",
      "Epoch 481 | Loss: 0.0000 | Accuracy: 22.9167\n",
      "Epoch 482 | Loss: 0.0000 | Accuracy: 22.9167\n",
      "Epoch 483 | Loss: 0.0000 | Accuracy: 22.9167\n",
      "Epoch 484 | Loss: 0.0000 | Accuracy: 22.9167\n",
      "Epoch 485 | Loss: 0.0000 | Accuracy: 22.9167\n",
      "Epoch 486 | Loss: 0.0000 | Accuracy: 22.9167\n",
      "Epoch 487 | Loss: 0.0000 | Accuracy: 22.9167\n",
      "Epoch 488 | Loss: 0.0000 | Accuracy: 22.9167\n",
      "Epoch 489 | Loss: 0.0000 | Accuracy: 22.9167\n",
      "Epoch 490 | Loss: 0.0000 | Accuracy: 22.9167\n",
      "Epoch 491 | Loss: 0.0000 | Accuracy: 22.9167\n",
      "Epoch 492 | Loss: 0.0000 | Accuracy: 22.9167\n",
      "Epoch 493 | Loss: 0.0000 | Accuracy: 22.9167\n",
      "Epoch 494 | Loss: 0.0000 | Accuracy: 22.9167\n",
      "Epoch 495 | Loss: 0.0000 | Accuracy: 22.9167\n",
      "Epoch 496 | Loss: 0.0000 | Accuracy: 22.9167\n",
      "Epoch 497 | Loss: 0.0000 | Accuracy: 22.9167\n",
      "Epoch 498 | Loss: 0.0000 | Accuracy: 22.9167\n",
      "Epoch 499 | Loss: 0.0000 | Accuracy: 22.9167\n"
     ]
    }
   ],
   "source": [
    "optimizer = torch.optim.Adam(itertools.chain(net.parameters(), embed.parameters()), lr=0.01)\n",
    "all_logits = []\n",
    "for epoch in range(500):\n",
    "    logits = net(G, inputs)\n",
    "    # we save the logits for visualization later\n",
    "    all_logits.append(logits.detach())\n",
    "    logp = F.log_softmax(logits, 1)\n",
    "    loss = F.nll_loss(logp[training_labeled_nodes], training_labels)\n",
    "    \n",
    "    _, predicted = torch.max(logp.data, 1)\n",
    "    \n",
    "    correct_predictions = (predicted == torch.tensor(total_labels)).sum().item()\n",
    "    \n",
    "    optimizer.zero_grad()\n",
    "    loss.backward()\n",
    "    optimizer.step()\n",
    "\n",
    "    print('Epoch %d | Loss: %.4f | Accuracy: %.4f' % (epoch, loss.item(), correct_predictions/48*100))"
   ]
  },
  {
   "cell_type": "code",
   "execution_count": 560,
   "metadata": {
    "colab": {},
    "colab_type": "code",
    "id": "agNKJAZVXpa1"
   },
   "outputs": [],
   "source": [
    "df=pd.DataFrame(all_logits[249][:].numpy())"
   ]
  },
  {
   "cell_type": "code",
   "execution_count": 561,
   "metadata": {
    "colab": {},
    "colab_type": "code",
    "id": "LNDkozLeGMGi"
   },
   "outputs": [],
   "source": [
    "lista=[]\n",
    "for i in range(48):\n",
    "  lista.append((all_logits[249][i].numpy().argmax()))\n",
    "\n",
    "\n",
    "\n",
    "df['li']=pd.Series(lista)"
   ]
  },
  {
   "cell_type": "code",
   "execution_count": 562,
   "metadata": {
    "colab": {},
    "colab_type": "code",
    "id": "3EWrnp9FXxyR"
   },
   "outputs": [],
   "source": [
    "df['Lat'] = lat_list\n",
    "df['Long'] = lon_list\n",
    "df['State'] = states_list"
   ]
  },
  {
   "cell_type": "code",
   "execution_count": 563,
   "metadata": {
    "colab": {
     "base_uri": "https://localhost:8080/",
     "height": 1000
    },
    "colab_type": "code",
    "id": "t4LbJuL-W_Yk",
    "outputId": "cab896f4-d209-4bd7-d977-7976a04d2739"
   },
   "outputs": [
    {
     "data": {
      "text/html": [
       "<div>\n",
       "<style scoped>\n",
       "    .dataframe tbody tr th:only-of-type {\n",
       "        vertical-align: middle;\n",
       "    }\n",
       "\n",
       "    .dataframe tbody tr th {\n",
       "        vertical-align: top;\n",
       "    }\n",
       "\n",
       "    .dataframe thead th {\n",
       "        text-align: right;\n",
       "    }\n",
       "</style>\n",
       "<table border=\"1\" class=\"dataframe\">\n",
       "  <thead>\n",
       "    <tr style=\"text-align: right;\">\n",
       "      <th></th>\n",
       "      <th>0</th>\n",
       "      <th>1</th>\n",
       "      <th>2</th>\n",
       "      <th>3</th>\n",
       "      <th>4</th>\n",
       "      <th>li</th>\n",
       "      <th>Lat</th>\n",
       "      <th>Long</th>\n",
       "      <th>State</th>\n",
       "    </tr>\n",
       "  </thead>\n",
       "  <tbody>\n",
       "    <tr>\n",
       "      <th>0</th>\n",
       "      <td>2.265916</td>\n",
       "      <td>-5.177767</td>\n",
       "      <td>-4.883596</td>\n",
       "      <td>-1.266901</td>\n",
       "      <td>-5.082537</td>\n",
       "      <td>0</td>\n",
       "      <td>32.601011</td>\n",
       "      <td>-86.680736</td>\n",
       "      <td>Alabama</td>\n",
       "    </tr>\n",
       "    <tr>\n",
       "      <th>1</th>\n",
       "      <td>-0.149968</td>\n",
       "      <td>-5.441932</td>\n",
       "      <td>-4.892444</td>\n",
       "      <td>2.286881</td>\n",
       "      <td>-6.125270</td>\n",
       "      <td>3</td>\n",
       "      <td>34.168219</td>\n",
       "      <td>-111.930907</td>\n",
       "      <td>Arizona</td>\n",
       "    </tr>\n",
       "    <tr>\n",
       "      <th>2</th>\n",
       "      <td>0.007003</td>\n",
       "      <td>-6.477802</td>\n",
       "      <td>-5.675048</td>\n",
       "      <td>2.922644</td>\n",
       "      <td>-7.100718</td>\n",
       "      <td>3</td>\n",
       "      <td>34.751928</td>\n",
       "      <td>-92.131378</td>\n",
       "      <td>Arkansas</td>\n",
       "    </tr>\n",
       "    <tr>\n",
       "      <th>3</th>\n",
       "      <td>-1.310345</td>\n",
       "      <td>-4.110790</td>\n",
       "      <td>-3.750885</td>\n",
       "      <td>3.643226</td>\n",
       "      <td>-4.958230</td>\n",
       "      <td>3</td>\n",
       "      <td>37.271875</td>\n",
       "      <td>-119.270415</td>\n",
       "      <td>California</td>\n",
       "    </tr>\n",
       "    <tr>\n",
       "      <th>4</th>\n",
       "      <td>-0.037578</td>\n",
       "      <td>-5.858948</td>\n",
       "      <td>-5.216472</td>\n",
       "      <td>2.638600</td>\n",
       "      <td>-6.217881</td>\n",
       "      <td>3</td>\n",
       "      <td>38.997934</td>\n",
       "      <td>-105.550567</td>\n",
       "      <td>Colorado</td>\n",
       "    </tr>\n",
       "    <tr>\n",
       "      <th>5</th>\n",
       "      <td>-0.430995</td>\n",
       "      <td>-3.444651</td>\n",
       "      <td>-3.230521</td>\n",
       "      <td>1.673456</td>\n",
       "      <td>-4.156468</td>\n",
       "      <td>3</td>\n",
       "      <td>41.518784</td>\n",
       "      <td>-72.757507</td>\n",
       "      <td>Connecticut</td>\n",
       "    </tr>\n",
       "    <tr>\n",
       "      <th>6</th>\n",
       "      <td>-1.188385</td>\n",
       "      <td>-4.113258</td>\n",
       "      <td>-3.681911</td>\n",
       "      <td>3.322041</td>\n",
       "      <td>-4.940786</td>\n",
       "      <td>3</td>\n",
       "      <td>39.145251</td>\n",
       "      <td>-75.418921</td>\n",
       "      <td>Delaware</td>\n",
       "    </tr>\n",
       "    <tr>\n",
       "      <th>7</th>\n",
       "      <td>1.928060</td>\n",
       "      <td>-3.686038</td>\n",
       "      <td>-3.327852</td>\n",
       "      <td>-1.762838</td>\n",
       "      <td>-3.868470</td>\n",
       "      <td>0</td>\n",
       "      <td>27.975728</td>\n",
       "      <td>-83.833017</td>\n",
       "      <td>Florida</td>\n",
       "    </tr>\n",
       "    <tr>\n",
       "      <th>8</th>\n",
       "      <td>0.635200</td>\n",
       "      <td>-5.384866</td>\n",
       "      <td>-5.320467</td>\n",
       "      <td>0.996640</td>\n",
       "      <td>-6.001944</td>\n",
       "      <td>3</td>\n",
       "      <td>32.678125</td>\n",
       "      <td>-83.222976</td>\n",
       "      <td>Georgia</td>\n",
       "    </tr>\n",
       "    <tr>\n",
       "      <th>9</th>\n",
       "      <td>1.773994</td>\n",
       "      <td>-6.746313</td>\n",
       "      <td>-6.186569</td>\n",
       "      <td>0.088545</td>\n",
       "      <td>-6.806177</td>\n",
       "      <td>0</td>\n",
       "      <td>45.494576</td>\n",
       "      <td>-114.142430</td>\n",
       "      <td>Idaho</td>\n",
       "    </tr>\n",
       "    <tr>\n",
       "      <th>10</th>\n",
       "      <td>2.202548</td>\n",
       "      <td>-5.333941</td>\n",
       "      <td>-4.328177</td>\n",
       "      <td>-0.833928</td>\n",
       "      <td>-4.997303</td>\n",
       "      <td>0</td>\n",
       "      <td>39.739318</td>\n",
       "      <td>-89.504139</td>\n",
       "      <td>Illinois</td>\n",
       "    </tr>\n",
       "    <tr>\n",
       "      <th>11</th>\n",
       "      <td>4.435233</td>\n",
       "      <td>-6.142872</td>\n",
       "      <td>-4.490478</td>\n",
       "      <td>-3.612971</td>\n",
       "      <td>-5.126169</td>\n",
       "      <td>0</td>\n",
       "      <td>39.766219</td>\n",
       "      <td>-86.441277</td>\n",
       "      <td>Indiana</td>\n",
       "    </tr>\n",
       "    <tr>\n",
       "      <th>12</th>\n",
       "      <td>3.762057</td>\n",
       "      <td>-6.989738</td>\n",
       "      <td>-6.472483</td>\n",
       "      <td>-2.730953</td>\n",
       "      <td>-6.409254</td>\n",
       "      <td>0</td>\n",
       "      <td>41.938317</td>\n",
       "      <td>-93.389798</td>\n",
       "      <td>Iowa</td>\n",
       "    </tr>\n",
       "    <tr>\n",
       "      <th>13</th>\n",
       "      <td>2.672953</td>\n",
       "      <td>-5.816408</td>\n",
       "      <td>-4.094008</td>\n",
       "      <td>-0.752272</td>\n",
       "      <td>-5.217034</td>\n",
       "      <td>0</td>\n",
       "      <td>38.498779</td>\n",
       "      <td>-98.320078</td>\n",
       "      <td>Kansas</td>\n",
       "    </tr>\n",
       "    <tr>\n",
       "      <th>14</th>\n",
       "      <td>2.338702</td>\n",
       "      <td>-6.761610</td>\n",
       "      <td>-5.630126</td>\n",
       "      <td>-0.594899</td>\n",
       "      <td>-6.608678</td>\n",
       "      <td>0</td>\n",
       "      <td>37.822294</td>\n",
       "      <td>-85.768240</td>\n",
       "      <td>Kentucky</td>\n",
       "    </tr>\n",
       "    <tr>\n",
       "      <th>15</th>\n",
       "      <td>0.846181</td>\n",
       "      <td>-4.162928</td>\n",
       "      <td>-3.123020</td>\n",
       "      <td>0.882831</td>\n",
       "      <td>-4.236398</td>\n",
       "      <td>3</td>\n",
       "      <td>30.973377</td>\n",
       "      <td>-91.429910</td>\n",
       "      <td>Louisiana</td>\n",
       "    </tr>\n",
       "    <tr>\n",
       "      <th>16</th>\n",
       "      <td>-0.337761</td>\n",
       "      <td>-2.550906</td>\n",
       "      <td>-2.287376</td>\n",
       "      <td>1.802878</td>\n",
       "      <td>-2.995693</td>\n",
       "      <td>3</td>\n",
       "      <td>45.218513</td>\n",
       "      <td>-69.014866</td>\n",
       "      <td>Maine</td>\n",
       "    </tr>\n",
       "    <tr>\n",
       "      <th>17</th>\n",
       "      <td>0.056573</td>\n",
       "      <td>-4.114305</td>\n",
       "      <td>-3.345227</td>\n",
       "      <td>1.839281</td>\n",
       "      <td>-4.538372</td>\n",
       "      <td>3</td>\n",
       "      <td>38.806352</td>\n",
       "      <td>-77.268416</td>\n",
       "      <td>Maryland</td>\n",
       "    </tr>\n",
       "    <tr>\n",
       "      <th>18</th>\n",
       "      <td>-1.180028</td>\n",
       "      <td>-4.356181</td>\n",
       "      <td>-3.851951</td>\n",
       "      <td>3.111335</td>\n",
       "      <td>-5.564643</td>\n",
       "      <td>3</td>\n",
       "      <td>42.062940</td>\n",
       "      <td>-71.718067</td>\n",
       "      <td>Massachusetts</td>\n",
       "    </tr>\n",
       "    <tr>\n",
       "      <th>19</th>\n",
       "      <td>0.528446</td>\n",
       "      <td>-4.650946</td>\n",
       "      <td>-3.721289</td>\n",
       "      <td>0.974099</td>\n",
       "      <td>-5.249594</td>\n",
       "      <td>3</td>\n",
       "      <td>44.943560</td>\n",
       "      <td>-86.415805</td>\n",
       "      <td>Michigan</td>\n",
       "    </tr>\n",
       "    <tr>\n",
       "      <th>20</th>\n",
       "      <td>3.274044</td>\n",
       "      <td>-5.782524</td>\n",
       "      <td>-4.807132</td>\n",
       "      <td>-2.669271</td>\n",
       "      <td>-5.408679</td>\n",
       "      <td>0</td>\n",
       "      <td>46.441859</td>\n",
       "      <td>-93.365515</td>\n",
       "      <td>Minnesota</td>\n",
       "    </tr>\n",
       "    <tr>\n",
       "      <th>21</th>\n",
       "      <td>3.119108</td>\n",
       "      <td>-5.684842</td>\n",
       "      <td>-4.003919</td>\n",
       "      <td>-1.737513</td>\n",
       "      <td>-5.111592</td>\n",
       "      <td>0</td>\n",
       "      <td>32.585106</td>\n",
       "      <td>-89.877220</td>\n",
       "      <td>Mississippi</td>\n",
       "    </tr>\n",
       "    <tr>\n",
       "      <th>22</th>\n",
       "      <td>2.740768</td>\n",
       "      <td>-7.947782</td>\n",
       "      <td>-6.278317</td>\n",
       "      <td>-0.575010</td>\n",
       "      <td>-7.595888</td>\n",
       "      <td>0</td>\n",
       "      <td>38.304662</td>\n",
       "      <td>-92.437099</td>\n",
       "      <td>Missouri</td>\n",
       "    </tr>\n",
       "    <tr>\n",
       "      <th>23</th>\n",
       "      <td>5.103640</td>\n",
       "      <td>-6.470770</td>\n",
       "      <td>-5.043973</td>\n",
       "      <td>-4.735150</td>\n",
       "      <td>-5.576940</td>\n",
       "      <td>0</td>\n",
       "      <td>46.679800</td>\n",
       "      <td>-110.044783</td>\n",
       "      <td>Montana</td>\n",
       "    </tr>\n",
       "    <tr>\n",
       "      <th>24</th>\n",
       "      <td>3.363557</td>\n",
       "      <td>-6.524498</td>\n",
       "      <td>-5.202846</td>\n",
       "      <td>-2.250087</td>\n",
       "      <td>-5.982435</td>\n",
       "      <td>0</td>\n",
       "      <td>41.500819</td>\n",
       "      <td>-99.680902</td>\n",
       "      <td>Nebraska</td>\n",
       "    </tr>\n",
       "    <tr>\n",
       "      <th>25</th>\n",
       "      <td>1.471585</td>\n",
       "      <td>-5.619567</td>\n",
       "      <td>-5.140331</td>\n",
       "      <td>-0.334286</td>\n",
       "      <td>-5.775286</td>\n",
       "      <td>0</td>\n",
       "      <td>38.502032</td>\n",
       "      <td>-117.023060</td>\n",
       "      <td>Nevada</td>\n",
       "    </tr>\n",
       "    <tr>\n",
       "      <th>26</th>\n",
       "      <td>-1.183603</td>\n",
       "      <td>-3.879558</td>\n",
       "      <td>-4.315895</td>\n",
       "      <td>2.177107</td>\n",
       "      <td>-4.870653</td>\n",
       "      <td>3</td>\n",
       "      <td>44.001231</td>\n",
       "      <td>-71.579923</td>\n",
       "      <td>New Hampshire</td>\n",
       "    </tr>\n",
       "    <tr>\n",
       "      <th>27</th>\n",
       "      <td>0.228611</td>\n",
       "      <td>-3.805809</td>\n",
       "      <td>-3.887677</td>\n",
       "      <td>0.459208</td>\n",
       "      <td>-4.396356</td>\n",
       "      <td>3</td>\n",
       "      <td>40.143006</td>\n",
       "      <td>-74.731116</td>\n",
       "      <td>New Jersey</td>\n",
       "    </tr>\n",
       "    <tr>\n",
       "      <th>28</th>\n",
       "      <td>-0.400581</td>\n",
       "      <td>-4.993351</td>\n",
       "      <td>-4.616136</td>\n",
       "      <td>2.109120</td>\n",
       "      <td>-5.849143</td>\n",
       "      <td>3</td>\n",
       "      <td>34.166232</td>\n",
       "      <td>-106.026069</td>\n",
       "      <td>New Mexico</td>\n",
       "    </tr>\n",
       "    <tr>\n",
       "      <th>29</th>\n",
       "      <td>-2.304589</td>\n",
       "      <td>-4.176847</td>\n",
       "      <td>-3.982772</td>\n",
       "      <td>4.657798</td>\n",
       "      <td>-5.621411</td>\n",
       "      <td>3</td>\n",
       "      <td>40.705626</td>\n",
       "      <td>-73.979680</td>\n",
       "      <td>New York</td>\n",
       "    </tr>\n",
       "    <tr>\n",
       "      <th>30</th>\n",
       "      <td>-0.582540</td>\n",
       "      <td>-4.399510</td>\n",
       "      <td>-4.049636</td>\n",
       "      <td>1.650861</td>\n",
       "      <td>-5.631450</td>\n",
       "      <td>3</td>\n",
       "      <td>35.214563</td>\n",
       "      <td>-79.891267</td>\n",
       "      <td>North Carolina</td>\n",
       "    </tr>\n",
       "    <tr>\n",
       "      <th>31</th>\n",
       "      <td>3.212222</td>\n",
       "      <td>-4.942244</td>\n",
       "      <td>-3.452167</td>\n",
       "      <td>-2.262724</td>\n",
       "      <td>-4.385148</td>\n",
       "      <td>0</td>\n",
       "      <td>47.467882</td>\n",
       "      <td>-100.302266</td>\n",
       "      <td>North Dakota</td>\n",
       "    </tr>\n",
       "    <tr>\n",
       "      <th>32</th>\n",
       "      <td>3.620117</td>\n",
       "      <td>-6.273305</td>\n",
       "      <td>-5.345339</td>\n",
       "      <td>-2.433453</td>\n",
       "      <td>-5.610068</td>\n",
       "      <td>0</td>\n",
       "      <td>40.190362</td>\n",
       "      <td>-82.669252</td>\n",
       "      <td>Ohio</td>\n",
       "    </tr>\n",
       "    <tr>\n",
       "      <th>33</th>\n",
       "      <td>-0.472676</td>\n",
       "      <td>-6.050867</td>\n",
       "      <td>-4.996544</td>\n",
       "      <td>3.496406</td>\n",
       "      <td>-6.670609</td>\n",
       "      <td>3</td>\n",
       "      <td>35.309765</td>\n",
       "      <td>-98.716558</td>\n",
       "      <td>Oklahoma</td>\n",
       "    </tr>\n",
       "    <tr>\n",
       "      <th>34</th>\n",
       "      <td>-0.639893</td>\n",
       "      <td>-3.794014</td>\n",
       "      <td>-4.198380</td>\n",
       "      <td>1.538694</td>\n",
       "      <td>-4.661852</td>\n",
       "      <td>3</td>\n",
       "      <td>44.141905</td>\n",
       "      <td>-120.538099</td>\n",
       "      <td>Oregon</td>\n",
       "    </tr>\n",
       "    <tr>\n",
       "      <th>35</th>\n",
       "      <td>-2.129719</td>\n",
       "      <td>-5.302096</td>\n",
       "      <td>-5.182973</td>\n",
       "      <td>4.669756</td>\n",
       "      <td>-6.635221</td>\n",
       "      <td>3</td>\n",
       "      <td>40.994593</td>\n",
       "      <td>-77.604698</td>\n",
       "      <td>Pennsylvania</td>\n",
       "    </tr>\n",
       "    <tr>\n",
       "      <th>36</th>\n",
       "      <td>0.553446</td>\n",
       "      <td>-3.680884</td>\n",
       "      <td>-3.501637</td>\n",
       "      <td>0.009052</td>\n",
       "      <td>-4.223619</td>\n",
       "      <td>0</td>\n",
       "      <td>41.582728</td>\n",
       "      <td>-71.506451</td>\n",
       "      <td>Rhode Island</td>\n",
       "    </tr>\n",
       "    <tr>\n",
       "      <th>37</th>\n",
       "      <td>2.986361</td>\n",
       "      <td>-3.336689</td>\n",
       "      <td>-3.114008</td>\n",
       "      <td>-2.922611</td>\n",
       "      <td>-3.151961</td>\n",
       "      <td>0</td>\n",
       "      <td>33.625050</td>\n",
       "      <td>-80.947038</td>\n",
       "      <td>South Carolina</td>\n",
       "    </tr>\n",
       "    <tr>\n",
       "      <th>38</th>\n",
       "      <td>4.524478</td>\n",
       "      <td>-7.082356</td>\n",
       "      <td>-4.827903</td>\n",
       "      <td>-2.983459</td>\n",
       "      <td>-5.875941</td>\n",
       "      <td>0</td>\n",
       "      <td>44.212699</td>\n",
       "      <td>-100.247164</td>\n",
       "      <td>South Dakota</td>\n",
       "    </tr>\n",
       "    <tr>\n",
       "      <th>39</th>\n",
       "      <td>3.309080</td>\n",
       "      <td>-6.979785</td>\n",
       "      <td>-6.004419</td>\n",
       "      <td>-2.379639</td>\n",
       "      <td>-7.014219</td>\n",
       "      <td>0</td>\n",
       "      <td>35.830521</td>\n",
       "      <td>-85.978599</td>\n",
       "      <td>Tennessee</td>\n",
       "    </tr>\n",
       "    <tr>\n",
       "      <th>40</th>\n",
       "      <td>-2.889790</td>\n",
       "      <td>-4.862413</td>\n",
       "      <td>-4.344158</td>\n",
       "      <td>6.657462</td>\n",
       "      <td>-6.191138</td>\n",
       "      <td>3</td>\n",
       "      <td>31.169336</td>\n",
       "      <td>-100.076842</td>\n",
       "      <td>Texas</td>\n",
       "    </tr>\n",
       "    <tr>\n",
       "      <th>41</th>\n",
       "      <td>-0.082768</td>\n",
       "      <td>-5.800772</td>\n",
       "      <td>-5.401440</td>\n",
       "      <td>2.394520</td>\n",
       "      <td>-6.339517</td>\n",
       "      <td>3</td>\n",
       "      <td>39.499761</td>\n",
       "      <td>-111.547028</td>\n",
       "      <td>Utah</td>\n",
       "    </tr>\n",
       "    <tr>\n",
       "      <th>42</th>\n",
       "      <td>-1.864593</td>\n",
       "      <td>-4.260924</td>\n",
       "      <td>-3.855666</td>\n",
       "      <td>3.718806</td>\n",
       "      <td>-5.699450</td>\n",
       "      <td>3</td>\n",
       "      <td>43.871755</td>\n",
       "      <td>-72.447783</td>\n",
       "      <td>Vermont</td>\n",
       "    </tr>\n",
       "    <tr>\n",
       "      <th>43</th>\n",
       "      <td>1.821778</td>\n",
       "      <td>-5.989727</td>\n",
       "      <td>-5.467458</td>\n",
       "      <td>-0.195200</td>\n",
       "      <td>-6.153966</td>\n",
       "      <td>0</td>\n",
       "      <td>38.003386</td>\n",
       "      <td>-79.458786</td>\n",
       "      <td>Virginia</td>\n",
       "    </tr>\n",
       "    <tr>\n",
       "      <th>44</th>\n",
       "      <td>1.539855</td>\n",
       "      <td>-3.252178</td>\n",
       "      <td>-3.745075</td>\n",
       "      <td>-1.092540</td>\n",
       "      <td>-3.201991</td>\n",
       "      <td>0</td>\n",
       "      <td>38.899349</td>\n",
       "      <td>-77.014567</td>\n",
       "      <td>Washington</td>\n",
       "    </tr>\n",
       "    <tr>\n",
       "      <th>45</th>\n",
       "      <td>0.264343</td>\n",
       "      <td>-5.170165</td>\n",
       "      <td>-4.964828</td>\n",
       "      <td>1.549228</td>\n",
       "      <td>-5.630872</td>\n",
       "      <td>3</td>\n",
       "      <td>38.920171</td>\n",
       "      <td>-80.181691</td>\n",
       "      <td>West Virginia</td>\n",
       "    </tr>\n",
       "    <tr>\n",
       "      <th>46</th>\n",
       "      <td>4.073502</td>\n",
       "      <td>-6.159257</td>\n",
       "      <td>-5.441637</td>\n",
       "      <td>-3.260421</td>\n",
       "      <td>-5.441574</td>\n",
       "      <td>0</td>\n",
       "      <td>44.786297</td>\n",
       "      <td>-89.826705</td>\n",
       "      <td>Wisconsin</td>\n",
       "    </tr>\n",
       "    <tr>\n",
       "      <th>47</th>\n",
       "      <td>1.077730</td>\n",
       "      <td>-5.260567</td>\n",
       "      <td>-4.434815</td>\n",
       "      <td>0.783022</td>\n",
       "      <td>-5.422328</td>\n",
       "      <td>0</td>\n",
       "      <td>43.000325</td>\n",
       "      <td>-107.554567</td>\n",
       "      <td>Wyoming</td>\n",
       "    </tr>\n",
       "  </tbody>\n",
       "</table>\n",
       "</div>"
      ],
      "text/plain": [
       "           0         1         2         3         4  li        Lat  \\\n",
       "0   2.265916 -5.177767 -4.883596 -1.266901 -5.082537   0  32.601011   \n",
       "1  -0.149968 -5.441932 -4.892444  2.286881 -6.125270   3  34.168219   \n",
       "2   0.007003 -6.477802 -5.675048  2.922644 -7.100718   3  34.751928   \n",
       "3  -1.310345 -4.110790 -3.750885  3.643226 -4.958230   3  37.271875   \n",
       "4  -0.037578 -5.858948 -5.216472  2.638600 -6.217881   3  38.997934   \n",
       "5  -0.430995 -3.444651 -3.230521  1.673456 -4.156468   3  41.518784   \n",
       "6  -1.188385 -4.113258 -3.681911  3.322041 -4.940786   3  39.145251   \n",
       "7   1.928060 -3.686038 -3.327852 -1.762838 -3.868470   0  27.975728   \n",
       "8   0.635200 -5.384866 -5.320467  0.996640 -6.001944   3  32.678125   \n",
       "9   1.773994 -6.746313 -6.186569  0.088545 -6.806177   0  45.494576   \n",
       "10  2.202548 -5.333941 -4.328177 -0.833928 -4.997303   0  39.739318   \n",
       "11  4.435233 -6.142872 -4.490478 -3.612971 -5.126169   0  39.766219   \n",
       "12  3.762057 -6.989738 -6.472483 -2.730953 -6.409254   0  41.938317   \n",
       "13  2.672953 -5.816408 -4.094008 -0.752272 -5.217034   0  38.498779   \n",
       "14  2.338702 -6.761610 -5.630126 -0.594899 -6.608678   0  37.822294   \n",
       "15  0.846181 -4.162928 -3.123020  0.882831 -4.236398   3  30.973377   \n",
       "16 -0.337761 -2.550906 -2.287376  1.802878 -2.995693   3  45.218513   \n",
       "17  0.056573 -4.114305 -3.345227  1.839281 -4.538372   3  38.806352   \n",
       "18 -1.180028 -4.356181 -3.851951  3.111335 -5.564643   3  42.062940   \n",
       "19  0.528446 -4.650946 -3.721289  0.974099 -5.249594   3  44.943560   \n",
       "20  3.274044 -5.782524 -4.807132 -2.669271 -5.408679   0  46.441859   \n",
       "21  3.119108 -5.684842 -4.003919 -1.737513 -5.111592   0  32.585106   \n",
       "22  2.740768 -7.947782 -6.278317 -0.575010 -7.595888   0  38.304662   \n",
       "23  5.103640 -6.470770 -5.043973 -4.735150 -5.576940   0  46.679800   \n",
       "24  3.363557 -6.524498 -5.202846 -2.250087 -5.982435   0  41.500819   \n",
       "25  1.471585 -5.619567 -5.140331 -0.334286 -5.775286   0  38.502032   \n",
       "26 -1.183603 -3.879558 -4.315895  2.177107 -4.870653   3  44.001231   \n",
       "27  0.228611 -3.805809 -3.887677  0.459208 -4.396356   3  40.143006   \n",
       "28 -0.400581 -4.993351 -4.616136  2.109120 -5.849143   3  34.166232   \n",
       "29 -2.304589 -4.176847 -3.982772  4.657798 -5.621411   3  40.705626   \n",
       "30 -0.582540 -4.399510 -4.049636  1.650861 -5.631450   3  35.214563   \n",
       "31  3.212222 -4.942244 -3.452167 -2.262724 -4.385148   0  47.467882   \n",
       "32  3.620117 -6.273305 -5.345339 -2.433453 -5.610068   0  40.190362   \n",
       "33 -0.472676 -6.050867 -4.996544  3.496406 -6.670609   3  35.309765   \n",
       "34 -0.639893 -3.794014 -4.198380  1.538694 -4.661852   3  44.141905   \n",
       "35 -2.129719 -5.302096 -5.182973  4.669756 -6.635221   3  40.994593   \n",
       "36  0.553446 -3.680884 -3.501637  0.009052 -4.223619   0  41.582728   \n",
       "37  2.986361 -3.336689 -3.114008 -2.922611 -3.151961   0  33.625050   \n",
       "38  4.524478 -7.082356 -4.827903 -2.983459 -5.875941   0  44.212699   \n",
       "39  3.309080 -6.979785 -6.004419 -2.379639 -7.014219   0  35.830521   \n",
       "40 -2.889790 -4.862413 -4.344158  6.657462 -6.191138   3  31.169336   \n",
       "41 -0.082768 -5.800772 -5.401440  2.394520 -6.339517   3  39.499761   \n",
       "42 -1.864593 -4.260924 -3.855666  3.718806 -5.699450   3  43.871755   \n",
       "43  1.821778 -5.989727 -5.467458 -0.195200 -6.153966   0  38.003386   \n",
       "44  1.539855 -3.252178 -3.745075 -1.092540 -3.201991   0  38.899349   \n",
       "45  0.264343 -5.170165 -4.964828  1.549228 -5.630872   3  38.920171   \n",
       "46  4.073502 -6.159257 -5.441637 -3.260421 -5.441574   0  44.786297   \n",
       "47  1.077730 -5.260567 -4.434815  0.783022 -5.422328   0  43.000325   \n",
       "\n",
       "          Long           State  \n",
       "0   -86.680736         Alabama  \n",
       "1  -111.930907         Arizona  \n",
       "2   -92.131378        Arkansas  \n",
       "3  -119.270415      California  \n",
       "4  -105.550567        Colorado  \n",
       "5   -72.757507     Connecticut  \n",
       "6   -75.418921        Delaware  \n",
       "7   -83.833017         Florida  \n",
       "8   -83.222976         Georgia  \n",
       "9  -114.142430           Idaho  \n",
       "10  -89.504139        Illinois  \n",
       "11  -86.441277         Indiana  \n",
       "12  -93.389798            Iowa  \n",
       "13  -98.320078          Kansas  \n",
       "14  -85.768240        Kentucky  \n",
       "15  -91.429910       Louisiana  \n",
       "16  -69.014866           Maine  \n",
       "17  -77.268416        Maryland  \n",
       "18  -71.718067   Massachusetts  \n",
       "19  -86.415805        Michigan  \n",
       "20  -93.365515       Minnesota  \n",
       "21  -89.877220     Mississippi  \n",
       "22  -92.437099        Missouri  \n",
       "23 -110.044783         Montana  \n",
       "24  -99.680902        Nebraska  \n",
       "25 -117.023060          Nevada  \n",
       "26  -71.579923   New Hampshire  \n",
       "27  -74.731116      New Jersey  \n",
       "28 -106.026069      New Mexico  \n",
       "29  -73.979680        New York  \n",
       "30  -79.891267  North Carolina  \n",
       "31 -100.302266    North Dakota  \n",
       "32  -82.669252            Ohio  \n",
       "33  -98.716558        Oklahoma  \n",
       "34 -120.538099          Oregon  \n",
       "35  -77.604698    Pennsylvania  \n",
       "36  -71.506451    Rhode Island  \n",
       "37  -80.947038  South Carolina  \n",
       "38 -100.247164    South Dakota  \n",
       "39  -85.978599       Tennessee  \n",
       "40 -100.076842           Texas  \n",
       "41 -111.547028            Utah  \n",
       "42  -72.447783         Vermont  \n",
       "43  -79.458786        Virginia  \n",
       "44  -77.014567      Washington  \n",
       "45  -80.181691   West Virginia  \n",
       "46  -89.826705       Wisconsin  \n",
       "47 -107.554567         Wyoming  "
      ]
     },
     "execution_count": 563,
     "metadata": {},
     "output_type": "execute_result"
    }
   ],
   "source": [
    "df"
   ]
  },
  {
   "cell_type": "code",
   "execution_count": 564,
   "metadata": {
    "colab": {
     "base_uri": "https://localhost:8080/",
     "height": 542
    },
    "colab_type": "code",
    "id": "3dO_qBbY4uVF",
    "outputId": "7c09afd9-0953-4a95-8115-a46a6aaa0f7a"
   },
   "outputs": [
    {
     "data": {
      "application/vnd.plotly.v1+json": {
       "config": {
        "plotlyServerURL": "https://plot.ly"
       },
       "data": [
        {
         "geo": "geo",
         "hovertemplate": "size=%{marker.size}<br>State=%{text}<br>Lat=%{lat}<br>Long=%{lon}<br>li=%{marker.color}<extra></extra>",
         "lat": [
          32.601011199999995,
          34.1682185,
          34.7519275,
          37.2718745,
          38.9979339,
          41.518783500000005,
          39.145251,
          27.9757279,
          32.6781248,
          45.4945756,
          39.739318,
          39.7662195,
          41.9383166,
          38.4987789,
          37.8222935,
          30.9733766,
          45.2185133,
          38.806352399999994,
          42.062939799999995,
          44.9435598,
          46.4418595,
          32.5851062,
          38.3046615,
          46.6797995,
          41.5008195,
          38.502032,
          44.00123060000001,
          40.1430058,
          34.1662325,
          40.7056258,
          35.2145629,
          47.467881899999995,
          40.1903624,
          35.309765399999996,
          44.1419049,
          40.99459279999999,
          41.5827282,
          33.62505,
          44.2126995,
          35.830521000000005,
          31.1693363,
          39.4997605,
          43.8717545,
          38.0033855,
          38.899348700000004,
          38.920170500000005,
          44.7862968,
          43.000325
         ],
         "legendgroup": "",
         "lon": [
          -86.6807365,
          -111.930907,
          -92.13137840000002,
          -119.2704153,
          -105.55056699999999,
          -72.75750699999999,
          -75.41892059999999,
          -83.8330166,
          -83.22297569999999,
          -114.1424303,
          -89.504139,
          -86.441277,
          -93.389798,
          -98.32007790000002,
          -85.76823990000001,
          -91.42990970000001,
          -69.0148656,
          -77.2684162,
          -71.718067,
          -86.41580490000001,
          -93.3655146,
          -89.8772196,
          -92.437099,
          -110.04478300000001,
          -99.680902,
          -117.0230604,
          -71.57992309999999,
          -74.7311156,
          -106.02606850000001,
          -73.97968,
          -79.8912675,
          -100.3022655,
          -82.6692525,
          -98.71655849999999,
          -120.5380993,
          -77.6046984,
          -71.5064508,
          -80.9470381,
          -100.24716409999999,
          -85.97859890000001,
          -100.0768425,
          -111.547028,
          -72.4477828,
          -79.4587861,
          -77.0145665,
          -80.1816905,
          -89.82670490000001,
          -107.5545669
         ],
         "marker": {
          "color": [
           0,
           3,
           3,
           3,
           3,
           3,
           3,
           0,
           3,
           0,
           0,
           0,
           0,
           0,
           0,
           3,
           3,
           3,
           3,
           3,
           0,
           0,
           0,
           0,
           0,
           0,
           3,
           3,
           3,
           3,
           3,
           0,
           0,
           3,
           3,
           3,
           0,
           0,
           0,
           0,
           3,
           3,
           3,
           0,
           0,
           3,
           0,
           0
          ],
          "coloraxis": "coloraxis",
          "size": [
           1,
           4,
           4,
           4,
           4,
           4,
           4,
           1,
           4,
           1,
           1,
           1,
           1,
           1,
           1,
           4,
           4,
           4,
           4,
           4,
           1,
           1,
           1,
           1,
           1,
           1,
           4,
           4,
           4,
           4,
           4,
           1,
           1,
           4,
           4,
           4,
           1,
           1,
           1,
           1,
           4,
           4,
           4,
           1,
           1,
           4,
           1,
           1
          ],
          "sizemode": "area",
          "sizeref": 0.01
         },
         "name": "",
         "showlegend": false,
         "text": [
          "Alabama",
          "Arizona",
          "Arkansas",
          "California",
          "Colorado",
          "Connecticut",
          "Delaware",
          "Florida",
          "Georgia",
          "Idaho",
          "Illinois",
          "Indiana",
          "Iowa",
          "Kansas",
          "Kentucky",
          "Louisiana",
          "Maine",
          "Maryland",
          "Massachusetts",
          "Michigan",
          "Minnesota",
          "Mississippi",
          "Missouri",
          "Montana",
          "Nebraska",
          "Nevada",
          "New Hampshire",
          "New Jersey",
          "New Mexico",
          "New York",
          "North Carolina",
          "North Dakota",
          "Ohio",
          "Oklahoma",
          "Oregon",
          "Pennsylvania",
          "Rhode Island",
          "South Carolina",
          "South Dakota",
          "Tennessee",
          "Texas",
          "Utah",
          "Vermont",
          "Virginia",
          "Washington",
          "West Virginia",
          "Wisconsin",
          "Wyoming"
         ],
         "type": "scattergeo"
        }
       ],
       "layout": {
        "coloraxis": {
         "colorbar": {
          "title": {
           "text": "li"
          }
         },
         "colorscale": [
          [
           0,
           "#0d0887"
          ],
          [
           0.1111111111111111,
           "#46039f"
          ],
          [
           0.2222222222222222,
           "#7201a8"
          ],
          [
           0.3333333333333333,
           "#9c179e"
          ],
          [
           0.4444444444444444,
           "#bd3786"
          ],
          [
           0.5555555555555556,
           "#d8576b"
          ],
          [
           0.6666666666666666,
           "#ed7953"
          ],
          [
           0.7777777777777778,
           "#fb9f3a"
          ],
          [
           0.8888888888888888,
           "#fdca26"
          ],
          [
           1,
           "#f0f921"
          ]
         ]
        },
        "geo": {
         "center": {
          "lat": 19,
          "lon": -99
         },
         "domain": {
          "x": [
           0,
           1
          ],
          "y": [
           0,
           1
          ]
         },
         "projection": {
          "type": "natural earth"
         },
         "scope": "north america"
        },
        "legend": {
         "itemsizing": "constant",
         "tracegroupgap": 0
        },
        "margin": {
         "t": 60
        },
        "template": {
         "data": {
          "bar": [
           {
            "error_x": {
             "color": "#2a3f5f"
            },
            "error_y": {
             "color": "#2a3f5f"
            },
            "marker": {
             "line": {
              "color": "#E5ECF6",
              "width": 0.5
             }
            },
            "type": "bar"
           }
          ],
          "barpolar": [
           {
            "marker": {
             "line": {
              "color": "#E5ECF6",
              "width": 0.5
             }
            },
            "type": "barpolar"
           }
          ],
          "carpet": [
           {
            "aaxis": {
             "endlinecolor": "#2a3f5f",
             "gridcolor": "white",
             "linecolor": "white",
             "minorgridcolor": "white",
             "startlinecolor": "#2a3f5f"
            },
            "baxis": {
             "endlinecolor": "#2a3f5f",
             "gridcolor": "white",
             "linecolor": "white",
             "minorgridcolor": "white",
             "startlinecolor": "#2a3f5f"
            },
            "type": "carpet"
           }
          ],
          "choropleth": [
           {
            "colorbar": {
             "outlinewidth": 0,
             "ticks": ""
            },
            "type": "choropleth"
           }
          ],
          "contour": [
           {
            "colorbar": {
             "outlinewidth": 0,
             "ticks": ""
            },
            "colorscale": [
             [
              0,
              "#0d0887"
             ],
             [
              0.1111111111111111,
              "#46039f"
             ],
             [
              0.2222222222222222,
              "#7201a8"
             ],
             [
              0.3333333333333333,
              "#9c179e"
             ],
             [
              0.4444444444444444,
              "#bd3786"
             ],
             [
              0.5555555555555556,
              "#d8576b"
             ],
             [
              0.6666666666666666,
              "#ed7953"
             ],
             [
              0.7777777777777778,
              "#fb9f3a"
             ],
             [
              0.8888888888888888,
              "#fdca26"
             ],
             [
              1,
              "#f0f921"
             ]
            ],
            "type": "contour"
           }
          ],
          "contourcarpet": [
           {
            "colorbar": {
             "outlinewidth": 0,
             "ticks": ""
            },
            "type": "contourcarpet"
           }
          ],
          "heatmap": [
           {
            "colorbar": {
             "outlinewidth": 0,
             "ticks": ""
            },
            "colorscale": [
             [
              0,
              "#0d0887"
             ],
             [
              0.1111111111111111,
              "#46039f"
             ],
             [
              0.2222222222222222,
              "#7201a8"
             ],
             [
              0.3333333333333333,
              "#9c179e"
             ],
             [
              0.4444444444444444,
              "#bd3786"
             ],
             [
              0.5555555555555556,
              "#d8576b"
             ],
             [
              0.6666666666666666,
              "#ed7953"
             ],
             [
              0.7777777777777778,
              "#fb9f3a"
             ],
             [
              0.8888888888888888,
              "#fdca26"
             ],
             [
              1,
              "#f0f921"
             ]
            ],
            "type": "heatmap"
           }
          ],
          "heatmapgl": [
           {
            "colorbar": {
             "outlinewidth": 0,
             "ticks": ""
            },
            "colorscale": [
             [
              0,
              "#0d0887"
             ],
             [
              0.1111111111111111,
              "#46039f"
             ],
             [
              0.2222222222222222,
              "#7201a8"
             ],
             [
              0.3333333333333333,
              "#9c179e"
             ],
             [
              0.4444444444444444,
              "#bd3786"
             ],
             [
              0.5555555555555556,
              "#d8576b"
             ],
             [
              0.6666666666666666,
              "#ed7953"
             ],
             [
              0.7777777777777778,
              "#fb9f3a"
             ],
             [
              0.8888888888888888,
              "#fdca26"
             ],
             [
              1,
              "#f0f921"
             ]
            ],
            "type": "heatmapgl"
           }
          ],
          "histogram": [
           {
            "marker": {
             "colorbar": {
              "outlinewidth": 0,
              "ticks": ""
             }
            },
            "type": "histogram"
           }
          ],
          "histogram2d": [
           {
            "colorbar": {
             "outlinewidth": 0,
             "ticks": ""
            },
            "colorscale": [
             [
              0,
              "#0d0887"
             ],
             [
              0.1111111111111111,
              "#46039f"
             ],
             [
              0.2222222222222222,
              "#7201a8"
             ],
             [
              0.3333333333333333,
              "#9c179e"
             ],
             [
              0.4444444444444444,
              "#bd3786"
             ],
             [
              0.5555555555555556,
              "#d8576b"
             ],
             [
              0.6666666666666666,
              "#ed7953"
             ],
             [
              0.7777777777777778,
              "#fb9f3a"
             ],
             [
              0.8888888888888888,
              "#fdca26"
             ],
             [
              1,
              "#f0f921"
             ]
            ],
            "type": "histogram2d"
           }
          ],
          "histogram2dcontour": [
           {
            "colorbar": {
             "outlinewidth": 0,
             "ticks": ""
            },
            "colorscale": [
             [
              0,
              "#0d0887"
             ],
             [
              0.1111111111111111,
              "#46039f"
             ],
             [
              0.2222222222222222,
              "#7201a8"
             ],
             [
              0.3333333333333333,
              "#9c179e"
             ],
             [
              0.4444444444444444,
              "#bd3786"
             ],
             [
              0.5555555555555556,
              "#d8576b"
             ],
             [
              0.6666666666666666,
              "#ed7953"
             ],
             [
              0.7777777777777778,
              "#fb9f3a"
             ],
             [
              0.8888888888888888,
              "#fdca26"
             ],
             [
              1,
              "#f0f921"
             ]
            ],
            "type": "histogram2dcontour"
           }
          ],
          "mesh3d": [
           {
            "colorbar": {
             "outlinewidth": 0,
             "ticks": ""
            },
            "type": "mesh3d"
           }
          ],
          "parcoords": [
           {
            "line": {
             "colorbar": {
              "outlinewidth": 0,
              "ticks": ""
             }
            },
            "type": "parcoords"
           }
          ],
          "pie": [
           {
            "automargin": true,
            "type": "pie"
           }
          ],
          "scatter": [
           {
            "marker": {
             "colorbar": {
              "outlinewidth": 0,
              "ticks": ""
             }
            },
            "type": "scatter"
           }
          ],
          "scatter3d": [
           {
            "line": {
             "colorbar": {
              "outlinewidth": 0,
              "ticks": ""
             }
            },
            "marker": {
             "colorbar": {
              "outlinewidth": 0,
              "ticks": ""
             }
            },
            "type": "scatter3d"
           }
          ],
          "scattercarpet": [
           {
            "marker": {
             "colorbar": {
              "outlinewidth": 0,
              "ticks": ""
             }
            },
            "type": "scattercarpet"
           }
          ],
          "scattergeo": [
           {
            "marker": {
             "colorbar": {
              "outlinewidth": 0,
              "ticks": ""
             }
            },
            "type": "scattergeo"
           }
          ],
          "scattergl": [
           {
            "marker": {
             "colorbar": {
              "outlinewidth": 0,
              "ticks": ""
             }
            },
            "type": "scattergl"
           }
          ],
          "scattermapbox": [
           {
            "marker": {
             "colorbar": {
              "outlinewidth": 0,
              "ticks": ""
             }
            },
            "type": "scattermapbox"
           }
          ],
          "scatterpolar": [
           {
            "marker": {
             "colorbar": {
              "outlinewidth": 0,
              "ticks": ""
             }
            },
            "type": "scatterpolar"
           }
          ],
          "scatterpolargl": [
           {
            "marker": {
             "colorbar": {
              "outlinewidth": 0,
              "ticks": ""
             }
            },
            "type": "scatterpolargl"
           }
          ],
          "scatterternary": [
           {
            "marker": {
             "colorbar": {
              "outlinewidth": 0,
              "ticks": ""
             }
            },
            "type": "scatterternary"
           }
          ],
          "surface": [
           {
            "colorbar": {
             "outlinewidth": 0,
             "ticks": ""
            },
            "colorscale": [
             [
              0,
              "#0d0887"
             ],
             [
              0.1111111111111111,
              "#46039f"
             ],
             [
              0.2222222222222222,
              "#7201a8"
             ],
             [
              0.3333333333333333,
              "#9c179e"
             ],
             [
              0.4444444444444444,
              "#bd3786"
             ],
             [
              0.5555555555555556,
              "#d8576b"
             ],
             [
              0.6666666666666666,
              "#ed7953"
             ],
             [
              0.7777777777777778,
              "#fb9f3a"
             ],
             [
              0.8888888888888888,
              "#fdca26"
             ],
             [
              1,
              "#f0f921"
             ]
            ],
            "type": "surface"
           }
          ],
          "table": [
           {
            "cells": {
             "fill": {
              "color": "#EBF0F8"
             },
             "line": {
              "color": "white"
             }
            },
            "header": {
             "fill": {
              "color": "#C8D4E3"
             },
             "line": {
              "color": "white"
             }
            },
            "type": "table"
           }
          ]
         },
         "layout": {
          "annotationdefaults": {
           "arrowcolor": "#2a3f5f",
           "arrowhead": 0,
           "arrowwidth": 1
          },
          "coloraxis": {
           "colorbar": {
            "outlinewidth": 0,
            "ticks": ""
           }
          },
          "colorscale": {
           "diverging": [
            [
             0,
             "#8e0152"
            ],
            [
             0.1,
             "#c51b7d"
            ],
            [
             0.2,
             "#de77ae"
            ],
            [
             0.3,
             "#f1b6da"
            ],
            [
             0.4,
             "#fde0ef"
            ],
            [
             0.5,
             "#f7f7f7"
            ],
            [
             0.6,
             "#e6f5d0"
            ],
            [
             0.7,
             "#b8e186"
            ],
            [
             0.8,
             "#7fbc41"
            ],
            [
             0.9,
             "#4d9221"
            ],
            [
             1,
             "#276419"
            ]
           ],
           "sequential": [
            [
             0,
             "#0d0887"
            ],
            [
             0.1111111111111111,
             "#46039f"
            ],
            [
             0.2222222222222222,
             "#7201a8"
            ],
            [
             0.3333333333333333,
             "#9c179e"
            ],
            [
             0.4444444444444444,
             "#bd3786"
            ],
            [
             0.5555555555555556,
             "#d8576b"
            ],
            [
             0.6666666666666666,
             "#ed7953"
            ],
            [
             0.7777777777777778,
             "#fb9f3a"
            ],
            [
             0.8888888888888888,
             "#fdca26"
            ],
            [
             1,
             "#f0f921"
            ]
           ],
           "sequentialminus": [
            [
             0,
             "#0d0887"
            ],
            [
             0.1111111111111111,
             "#46039f"
            ],
            [
             0.2222222222222222,
             "#7201a8"
            ],
            [
             0.3333333333333333,
             "#9c179e"
            ],
            [
             0.4444444444444444,
             "#bd3786"
            ],
            [
             0.5555555555555556,
             "#d8576b"
            ],
            [
             0.6666666666666666,
             "#ed7953"
            ],
            [
             0.7777777777777778,
             "#fb9f3a"
            ],
            [
             0.8888888888888888,
             "#fdca26"
            ],
            [
             1,
             "#f0f921"
            ]
           ]
          },
          "colorway": [
           "#636efa",
           "#EF553B",
           "#00cc96",
           "#ab63fa",
           "#FFA15A",
           "#19d3f3",
           "#FF6692",
           "#B6E880",
           "#FF97FF",
           "#FECB52"
          ],
          "font": {
           "color": "#2a3f5f"
          },
          "geo": {
           "bgcolor": "white",
           "lakecolor": "white",
           "landcolor": "#E5ECF6",
           "showlakes": true,
           "showland": true,
           "subunitcolor": "white"
          },
          "hoverlabel": {
           "align": "left"
          },
          "hovermode": "closest",
          "mapbox": {
           "style": "light"
          },
          "paper_bgcolor": "white",
          "plot_bgcolor": "#E5ECF6",
          "polar": {
           "angularaxis": {
            "gridcolor": "white",
            "linecolor": "white",
            "ticks": ""
           },
           "bgcolor": "#E5ECF6",
           "radialaxis": {
            "gridcolor": "white",
            "linecolor": "white",
            "ticks": ""
           }
          },
          "scene": {
           "xaxis": {
            "backgroundcolor": "#E5ECF6",
            "gridcolor": "white",
            "gridwidth": 2,
            "linecolor": "white",
            "showbackground": true,
            "ticks": "",
            "zerolinecolor": "white"
           },
           "yaxis": {
            "backgroundcolor": "#E5ECF6",
            "gridcolor": "white",
            "gridwidth": 2,
            "linecolor": "white",
            "showbackground": true,
            "ticks": "",
            "zerolinecolor": "white"
           },
           "zaxis": {
            "backgroundcolor": "#E5ECF6",
            "gridcolor": "white",
            "gridwidth": 2,
            "linecolor": "white",
            "showbackground": true,
            "ticks": "",
            "zerolinecolor": "white"
           }
          },
          "shapedefaults": {
           "line": {
            "color": "#2a3f5f"
           }
          },
          "ternary": {
           "aaxis": {
            "gridcolor": "white",
            "linecolor": "white",
            "ticks": ""
           },
           "baxis": {
            "gridcolor": "white",
            "linecolor": "white",
            "ticks": ""
           },
           "bgcolor": "#E5ECF6",
           "caxis": {
            "gridcolor": "white",
            "linecolor": "white",
            "ticks": ""
           }
          },
          "title": {
           "x": 0.05
          },
          "xaxis": {
           "automargin": true,
           "gridcolor": "white",
           "linecolor": "white",
           "ticks": "",
           "title": {
            "standoff": 15
           },
           "zerolinecolor": "white",
           "zerolinewidth": 2
          },
          "yaxis": {
           "automargin": true,
           "gridcolor": "white",
           "linecolor": "white",
           "ticks": "",
           "title": {
            "standoff": 15
           },
           "zerolinecolor": "white",
           "zerolinewidth": 2
          }
         }
        },
        "width": 800
       }
      },
      "text/html": [
       "<div>\n",
       "        \n",
       "        \n",
       "            <div id=\"ad536172-6ed7-45d9-96cb-ec11095b2878\" class=\"plotly-graph-div\" style=\"height:525px; width:800px;\"></div>\n",
       "            <script type=\"text/javascript\">\n",
       "                require([\"plotly\"], function(Plotly) {\n",
       "                    window.PLOTLYENV=window.PLOTLYENV || {};\n",
       "                    \n",
       "                if (document.getElementById(\"ad536172-6ed7-45d9-96cb-ec11095b2878\")) {\n",
       "                    Plotly.newPlot(\n",
       "                        'ad536172-6ed7-45d9-96cb-ec11095b2878',\n",
       "                        [{\"geo\": \"geo\", \"hovertemplate\": \"size=%{marker.size}<br>State=%{text}<br>Lat=%{lat}<br>Long=%{lon}<br>li=%{marker.color}<extra></extra>\", \"lat\": [32.601011199999995, 34.1682185, 34.7519275, 37.2718745, 38.9979339, 41.518783500000005, 39.145251, 27.9757279, 32.6781248, 45.4945756, 39.739318, 39.7662195, 41.9383166, 38.4987789, 37.8222935, 30.9733766, 45.2185133, 38.806352399999994, 42.062939799999995, 44.9435598, 46.4418595, 32.5851062, 38.3046615, 46.6797995, 41.5008195, 38.502032, 44.00123060000001, 40.1430058, 34.1662325, 40.7056258, 35.2145629, 47.467881899999995, 40.1903624, 35.309765399999996, 44.1419049, 40.99459279999999, 41.5827282, 33.62505, 44.2126995, 35.830521000000005, 31.1693363, 39.4997605, 43.8717545, 38.0033855, 38.899348700000004, 38.920170500000005, 44.7862968, 43.000325], \"legendgroup\": \"\", \"lon\": [-86.6807365, -111.930907, -92.13137840000002, -119.2704153, -105.55056699999999, -72.75750699999999, -75.41892059999999, -83.8330166, -83.22297569999999, -114.1424303, -89.504139, -86.441277, -93.389798, -98.32007790000002, -85.76823990000001, -91.42990970000001, -69.0148656, -77.2684162, -71.718067, -86.41580490000001, -93.3655146, -89.8772196, -92.437099, -110.04478300000001, -99.680902, -117.0230604, -71.57992309999999, -74.7311156, -106.02606850000001, -73.97968, -79.8912675, -100.3022655, -82.6692525, -98.71655849999999, -120.5380993, -77.6046984, -71.5064508, -80.9470381, -100.24716409999999, -85.97859890000001, -100.0768425, -111.547028, -72.4477828, -79.4587861, -77.0145665, -80.1816905, -89.82670490000001, -107.5545669], \"marker\": {\"color\": [0, 3, 3, 3, 3, 3, 3, 0, 3, 0, 0, 0, 0, 0, 0, 3, 3, 3, 3, 3, 0, 0, 0, 0, 0, 0, 3, 3, 3, 3, 3, 0, 0, 3, 3, 3, 0, 0, 0, 0, 3, 3, 3, 0, 0, 3, 0, 0], \"coloraxis\": \"coloraxis\", \"size\": [1, 4, 4, 4, 4, 4, 4, 1, 4, 1, 1, 1, 1, 1, 1, 4, 4, 4, 4, 4, 1, 1, 1, 1, 1, 1, 4, 4, 4, 4, 4, 1, 1, 4, 4, 4, 1, 1, 1, 1, 4, 4, 4, 1, 1, 4, 1, 1], \"sizemode\": \"area\", \"sizeref\": 0.01}, \"name\": \"\", \"showlegend\": false, \"text\": [\"Alabama\", \"Arizona\", \"Arkansas\", \"California\", \"Colorado\", \"Connecticut\", \"Delaware\", \"Florida\", \"Georgia\", \"Idaho\", \"Illinois\", \"Indiana\", \"Iowa\", \"Kansas\", \"Kentucky\", \"Louisiana\", \"Maine\", \"Maryland\", \"Massachusetts\", \"Michigan\", \"Minnesota\", \"Mississippi\", \"Missouri\", \"Montana\", \"Nebraska\", \"Nevada\", \"New Hampshire\", \"New Jersey\", \"New Mexico\", \"New York\", \"North Carolina\", \"North Dakota\", \"Ohio\", \"Oklahoma\", \"Oregon\", \"Pennsylvania\", \"Rhode Island\", \"South Carolina\", \"South Dakota\", \"Tennessee\", \"Texas\", \"Utah\", \"Vermont\", \"Virginia\", \"Washington\", \"West Virginia\", \"Wisconsin\", \"Wyoming\"], \"type\": \"scattergeo\"}],\n",
       "                        {\"coloraxis\": {\"colorbar\": {\"title\": {\"text\": \"li\"}}, \"colorscale\": [[0.0, \"#0d0887\"], [0.1111111111111111, \"#46039f\"], [0.2222222222222222, \"#7201a8\"], [0.3333333333333333, \"#9c179e\"], [0.4444444444444444, \"#bd3786\"], [0.5555555555555556, \"#d8576b\"], [0.6666666666666666, \"#ed7953\"], [0.7777777777777778, \"#fb9f3a\"], [0.8888888888888888, \"#fdca26\"], [1.0, \"#f0f921\"]]}, \"geo\": {\"center\": {\"lat\": 19, \"lon\": -99}, \"domain\": {\"x\": [0.0, 1.0], \"y\": [0.0, 1.0]}, \"projection\": {\"type\": \"natural earth\"}, \"scope\": \"north america\"}, \"legend\": {\"itemsizing\": \"constant\", \"tracegroupgap\": 0}, \"margin\": {\"t\": 60}, \"template\": {\"data\": {\"bar\": [{\"error_x\": {\"color\": \"#2a3f5f\"}, \"error_y\": {\"color\": \"#2a3f5f\"}, \"marker\": {\"line\": {\"color\": \"#E5ECF6\", \"width\": 0.5}}, \"type\": \"bar\"}], \"barpolar\": [{\"marker\": {\"line\": {\"color\": \"#E5ECF6\", \"width\": 0.5}}, \"type\": \"barpolar\"}], \"carpet\": [{\"aaxis\": {\"endlinecolor\": \"#2a3f5f\", \"gridcolor\": \"white\", \"linecolor\": \"white\", \"minorgridcolor\": \"white\", \"startlinecolor\": \"#2a3f5f\"}, \"baxis\": {\"endlinecolor\": \"#2a3f5f\", \"gridcolor\": \"white\", \"linecolor\": \"white\", \"minorgridcolor\": \"white\", \"startlinecolor\": \"#2a3f5f\"}, \"type\": \"carpet\"}], \"choropleth\": [{\"colorbar\": {\"outlinewidth\": 0, \"ticks\": \"\"}, \"type\": \"choropleth\"}], \"contour\": [{\"colorbar\": {\"outlinewidth\": 0, \"ticks\": \"\"}, \"colorscale\": [[0.0, \"#0d0887\"], [0.1111111111111111, \"#46039f\"], [0.2222222222222222, \"#7201a8\"], [0.3333333333333333, \"#9c179e\"], [0.4444444444444444, \"#bd3786\"], [0.5555555555555556, \"#d8576b\"], [0.6666666666666666, \"#ed7953\"], [0.7777777777777778, \"#fb9f3a\"], [0.8888888888888888, \"#fdca26\"], [1.0, \"#f0f921\"]], \"type\": \"contour\"}], \"contourcarpet\": [{\"colorbar\": {\"outlinewidth\": 0, \"ticks\": \"\"}, \"type\": \"contourcarpet\"}], \"heatmap\": [{\"colorbar\": {\"outlinewidth\": 0, \"ticks\": \"\"}, \"colorscale\": [[0.0, \"#0d0887\"], [0.1111111111111111, \"#46039f\"], [0.2222222222222222, \"#7201a8\"], [0.3333333333333333, \"#9c179e\"], [0.4444444444444444, \"#bd3786\"], [0.5555555555555556, \"#d8576b\"], [0.6666666666666666, \"#ed7953\"], [0.7777777777777778, \"#fb9f3a\"], [0.8888888888888888, \"#fdca26\"], [1.0, \"#f0f921\"]], \"type\": \"heatmap\"}], \"heatmapgl\": [{\"colorbar\": {\"outlinewidth\": 0, \"ticks\": \"\"}, \"colorscale\": [[0.0, \"#0d0887\"], [0.1111111111111111, \"#46039f\"], [0.2222222222222222, \"#7201a8\"], [0.3333333333333333, \"#9c179e\"], [0.4444444444444444, \"#bd3786\"], [0.5555555555555556, \"#d8576b\"], [0.6666666666666666, \"#ed7953\"], [0.7777777777777778, \"#fb9f3a\"], [0.8888888888888888, \"#fdca26\"], [1.0, \"#f0f921\"]], \"type\": \"heatmapgl\"}], \"histogram\": [{\"marker\": {\"colorbar\": {\"outlinewidth\": 0, \"ticks\": \"\"}}, \"type\": \"histogram\"}], \"histogram2d\": [{\"colorbar\": {\"outlinewidth\": 0, \"ticks\": \"\"}, \"colorscale\": [[0.0, \"#0d0887\"], [0.1111111111111111, \"#46039f\"], [0.2222222222222222, \"#7201a8\"], [0.3333333333333333, \"#9c179e\"], [0.4444444444444444, \"#bd3786\"], [0.5555555555555556, \"#d8576b\"], [0.6666666666666666, \"#ed7953\"], [0.7777777777777778, \"#fb9f3a\"], [0.8888888888888888, \"#fdca26\"], [1.0, \"#f0f921\"]], \"type\": \"histogram2d\"}], \"histogram2dcontour\": [{\"colorbar\": {\"outlinewidth\": 0, \"ticks\": \"\"}, \"colorscale\": [[0.0, \"#0d0887\"], [0.1111111111111111, \"#46039f\"], [0.2222222222222222, \"#7201a8\"], [0.3333333333333333, \"#9c179e\"], [0.4444444444444444, \"#bd3786\"], [0.5555555555555556, \"#d8576b\"], [0.6666666666666666, \"#ed7953\"], [0.7777777777777778, \"#fb9f3a\"], [0.8888888888888888, \"#fdca26\"], [1.0, \"#f0f921\"]], \"type\": \"histogram2dcontour\"}], \"mesh3d\": [{\"colorbar\": {\"outlinewidth\": 0, \"ticks\": \"\"}, \"type\": \"mesh3d\"}], \"parcoords\": [{\"line\": {\"colorbar\": {\"outlinewidth\": 0, \"ticks\": \"\"}}, \"type\": \"parcoords\"}], \"pie\": [{\"automargin\": true, \"type\": \"pie\"}], \"scatter\": [{\"marker\": {\"colorbar\": {\"outlinewidth\": 0, \"ticks\": \"\"}}, \"type\": \"scatter\"}], \"scatter3d\": [{\"line\": {\"colorbar\": {\"outlinewidth\": 0, \"ticks\": \"\"}}, \"marker\": {\"colorbar\": {\"outlinewidth\": 0, \"ticks\": \"\"}}, \"type\": \"scatter3d\"}], \"scattercarpet\": [{\"marker\": {\"colorbar\": {\"outlinewidth\": 0, \"ticks\": \"\"}}, \"type\": \"scattercarpet\"}], \"scattergeo\": [{\"marker\": {\"colorbar\": {\"outlinewidth\": 0, \"ticks\": \"\"}}, \"type\": \"scattergeo\"}], \"scattergl\": [{\"marker\": {\"colorbar\": {\"outlinewidth\": 0, \"ticks\": \"\"}}, \"type\": \"scattergl\"}], \"scattermapbox\": [{\"marker\": {\"colorbar\": {\"outlinewidth\": 0, \"ticks\": \"\"}}, \"type\": \"scattermapbox\"}], \"scatterpolar\": [{\"marker\": {\"colorbar\": {\"outlinewidth\": 0, \"ticks\": \"\"}}, \"type\": \"scatterpolar\"}], \"scatterpolargl\": [{\"marker\": {\"colorbar\": {\"outlinewidth\": 0, \"ticks\": \"\"}}, \"type\": \"scatterpolargl\"}], \"scatterternary\": [{\"marker\": {\"colorbar\": {\"outlinewidth\": 0, \"ticks\": \"\"}}, \"type\": \"scatterternary\"}], \"surface\": [{\"colorbar\": {\"outlinewidth\": 0, \"ticks\": \"\"}, \"colorscale\": [[0.0, \"#0d0887\"], [0.1111111111111111, \"#46039f\"], [0.2222222222222222, \"#7201a8\"], [0.3333333333333333, \"#9c179e\"], [0.4444444444444444, \"#bd3786\"], [0.5555555555555556, \"#d8576b\"], [0.6666666666666666, \"#ed7953\"], [0.7777777777777778, \"#fb9f3a\"], [0.8888888888888888, \"#fdca26\"], [1.0, \"#f0f921\"]], \"type\": \"surface\"}], \"table\": [{\"cells\": {\"fill\": {\"color\": \"#EBF0F8\"}, \"line\": {\"color\": \"white\"}}, \"header\": {\"fill\": {\"color\": \"#C8D4E3\"}, \"line\": {\"color\": \"white\"}}, \"type\": \"table\"}]}, \"layout\": {\"annotationdefaults\": {\"arrowcolor\": \"#2a3f5f\", \"arrowhead\": 0, \"arrowwidth\": 1}, \"coloraxis\": {\"colorbar\": {\"outlinewidth\": 0, \"ticks\": \"\"}}, \"colorscale\": {\"diverging\": [[0, \"#8e0152\"], [0.1, \"#c51b7d\"], [0.2, \"#de77ae\"], [0.3, \"#f1b6da\"], [0.4, \"#fde0ef\"], [0.5, \"#f7f7f7\"], [0.6, \"#e6f5d0\"], [0.7, \"#b8e186\"], [0.8, \"#7fbc41\"], [0.9, \"#4d9221\"], [1, \"#276419\"]], \"sequential\": [[0.0, \"#0d0887\"], [0.1111111111111111, \"#46039f\"], [0.2222222222222222, \"#7201a8\"], [0.3333333333333333, \"#9c179e\"], [0.4444444444444444, \"#bd3786\"], [0.5555555555555556, \"#d8576b\"], [0.6666666666666666, \"#ed7953\"], [0.7777777777777778, \"#fb9f3a\"], [0.8888888888888888, \"#fdca26\"], [1.0, \"#f0f921\"]], \"sequentialminus\": [[0.0, \"#0d0887\"], [0.1111111111111111, \"#46039f\"], [0.2222222222222222, \"#7201a8\"], [0.3333333333333333, \"#9c179e\"], [0.4444444444444444, \"#bd3786\"], [0.5555555555555556, \"#d8576b\"], [0.6666666666666666, \"#ed7953\"], [0.7777777777777778, \"#fb9f3a\"], [0.8888888888888888, \"#fdca26\"], [1.0, \"#f0f921\"]]}, \"colorway\": [\"#636efa\", \"#EF553B\", \"#00cc96\", \"#ab63fa\", \"#FFA15A\", \"#19d3f3\", \"#FF6692\", \"#B6E880\", \"#FF97FF\", \"#FECB52\"], \"font\": {\"color\": \"#2a3f5f\"}, \"geo\": {\"bgcolor\": \"white\", \"lakecolor\": \"white\", \"landcolor\": \"#E5ECF6\", \"showlakes\": true, \"showland\": true, \"subunitcolor\": \"white\"}, \"hoverlabel\": {\"align\": \"left\"}, \"hovermode\": \"closest\", \"mapbox\": {\"style\": \"light\"}, \"paper_bgcolor\": \"white\", \"plot_bgcolor\": \"#E5ECF6\", \"polar\": {\"angularaxis\": {\"gridcolor\": \"white\", \"linecolor\": \"white\", \"ticks\": \"\"}, \"bgcolor\": \"#E5ECF6\", \"radialaxis\": {\"gridcolor\": \"white\", \"linecolor\": \"white\", \"ticks\": \"\"}}, \"scene\": {\"xaxis\": {\"backgroundcolor\": \"#E5ECF6\", \"gridcolor\": \"white\", \"gridwidth\": 2, \"linecolor\": \"white\", \"showbackground\": true, \"ticks\": \"\", \"zerolinecolor\": \"white\"}, \"yaxis\": {\"backgroundcolor\": \"#E5ECF6\", \"gridcolor\": \"white\", \"gridwidth\": 2, \"linecolor\": \"white\", \"showbackground\": true, \"ticks\": \"\", \"zerolinecolor\": \"white\"}, \"zaxis\": {\"backgroundcolor\": \"#E5ECF6\", \"gridcolor\": \"white\", \"gridwidth\": 2, \"linecolor\": \"white\", \"showbackground\": true, \"ticks\": \"\", \"zerolinecolor\": \"white\"}}, \"shapedefaults\": {\"line\": {\"color\": \"#2a3f5f\"}}, \"ternary\": {\"aaxis\": {\"gridcolor\": \"white\", \"linecolor\": \"white\", \"ticks\": \"\"}, \"baxis\": {\"gridcolor\": \"white\", \"linecolor\": \"white\", \"ticks\": \"\"}, \"bgcolor\": \"#E5ECF6\", \"caxis\": {\"gridcolor\": \"white\", \"linecolor\": \"white\", \"ticks\": \"\"}}, \"title\": {\"x\": 0.05}, \"xaxis\": {\"automargin\": true, \"gridcolor\": \"white\", \"linecolor\": \"white\", \"ticks\": \"\", \"title\": {\"standoff\": 15}, \"zerolinecolor\": \"white\", \"zerolinewidth\": 2}, \"yaxis\": {\"automargin\": true, \"gridcolor\": \"white\", \"linecolor\": \"white\", \"ticks\": \"\", \"title\": {\"standoff\": 15}, \"zerolinecolor\": \"white\", \"zerolinewidth\": 2}}}, \"width\": 800},\n",
       "                        {\"responsive\": true}\n",
       "                    ).then(function(){\n",
       "                            \n",
       "var gd = document.getElementById('ad536172-6ed7-45d9-96cb-ec11095b2878');\n",
       "var x = new MutationObserver(function (mutations, observer) {{\n",
       "        var display = window.getComputedStyle(gd).display;\n",
       "        if (!display || display === 'none') {{\n",
       "            console.log([gd, 'removed!']);\n",
       "            Plotly.purge(gd);\n",
       "            observer.disconnect();\n",
       "        }}\n",
       "}});\n",
       "\n",
       "// Listen for the removal of the full notebook cells\n",
       "var notebookContainer = gd.closest('#notebook-container');\n",
       "if (notebookContainer) {{\n",
       "    x.observe(notebookContainer, {childList: true});\n",
       "}}\n",
       "\n",
       "// Listen for the clearing of the current output cell\n",
       "var outputEl = gd.closest('.output');\n",
       "if (outputEl) {{\n",
       "    x.observe(outputEl, {childList: true});\n",
       "}}\n",
       "\n",
       "                        })\n",
       "                };\n",
       "                });\n",
       "            </script>\n",
       "        </div>"
      ]
     },
     "metadata": {},
     "output_type": "display_data"
    }
   ],
   "source": [
    "fig = px.scatter_geo(df, lat=\"Lat\",lon=\"Long\", color='li',size=df['li']+1,\n",
    "                     #animation_frame=\"Fecha\",\n",
    "                     scope='north america',#range_color=[0,max(todos['conteo'])],\n",
    "                     center={'lat':19,'lon':-99},width=800,text = df['State'],\n",
    "                     projection=\"natural earth\")\n",
    "\n",
    "\n",
    "fig.show()"
   ]
  },
  {
   "cell_type": "code",
   "execution_count": 565,
   "metadata": {
    "colab": {},
    "colab_type": "code",
    "id": "gEgto-ogaNj7"
   },
   "outputs": [],
   "source": [
    "output = {'State': states_list, 'Prediction': lista}\n",
    "output = pd.DataFrame(data=output)\n",
    "output.to_csv('predicted_'+str(percentage_labeled*100)+'_labeled.csv', index = False)"
   ]
  },
  {
   "cell_type": "code",
   "execution_count": null,
   "metadata": {},
   "outputs": [],
   "source": []
  }
 ],
 "metadata": {
  "colab": {
   "authorship_tag": "ABX9TyOTiAj+QZprMNLAc610oCGY",
   "include_colab_link": true,
   "name": "dgl_map.ipynb",
   "provenance": []
  },
  "kernelspec": {
   "display_name": "Python 3",
   "language": "python",
   "name": "python3"
  },
  "language_info": {
   "codemirror_mode": {
    "name": "ipython",
    "version": 3
   },
   "file_extension": ".py",
   "mimetype": "text/x-python",
   "name": "python",
   "nbconvert_exporter": "python",
   "pygments_lexer": "ipython3",
   "version": "3.7.6"
  }
 },
 "nbformat": 4,
 "nbformat_minor": 1
}
