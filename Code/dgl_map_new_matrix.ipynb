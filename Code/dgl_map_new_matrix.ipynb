{
 "cells": [
  {
   "cell_type": "markdown",
   "metadata": {
    "colab_type": "text",
    "id": "view-in-github"
   },
   "source": [
    "<a href=\"https://colab.research.google.com/github/napoles-uach/covid19mx/blob/master/dgl_map.ipynb\" target=\"_parent\"><img src=\"https://colab.research.google.com/assets/colab-badge.svg\" alt=\"Open In Colab\"/></a>"
   ]
  },
  {
   "cell_type": "code",
   "execution_count": 0,
   "metadata": {
    "colab": {},
    "colab_type": "code",
    "id": "MioIcBaAwmrM"
   },
   "outputs": [],
   "source": [
    "!pip install dgl"
   ]
  },
  {
   "cell_type": "code",
   "execution_count": 0,
   "metadata": {
    "colab": {},
    "colab_type": "code",
    "id": "NZQkvXIxws5L"
   },
   "outputs": [],
   "source": [
    "import dgl\n",
    "import numpy as np\n",
    "import pandas as pd\n"
   ]
  },
  {
   "cell_type": "code",
   "execution_count": 0,
   "metadata": {
    "colab": {},
    "colab_type": "code",
    "id": "WUIAEV5GaT3N"
   },
   "outputs": [],
   "source": [
    "!pip install chart_studio\n",
    "import plotly.express as px\n",
    "import chart_studio.plotly as py"
   ]
  },
  {
   "cell_type": "code",
   "execution_count": 0,
   "metadata": {
    "colab": {},
    "colab_type": "code",
    "id": "iD49lFY_0DMz"
   },
   "outputs": [],
   "source": [
    "df3=pd.read_csv(\"https://raw.githubusercontent.com/napoles-uach/covid19mx/master/estadoslatlon.csv\")\n",
    "df2=pd.read_csv('https://raw.githubusercontent.com/napoles-uach/covid19mx/master/DensPob.csv')\n",
    "estados_list=df3[\"Estado\"].to_list()\n",
    "lat_list=df3[\"Lat\"]\n",
    "lon_list=df3['Long']"
   ]
  },
  {
   "cell_type": "code",
   "execution_count": 5,
   "metadata": {
    "colab": {
     "base_uri": "https://localhost:8080/",
     "height": 817
    },
    "colab_type": "code",
    "id": "xE0Sb0YC5ds7",
    "outputId": "4670b92f-6edf-4364-93e8-b23f8f5dcce4"
   },
   "outputs": [
    {
     "data": {
      "text/html": [
       "<html>\n",
       "<head><meta charset=\"utf-8\" /></head>\n",
       "<body>\n",
       "    <div>\n",
       "            <script src=\"https://cdnjs.cloudflare.com/ajax/libs/mathjax/2.7.5/MathJax.js?config=TeX-AMS-MML_SVG\"></script><script type=\"text/javascript\">if (window.MathJax) {MathJax.Hub.Config({SVG: {font: \"STIX-Web\"}});}</script>\n",
       "                <script type=\"text/javascript\">window.PlotlyConfig = {MathJaxConfig: 'local'};</script>\n",
       "        <script src=\"https://cdn.plot.ly/plotly-latest.min.js\"></script>    \n",
       "            <div id=\"367cc7ce-014b-4479-b823-bbd357668bfe\" class=\"plotly-graph-div\" style=\"height:800px; width:800px;\"></div>\n",
       "            <script type=\"text/javascript\">\n",
       "                \n",
       "                    window.PLOTLYENV=window.PLOTLYENV || {};\n",
       "                    \n",
       "                if (document.getElementById(\"367cc7ce-014b-4479-b823-bbd357668bfe\")) {\n",
       "                    Plotly.newPlot(\n",
       "                        '367cc7ce-014b-4479-b823-bbd357668bfe',\n",
       "                        [{\"alignmentgroup\": \"True\", \"hoverlabel\": {\"namelength\": 0}, \"hovertemplate\": \"Population Density [inhabitants per square km]=%{x}<br>State=%{y}\", \"legendgroup\": \"\", \"marker\": {\"color\": \"#636efa\"}, \"name\": \"\", \"offsetgroup\": \"\", \"orientation\": \"h\", \"showlegend\": false, \"textposition\": \"auto\", \"type\": \"bar\", \"x\": [9.6, 14.2, 14.4, 15.6, 15.9, 19.5, 21.0, 33.6, 42.3, 42.4, 42.9, 44.5, 46.4, 51.7, 53.1, 55.6, 71.2, 78.2, 79.8, 96.9, 99.8, 113.0, 126.4, 137.3, 174.4, 179.8, 191.3, 233.7, 318.4, 390.2, 724.2, 5967.3], \"xaxis\": \"x\", \"y\": [\"Baja California Sur\", \"Durango\", \"Chihuahua\", \"Campeche\", \"Sonora\", \"Coahuila\", \"Zacatecas\", \"Quintana Roo\", \"Oaxaca\", \"Nayarit\", \"Tamaulipas\", \"San Luis Potos\\u00ed\", \"Baja California\", \"Sinaloa\", \"Yucat\\u00e1n\", \"Guerrero\", \"Chiapas\", \"Michoac\\u00e1n \", \"Nuevo Le\\u00f3n\", \"Tabasco\", \"Jalisco\", \"Veracruz\", \"Colima\", \"Hidalgo\", \"Quer\\u00e9taro\", \"Puebla\", \"Guanajuato\", \"Aguascalientes\", \"Tlaxcala\", \"Morelos\", \"M\\u00e9xico\", \"Ciudad de M\\u00e9xico\"], \"yaxis\": \"y\"}],\n",
       "                        {\"barmode\": \"relative\", \"height\": 800, \"legend\": {\"tracegroupgap\": 0}, \"margin\": {\"t\": 60}, \"template\": {\"data\": {\"bar\": [{\"error_x\": {\"color\": \"#2a3f5f\"}, \"error_y\": {\"color\": \"#2a3f5f\"}, \"marker\": {\"line\": {\"color\": \"#E5ECF6\", \"width\": 0.5}}, \"type\": \"bar\"}], \"barpolar\": [{\"marker\": {\"line\": {\"color\": \"#E5ECF6\", \"width\": 0.5}}, \"type\": \"barpolar\"}], \"carpet\": [{\"aaxis\": {\"endlinecolor\": \"#2a3f5f\", \"gridcolor\": \"white\", \"linecolor\": \"white\", \"minorgridcolor\": \"white\", \"startlinecolor\": \"#2a3f5f\"}, \"baxis\": {\"endlinecolor\": \"#2a3f5f\", \"gridcolor\": \"white\", \"linecolor\": \"white\", \"minorgridcolor\": \"white\", \"startlinecolor\": \"#2a3f5f\"}, \"type\": \"carpet\"}], \"choropleth\": [{\"colorbar\": {\"outlinewidth\": 0, \"ticks\": \"\"}, \"type\": \"choropleth\"}], \"contour\": [{\"colorbar\": {\"outlinewidth\": 0, \"ticks\": \"\"}, \"colorscale\": [[0.0, \"#0d0887\"], [0.1111111111111111, \"#46039f\"], [0.2222222222222222, \"#7201a8\"], [0.3333333333333333, \"#9c179e\"], [0.4444444444444444, \"#bd3786\"], [0.5555555555555556, \"#d8576b\"], [0.6666666666666666, \"#ed7953\"], [0.7777777777777778, \"#fb9f3a\"], [0.8888888888888888, \"#fdca26\"], [1.0, \"#f0f921\"]], \"type\": \"contour\"}], \"contourcarpet\": [{\"colorbar\": {\"outlinewidth\": 0, \"ticks\": \"\"}, \"type\": \"contourcarpet\"}], \"heatmap\": [{\"colorbar\": {\"outlinewidth\": 0, \"ticks\": \"\"}, \"colorscale\": [[0.0, \"#0d0887\"], [0.1111111111111111, \"#46039f\"], [0.2222222222222222, \"#7201a8\"], [0.3333333333333333, \"#9c179e\"], [0.4444444444444444, \"#bd3786\"], [0.5555555555555556, \"#d8576b\"], [0.6666666666666666, \"#ed7953\"], [0.7777777777777778, \"#fb9f3a\"], [0.8888888888888888, \"#fdca26\"], [1.0, \"#f0f921\"]], \"type\": \"heatmap\"}], \"heatmapgl\": [{\"colorbar\": {\"outlinewidth\": 0, \"ticks\": \"\"}, \"colorscale\": [[0.0, \"#0d0887\"], [0.1111111111111111, \"#46039f\"], [0.2222222222222222, \"#7201a8\"], [0.3333333333333333, \"#9c179e\"], [0.4444444444444444, \"#bd3786\"], [0.5555555555555556, \"#d8576b\"], [0.6666666666666666, \"#ed7953\"], [0.7777777777777778, \"#fb9f3a\"], [0.8888888888888888, \"#fdca26\"], [1.0, \"#f0f921\"]], \"type\": \"heatmapgl\"}], \"histogram\": [{\"marker\": {\"colorbar\": {\"outlinewidth\": 0, \"ticks\": \"\"}}, \"type\": \"histogram\"}], \"histogram2d\": [{\"colorbar\": {\"outlinewidth\": 0, \"ticks\": \"\"}, \"colorscale\": [[0.0, \"#0d0887\"], [0.1111111111111111, \"#46039f\"], [0.2222222222222222, \"#7201a8\"], [0.3333333333333333, \"#9c179e\"], [0.4444444444444444, \"#bd3786\"], [0.5555555555555556, \"#d8576b\"], [0.6666666666666666, \"#ed7953\"], [0.7777777777777778, \"#fb9f3a\"], [0.8888888888888888, \"#fdca26\"], [1.0, \"#f0f921\"]], \"type\": \"histogram2d\"}], \"histogram2dcontour\": [{\"colorbar\": {\"outlinewidth\": 0, \"ticks\": \"\"}, \"colorscale\": [[0.0, \"#0d0887\"], [0.1111111111111111, \"#46039f\"], [0.2222222222222222, \"#7201a8\"], [0.3333333333333333, \"#9c179e\"], [0.4444444444444444, \"#bd3786\"], [0.5555555555555556, \"#d8576b\"], [0.6666666666666666, \"#ed7953\"], [0.7777777777777778, \"#fb9f3a\"], [0.8888888888888888, \"#fdca26\"], [1.0, \"#f0f921\"]], \"type\": \"histogram2dcontour\"}], \"mesh3d\": [{\"colorbar\": {\"outlinewidth\": 0, \"ticks\": \"\"}, \"type\": \"mesh3d\"}], \"parcoords\": [{\"line\": {\"colorbar\": {\"outlinewidth\": 0, \"ticks\": \"\"}}, \"type\": \"parcoords\"}], \"pie\": [{\"automargin\": true, \"type\": \"pie\"}], \"scatter\": [{\"marker\": {\"colorbar\": {\"outlinewidth\": 0, \"ticks\": \"\"}}, \"type\": \"scatter\"}], \"scatter3d\": [{\"line\": {\"colorbar\": {\"outlinewidth\": 0, \"ticks\": \"\"}}, \"marker\": {\"colorbar\": {\"outlinewidth\": 0, \"ticks\": \"\"}}, \"type\": \"scatter3d\"}], \"scattercarpet\": [{\"marker\": {\"colorbar\": {\"outlinewidth\": 0, \"ticks\": \"\"}}, \"type\": \"scattercarpet\"}], \"scattergeo\": [{\"marker\": {\"colorbar\": {\"outlinewidth\": 0, \"ticks\": \"\"}}, \"type\": \"scattergeo\"}], \"scattergl\": [{\"marker\": {\"colorbar\": {\"outlinewidth\": 0, \"ticks\": \"\"}}, \"type\": \"scattergl\"}], \"scattermapbox\": [{\"marker\": {\"colorbar\": {\"outlinewidth\": 0, \"ticks\": \"\"}}, \"type\": \"scattermapbox\"}], \"scatterpolar\": [{\"marker\": {\"colorbar\": {\"outlinewidth\": 0, \"ticks\": \"\"}}, \"type\": \"scatterpolar\"}], \"scatterpolargl\": [{\"marker\": {\"colorbar\": {\"outlinewidth\": 0, \"ticks\": \"\"}}, \"type\": \"scatterpolargl\"}], \"scatterternary\": [{\"marker\": {\"colorbar\": {\"outlinewidth\": 0, \"ticks\": \"\"}}, \"type\": \"scatterternary\"}], \"surface\": [{\"colorbar\": {\"outlinewidth\": 0, \"ticks\": \"\"}, \"colorscale\": [[0.0, \"#0d0887\"], [0.1111111111111111, \"#46039f\"], [0.2222222222222222, \"#7201a8\"], [0.3333333333333333, \"#9c179e\"], [0.4444444444444444, \"#bd3786\"], [0.5555555555555556, \"#d8576b\"], [0.6666666666666666, \"#ed7953\"], [0.7777777777777778, \"#fb9f3a\"], [0.8888888888888888, \"#fdca26\"], [1.0, \"#f0f921\"]], \"type\": \"surface\"}], \"table\": [{\"cells\": {\"fill\": {\"color\": \"#EBF0F8\"}, \"line\": {\"color\": \"white\"}}, \"header\": {\"fill\": {\"color\": \"#C8D4E3\"}, \"line\": {\"color\": \"white\"}}, \"type\": \"table\"}]}, \"layout\": {\"annotationdefaults\": {\"arrowcolor\": \"#2a3f5f\", \"arrowhead\": 0, \"arrowwidth\": 1}, \"coloraxis\": {\"colorbar\": {\"outlinewidth\": 0, \"ticks\": \"\"}}, \"colorscale\": {\"diverging\": [[0, \"#8e0152\"], [0.1, \"#c51b7d\"], [0.2, \"#de77ae\"], [0.3, \"#f1b6da\"], [0.4, \"#fde0ef\"], [0.5, \"#f7f7f7\"], [0.6, \"#e6f5d0\"], [0.7, \"#b8e186\"], [0.8, \"#7fbc41\"], [0.9, \"#4d9221\"], [1, \"#276419\"]], \"sequential\": [[0.0, \"#0d0887\"], [0.1111111111111111, \"#46039f\"], [0.2222222222222222, \"#7201a8\"], [0.3333333333333333, \"#9c179e\"], [0.4444444444444444, \"#bd3786\"], [0.5555555555555556, \"#d8576b\"], [0.6666666666666666, \"#ed7953\"], [0.7777777777777778, \"#fb9f3a\"], [0.8888888888888888, \"#fdca26\"], [1.0, \"#f0f921\"]], \"sequentialminus\": [[0.0, \"#0d0887\"], [0.1111111111111111, \"#46039f\"], [0.2222222222222222, \"#7201a8\"], [0.3333333333333333, \"#9c179e\"], [0.4444444444444444, \"#bd3786\"], [0.5555555555555556, \"#d8576b\"], [0.6666666666666666, \"#ed7953\"], [0.7777777777777778, \"#fb9f3a\"], [0.8888888888888888, \"#fdca26\"], [1.0, \"#f0f921\"]]}, \"colorway\": [\"#636efa\", \"#EF553B\", \"#00cc96\", \"#ab63fa\", \"#FFA15A\", \"#19d3f3\", \"#FF6692\", \"#B6E880\", \"#FF97FF\", \"#FECB52\"], \"font\": {\"color\": \"#2a3f5f\"}, \"geo\": {\"bgcolor\": \"white\", \"lakecolor\": \"white\", \"landcolor\": \"#E5ECF6\", \"showlakes\": true, \"showland\": true, \"subunitcolor\": \"white\"}, \"hoverlabel\": {\"align\": \"left\"}, \"hovermode\": \"closest\", \"mapbox\": {\"style\": \"light\"}, \"paper_bgcolor\": \"white\", \"plot_bgcolor\": \"#E5ECF6\", \"polar\": {\"angularaxis\": {\"gridcolor\": \"white\", \"linecolor\": \"white\", \"ticks\": \"\"}, \"bgcolor\": \"#E5ECF6\", \"radialaxis\": {\"gridcolor\": \"white\", \"linecolor\": \"white\", \"ticks\": \"\"}}, \"scene\": {\"xaxis\": {\"backgroundcolor\": \"#E5ECF6\", \"gridcolor\": \"white\", \"gridwidth\": 2, \"linecolor\": \"white\", \"showbackground\": true, \"ticks\": \"\", \"zerolinecolor\": \"white\"}, \"yaxis\": {\"backgroundcolor\": \"#E5ECF6\", \"gridcolor\": \"white\", \"gridwidth\": 2, \"linecolor\": \"white\", \"showbackground\": true, \"ticks\": \"\", \"zerolinecolor\": \"white\"}, \"zaxis\": {\"backgroundcolor\": \"#E5ECF6\", \"gridcolor\": \"white\", \"gridwidth\": 2, \"linecolor\": \"white\", \"showbackground\": true, \"ticks\": \"\", \"zerolinecolor\": \"white\"}}, \"shapedefaults\": {\"line\": {\"color\": \"#2a3f5f\"}}, \"ternary\": {\"aaxis\": {\"gridcolor\": \"white\", \"linecolor\": \"white\", \"ticks\": \"\"}, \"baxis\": {\"gridcolor\": \"white\", \"linecolor\": \"white\", \"ticks\": \"\"}, \"bgcolor\": \"#E5ECF6\", \"caxis\": {\"gridcolor\": \"white\", \"linecolor\": \"white\", \"ticks\": \"\"}}, \"title\": {\"x\": 0.05}, \"xaxis\": {\"automargin\": true, \"gridcolor\": \"white\", \"linecolor\": \"white\", \"ticks\": \"\", \"title\": {\"standoff\": 15}, \"zerolinecolor\": \"white\", \"zerolinewidth\": 2}, \"yaxis\": {\"automargin\": true, \"gridcolor\": \"white\", \"linecolor\": \"white\", \"ticks\": \"\", \"title\": {\"standoff\": 15}, \"zerolinecolor\": \"white\", \"zerolinewidth\": 2}}}, \"width\": 800, \"xaxis\": {\"anchor\": \"y\", \"domain\": [0.0, 1.0], \"title\": {\"text\": \"Population Density [inhabitants per square km]\"}}, \"yaxis\": {\"anchor\": \"x\", \"domain\": [0.0, 1.0], \"title\": {\"text\": \"State\"}}},\n",
       "                        {\"responsive\": true}\n",
       "                    ).then(function(){\n",
       "                            \n",
       "var gd = document.getElementById('367cc7ce-014b-4479-b823-bbd357668bfe');\n",
       "var x = new MutationObserver(function (mutations, observer) {{\n",
       "        var display = window.getComputedStyle(gd).display;\n",
       "        if (!display || display === 'none') {{\n",
       "            console.log([gd, 'removed!']);\n",
       "            Plotly.purge(gd);\n",
       "            observer.disconnect();\n",
       "        }}\n",
       "}});\n",
       "\n",
       "// Listen for the removal of the full notebook cells\n",
       "var notebookContainer = gd.closest('#notebook-container');\n",
       "if (notebookContainer) {{\n",
       "    x.observe(notebookContainer, {childList: true});\n",
       "}}\n",
       "\n",
       "// Listen for the clearing of the current output cell\n",
       "var outputEl = gd.closest('.output');\n",
       "if (outputEl) {{\n",
       "    x.observe(outputEl, {childList: true});\n",
       "}}\n",
       "\n",
       "                        })\n",
       "                };\n",
       "                \n",
       "            </script>\n",
       "        </div>\n",
       "</body>\n",
       "</html>"
      ]
     },
     "metadata": {
      "tags": []
     },
     "output_type": "display_data"
    }
   ],
   "source": [
    "densidad=df2.sort_values(by=['Densidad'])\n",
    "fig = px.bar(densidad, y=\"Estado\", x=\"Densidad\", orientation='h',height=800,width=800,labels={'Densidad':'Population Density [inhabitants per square km]','Estado':'State'})\n",
    "fig.show()\n"
   ]
  },
  {
   "cell_type": "code",
   "execution_count": 0,
   "metadata": {
    "colab": {},
    "colab_type": "code",
    "id": "8jtG_p8dwwXs"
   },
   "outputs": [],
   "source": [
    "G=dgl.DGLGraph()"
   ]
  },
  {
   "cell_type": "code",
   "execution_count": 0,
   "metadata": {
    "colab": {},
    "colab_type": "code",
    "id": "D__CS6ra7kz-"
   },
   "outputs": [],
   "source": [
    "G.add_nodes(32)"
   ]
  },
  {
   "cell_type": "code",
   "execution_count": 0,
   "metadata": {
    "colab": {},
    "colab_type": "code",
    "id": "Nu-EoDET1qG-"
   },
   "outputs": [],
   "source": [
    "import numpy as np\n",
    "def build_map():\n",
    "  src=np.array([0 ,0 ,0 ,0 ,\n",
    "                1 ,1 ,1 ,1 ,\n",
    "                2 ,2 ,2 ,2 ,2 ,2 ,\n",
    "                3 ,3 ,3 ,\n",
    "                4 ,4 ,4 ,4 ,4 ,4 ,\n",
    "                5 ,5 ,5 ,\n",
    "                6 ,6 ,6 ,\n",
    "                7 ,7 , \n",
    "                8 ,8 ,8 ,8 ,8 , \n",
    "                9 ,9 ,9 ,9 ,9 ,9 , \n",
    "                10 ,10 ,10 ,10 ,10 ,\n",
    "                11 ,11 ,11 ,11 ,\n",
    "                12 ,12 ,12 ,12 ,12 ,12 ,\n",
    "                13 ,13 ,13 ,13 ,\n",
    "                14  ,14 ,14 ,14 ,14 ,14 ,14 ,\n",
    "                15 , 15 ,15 ,\n",
    "                16 ,\n",
    "                17 ,17 ,17 ,17 , \n",
    "                18 ,18 ,18 ,18 , 18 ,\n",
    "                19 ,19 ,19 ,\n",
    "                20 ,20 ,20 ,20 ,\n",
    "                21 ,21 ,21 ,21 ,\n",
    "                22 ,22 ,22 ,22 ,22 ,22 ,22 ,22 ,\n",
    "                23 ,23 ,23 ,23 ,\n",
    "                24 ,24 ,24 ,24 ,24 ,24 ,\n",
    "                25 ,25 ,25 ,25 ,25 ,\n",
    "                26 ,26 ,26 ,\n",
    "                27 ,27 ,27 ,\n",
    "                28 ,28 ,28 ,28 ,28 ,\n",
    "                29 ,29 ,29 ,29 ,29 ,\n",
    "                30 ,30 ,30 ,30 ,\n",
    "                31 ,31 ,31 ,\n",
    "                32 ,32 ,32 ,32 ,32 ,\n",
    "                33 ,33 ,33 ,33 ,33 ,33 ,\n",
    "                34 ,34 ,34 ,34 ,\n",
    "                35 ,35 ,35 ,35 ,35 ,35 ,\n",
    "                36 ,36 ,\n",
    "                37 ,37 ,\n",
    "                38 ,38 ,38 ,38 ,38 ,38 ,\n",
    "                39 ,39 ,39 ,39 ,39 ,39 ,39 ,39 ,\n",
    "                40 ,40 ,40 ,40 ,\n",
    "                41 ,41 ,41 ,41 ,41 ,41 ,\n",
    "                42 ,42 ,42 ,\n",
    "                43 ,43 ,43 ,43 ,43 ,\n",
    "                44 ,44 ,\n",
    "                45 ,45 ,45 ,45 ,45 ,\n",
    "                46 ,46 ,46 ,46 ,\n",
    "                47 ,47 ,47 ,47 ,47 ,47])\n",
    "  dst=np.array([ 21, 39, 7, 8,\n",
    "       3, 25, 41, 28,\n",
    "       15, 40, 33, 22, 39, 21,\n",
    "       34, 25, 1,\n",
    "       28, 41, 47, 24, 13, 33,\n",
    "       29, 18, 36,\n",
    "       17, 25, 27,\n",
    "       0, 8,\n",
    "       0, 7, 39, 37, 30, \n",
    "       25, 24, 44, 23, 47, 41,\n",
    "       22, 12, 46, 11, 14,\n",
    "       14, 10, 19, 32,\n",
    "       24, 38, 20, 46, 10, 22,\n",
    "       4, 24, 22, 33,\n",
    "       22, 10, 11, 32, 45, 43, 39,\n",
    "       40, 2, 21,\n",
    "       26,\n",
    "       45, 43, 35, 6,\n",
    "       29, 42, 26, 5, 36,\n",
    "       11, 32, 46,\n",
    "       31, 38, 12, 46,\n",
    "       15, 2, 39, 0,\n",
    "       33, 13, 24, 12, 10, 14, 39, 2,\n",
    "       9, 47, 31, 38,\n",
    "       4, 47, 38, 12, 22, 13,\n",
    "       1, 3, 34, 9, 41,\n",
    "       16, 42, 18,\n",
    "       6, 35, 29,\n",
    "       1, 41, 4, 33, 40,\n",
    "       35, 27, 42, 18, 5,\n",
    "       23, 38, 20,\n",
    "       19, 11, 14, 45, 35,\n",
    "       40, 28, 4, 13, 22, 2,\n",
    "       44, 9, 25, 3,\n",
    "       32, 45, 17, 27, 29,\n",
    "       5, 18,\n",
    "       8, 30,\n",
    "       47, 23, 31, 20, 12, 24,\n",
    "       21, 2, 22, 14, 43, 30, 8, 0,\n",
    "       28, 33, 2, 15,\n",
    "       28, 1, 25, 9, 47, 4,\n",
    "       26, 29, 18,\n",
    "       45, 17, 14, 39, 30,\n",
    "       9, 34,\n",
    "       32,  35, 17, 43, 14,\n",
    "       20, 12, 10, 19,\n",
    "       9, 23, 38, 24, 41, 4])\n",
    "  u=np.concatenate([src,dst])\n",
    "  v=np.concatenate([dst,src])\n",
    "  return dgl.DGLGraph((u,v))"
   ]
  },
  {
   "cell_type": "code",
   "execution_count": 0,
   "metadata": {
    "colab": {},
    "colab_type": "code",
    "id": "gNU08QT8X9fM"
   },
   "outputs": [],
   "source": [
    "G=build_map()"
   ]
  },
  {
   "cell_type": "code",
   "execution_count": 10,
   "metadata": {
    "colab": {
     "base_uri": "https://localhost:8080/",
     "height": 51
    },
    "colab_type": "code",
    "id": "Fa4QrYLEoCXr",
    "outputId": "d31daded-96b3-4989-e4ad-1267b98fa9ec"
   },
   "outputs": [
    {
     "name": "stdout",
     "output_type": "stream",
     "text": [
      "32\n",
      "264\n"
     ]
    }
   ],
   "source": [
    "print(G.number_of_nodes())\n",
    "print(G.number_of_edges())"
   ]
  },
  {
   "cell_type": "code",
   "execution_count": 11,
   "metadata": {
    "colab": {
     "base_uri": "https://localhost:8080/",
     "height": 319
    },
    "colab_type": "code",
    "id": "FvU3EOCX8Q9-",
    "outputId": "98bed555-ce10-46a9-ad28-838243ff5cff"
   },
   "outputs": [
    {
     "data": {
      "image/png": "[encoded data removed]",
      "text/plain": [
       "<Figure size 432x288 with 1 Axes>"
      ]
     },
     "metadata": {
      "tags": []
     },
     "output_type": "display_data"
    }
   ],
   "source": [
    "import networkx as nx\n",
    "nx_G = G.to_networkx().to_undirected()\n",
    "pos = nx.kamada_kawai_layout(nx_G)\n",
    "\n",
    "nx.draw(nx_G, pos, with_labels=True, node_color=[[.9, .3, .3]])\n",
    "\n"
   ]
  },
  {
   "cell_type": "code",
   "execution_count": 0,
   "metadata": {
    "colab": {},
    "colab_type": "code",
    "id": "CXfje1RtrS1J"
   },
   "outputs": [],
   "source": [
    "import torch\n",
    "import torch.nn as nn\n",
    "import torch.nn.functional as F\n",
    "\n",
    "embed = nn.Embedding(32, 32)  "
   ]
  },
  {
   "cell_type": "code",
   "execution_count": 0,
   "metadata": {
    "colab": {},
    "colab_type": "code",
    "id": "fjJGvdnmUMDS"
   },
   "outputs": [],
   "source": [
    "x = torch.arange(0,32)\n",
    "G.ndata['feat'] =torch.nn.functional.one_hot(x)"
   ]
  },
  {
   "cell_type": "code",
   "execution_count": 14,
   "metadata": {
    "colab": {
     "base_uri": "https://localhost:8080/",
     "height": 51
    },
    "colab_type": "code",
    "id": "hRP5RXsMrivy",
    "outputId": "039678cd-888e-40e4-bbf9-ffdeddfc7026"
   },
   "outputs": [
    {
     "name": "stdout",
     "output_type": "stream",
     "text": [
      "tensor([ 0,  0,  0,  0,  0,  0,  0,  0,  0,  0,  0,  0,  0,  0,  0,  0,  0,  0,\n",
      "         0,  0,  0,  0,  0,  0,  0,  0,  0,  0,  0,  0,  0, 21])\n"
     ]
    }
   ],
   "source": [
    "for i in range(32):\n",
    "  G.ndata['feat'][i]=G.ndata['feat'][i]*df2['Densidad'][i]\n",
    "\n",
    "\n",
    "print(G.ndata['feat'][31])"
   ]
  },
  {
   "cell_type": "code",
   "execution_count": 0,
   "metadata": {
    "colab": {},
    "colab_type": "code",
    "id": "kI1HAm45rmdd"
   },
   "outputs": [],
   "source": [
    "from dgl.nn.pytorch import GraphConv\n"
   ]
  },
  {
   "cell_type": "code",
   "execution_count": 0,
   "metadata": {
    "colab": {},
    "colab_type": "code",
    "id": "RiULmJnUrson"
   },
   "outputs": [],
   "source": [
    "class GCN(nn.Module):\n",
    "    def __init__(self, in_feats, hidden_size, num_classes):\n",
    "        super(GCN, self).__init__()\n",
    "        self.conv1 = GraphConv(in_feats, hidden_size)\n",
    "        self.conv2 = GraphConv(hidden_size, num_classes)\n",
    "\n",
    "    def forward(self, g, inputs):\n",
    "        h = self.conv1(g, inputs)\n",
    "        h = torch.relu(h)\n",
    "        h = self.conv2(g, h)\n",
    "        return h\n",
    "\n",
    "\n",
    "net = GCN(32, 5, 3)"
   ]
  },
  {
   "cell_type": "code",
   "execution_count": 0,
   "metadata": {
    "colab": {},
    "colab_type": "code",
    "id": "QlogcVtdsAu-"
   },
   "outputs": [],
   "source": [
    "inputs = embed.weight\n",
    "labeled_nodes = torch.tensor([3,17,13,18,4,1])  \n",
    "labels = torch.tensor([0,0,1,1,2,2])  "
   ]
  },
  {
   "cell_type": "code",
   "execution_count": 0,
   "metadata": {
    "colab": {},
    "colab_type": "code",
    "id": "DnXReHAnsfNS"
   },
   "outputs": [],
   "source": [
    "import itertools\n",
    "\n",
    "optimizer = torch.optim.Adam(itertools.chain(net.parameters(), embed.parameters()), lr=0.01)\n",
    "all_logits = []\n",
    "for epoch in range(250):\n",
    "    logits = net(G, inputs)\n",
    "    # we save the logits for visualization later\n",
    "    all_logits.append(logits.detach())\n",
    "    logp = F.log_softmax(logits, 1)\n",
    "    # we only compute loss for labeled nodes\n",
    "    loss = F.nll_loss(logp[labeled_nodes], labels)\n",
    "\n",
    "    optimizer.zero_grad()\n",
    "    loss.backward()\n",
    "    optimizer.step()\n",
    "\n",
    "    print('Epoch %d | Loss: %.4f' % (epoch, loss.item()))"
   ]
  },
  {
   "cell_type": "code",
   "execution_count": 0,
   "metadata": {
    "colab": {},
    "colab_type": "code",
    "id": "agNKJAZVXpa1"
   },
   "outputs": [],
   "source": [
    "import pandas as pd\n",
    "df=pd.DataFrame(all_logits[249][:].numpy())"
   ]
  },
  {
   "cell_type": "code",
   "execution_count": 0,
   "metadata": {
    "colab": {},
    "colab_type": "code",
    "id": "LNDkozLeGMGi"
   },
   "outputs": [],
   "source": [
    "lista=[]\n",
    "for i in range(32):\n",
    "  lista.append((all_logits[249][i].numpy().argmax()))\n",
    "\n",
    "df['li']=pd.Series(lista)"
   ]
  },
  {
   "cell_type": "code",
   "execution_count": 0,
   "metadata": {
    "colab": {},
    "colab_type": "code",
    "id": "3EWrnp9FXxyR"
   },
   "outputs": [],
   "source": [
    "df['Lat']=lat_list\n",
    "df['Long']=lon_list\n",
    "df['Estado']=estados_list"
   ]
  },
  {
   "cell_type": "code",
   "execution_count": 22,
   "metadata": {
    "colab": {
     "base_uri": "https://localhost:8080/",
     "height": 1000
    },
    "colab_type": "code",
    "id": "t4LbJuL-W_Yk",
    "outputId": "cab896f4-d209-4bd7-d977-7976a04d2739"
   },
   "outputs": [
    {
     "data": {
      "text/html": [
       "<div>\n",
       "<style scoped>\n",
       "    .dataframe tbody tr th:only-of-type {\n",
       "        vertical-align: middle;\n",
       "    }\n",
       "\n",
       "    .dataframe tbody tr th {\n",
       "        vertical-align: top;\n",
       "    }\n",
       "\n",
       "    .dataframe thead th {\n",
       "        text-align: right;\n",
       "    }\n",
       "</style>\n",
       "<table border=\"1\" class=\"dataframe\">\n",
       "  <thead>\n",
       "    <tr style=\"text-align: right;\">\n",
       "      <th></th>\n",
       "      <th>0</th>\n",
       "      <th>1</th>\n",
       "      <th>2</th>\n",
       "      <th>li</th>\n",
       "      <th>Lat</th>\n",
       "      <th>Long</th>\n",
       "      <th>Estado</th>\n",
       "    </tr>\n",
       "  </thead>\n",
       "  <tbody>\n",
       "    <tr>\n",
       "      <th>0</th>\n",
       "      <td>0.539033</td>\n",
       "      <td>-0.988151</td>\n",
       "      <td>-2.342771</td>\n",
       "      <td>0</td>\n",
       "      <td>21.882340</td>\n",
       "      <td>-102.282593</td>\n",
       "      <td>AGUASCALIENTES</td>\n",
       "    </tr>\n",
       "    <tr>\n",
       "      <th>1</th>\n",
       "      <td>-8.055016</td>\n",
       "      <td>-8.126482</td>\n",
       "      <td>2.798317</td>\n",
       "      <td>2</td>\n",
       "      <td>32.627811</td>\n",
       "      <td>-115.454460</td>\n",
       "      <td>BAJA CALIFORNIA</td>\n",
       "    </tr>\n",
       "    <tr>\n",
       "      <th>2</th>\n",
       "      <td>5.331813</td>\n",
       "      <td>-5.197880</td>\n",
       "      <td>-3.291242</td>\n",
       "      <td>0</td>\n",
       "      <td>24.144369</td>\n",
       "      <td>-110.300499</td>\n",
       "      <td>BAJA CALIFORNIA SUR</td>\n",
       "    </tr>\n",
       "    <tr>\n",
       "      <th>3</th>\n",
       "      <td>7.268159</td>\n",
       "      <td>-5.539064</td>\n",
       "      <td>-4.570120</td>\n",
       "      <td>0</td>\n",
       "      <td>19.843861</td>\n",
       "      <td>-90.525543</td>\n",
       "      <td>CAMPECHE</td>\n",
       "    </tr>\n",
       "    <tr>\n",
       "      <th>4</th>\n",
       "      <td>-5.709216</td>\n",
       "      <td>-5.603298</td>\n",
       "      <td>3.156803</td>\n",
       "      <td>2</td>\n",
       "      <td>19.428471</td>\n",
       "      <td>-99.127663</td>\n",
       "      <td>CIUDAD DE MÉXICO</td>\n",
       "    </tr>\n",
       "    <tr>\n",
       "      <th>5</th>\n",
       "      <td>1.893509</td>\n",
       "      <td>-3.581455</td>\n",
       "      <td>-2.489031</td>\n",
       "      <td>0</td>\n",
       "      <td>16.759729</td>\n",
       "      <td>-93.113083</td>\n",
       "      <td>CHIAPAS</td>\n",
       "    </tr>\n",
       "    <tr>\n",
       "      <th>6</th>\n",
       "      <td>-0.444701</td>\n",
       "      <td>-4.246380</td>\n",
       "      <td>-4.838334</td>\n",
       "      <td>0</td>\n",
       "      <td>28.635281</td>\n",
       "      <td>-106.088890</td>\n",
       "      <td>CHIHUAHUA</td>\n",
       "    </tr>\n",
       "    <tr>\n",
       "      <th>7</th>\n",
       "      <td>-2.957589</td>\n",
       "      <td>-0.687818</td>\n",
       "      <td>-6.747128</td>\n",
       "      <td>1</td>\n",
       "      <td>25.423210</td>\n",
       "      <td>-101.005302</td>\n",
       "      <td>COAHUILA</td>\n",
       "    </tr>\n",
       "    <tr>\n",
       "      <th>8</th>\n",
       "      <td>-1.122786</td>\n",
       "      <td>-0.796723</td>\n",
       "      <td>-3.340977</td>\n",
       "      <td>1</td>\n",
       "      <td>19.249970</td>\n",
       "      <td>-103.727142</td>\n",
       "      <td>COLIMA</td>\n",
       "    </tr>\n",
       "    <tr>\n",
       "      <th>9</th>\n",
       "      <td>0.435136</td>\n",
       "      <td>-2.681562</td>\n",
       "      <td>-7.059861</td>\n",
       "      <td>0</td>\n",
       "      <td>25.569851</td>\n",
       "      <td>-103.495880</td>\n",
       "      <td>DURANGO</td>\n",
       "    </tr>\n",
       "    <tr>\n",
       "      <th>10</th>\n",
       "      <td>-5.276000</td>\n",
       "      <td>-0.947533</td>\n",
       "      <td>-5.667129</td>\n",
       "      <td>1</td>\n",
       "      <td>21.018580</td>\n",
       "      <td>-101.259102</td>\n",
       "      <td>GUANAJUATO</td>\n",
       "    </tr>\n",
       "    <tr>\n",
       "      <th>11</th>\n",
       "      <td>-6.510108</td>\n",
       "      <td>-5.401522</td>\n",
       "      <td>0.953889</td>\n",
       "      <td>2</td>\n",
       "      <td>16.849420</td>\n",
       "      <td>-99.908913</td>\n",
       "      <td>GUERRERO</td>\n",
       "    </tr>\n",
       "    <tr>\n",
       "      <th>12</th>\n",
       "      <td>-7.825843</td>\n",
       "      <td>-3.603290</td>\n",
       "      <td>-2.066155</td>\n",
       "      <td>2</td>\n",
       "      <td>20.116970</td>\n",
       "      <td>-98.733292</td>\n",
       "      <td>HIDALGO</td>\n",
       "    </tr>\n",
       "    <tr>\n",
       "      <th>13</th>\n",
       "      <td>-7.367596</td>\n",
       "      <td>0.649759</td>\n",
       "      <td>-8.989139</td>\n",
       "      <td>1</td>\n",
       "      <td>20.666821</td>\n",
       "      <td>-103.391823</td>\n",
       "      <td>JALISCO</td>\n",
       "    </tr>\n",
       "    <tr>\n",
       "      <th>14</th>\n",
       "      <td>-11.072613</td>\n",
       "      <td>-5.805916</td>\n",
       "      <td>-0.999484</td>\n",
       "      <td>2</td>\n",
       "      <td>19.287861</td>\n",
       "      <td>-99.653236</td>\n",
       "      <td>MÉXICO</td>\n",
       "    </tr>\n",
       "    <tr>\n",
       "      <th>15</th>\n",
       "      <td>-6.347424</td>\n",
       "      <td>-2.569740</td>\n",
       "      <td>-3.657847</td>\n",
       "      <td>1</td>\n",
       "      <td>19.700781</td>\n",
       "      <td>-101.184433</td>\n",
       "      <td>MICHOACÁN</td>\n",
       "    </tr>\n",
       "    <tr>\n",
       "      <th>16</th>\n",
       "      <td>-7.182647</td>\n",
       "      <td>-5.913308</td>\n",
       "      <td>1.988515</td>\n",
       "      <td>2</td>\n",
       "      <td>18.926100</td>\n",
       "      <td>-99.230751</td>\n",
       "      <td>MORELOS</td>\n",
       "    </tr>\n",
       "    <tr>\n",
       "      <th>17</th>\n",
       "      <td>4.598552</td>\n",
       "      <td>-3.697920</td>\n",
       "      <td>-3.590333</td>\n",
       "      <td>0</td>\n",
       "      <td>21.509510</td>\n",
       "      <td>-104.895691</td>\n",
       "      <td>NAYARIT</td>\n",
       "    </tr>\n",
       "    <tr>\n",
       "      <th>18</th>\n",
       "      <td>-7.947001</td>\n",
       "      <td>1.045871</td>\n",
       "      <td>-9.515673</td>\n",
       "      <td>1</td>\n",
       "      <td>25.675070</td>\n",
       "      <td>-100.318466</td>\n",
       "      <td>NUEVO LEÓN</td>\n",
       "    </tr>\n",
       "    <tr>\n",
       "      <th>19</th>\n",
       "      <td>-5.490106</td>\n",
       "      <td>-3.781100</td>\n",
       "      <td>-0.439797</td>\n",
       "      <td>2</td>\n",
       "      <td>17.065420</td>\n",
       "      <td>-96.723648</td>\n",
       "      <td>OAXACA</td>\n",
       "    </tr>\n",
       "    <tr>\n",
       "      <th>20</th>\n",
       "      <td>-8.868391</td>\n",
       "      <td>-6.611191</td>\n",
       "      <td>1.131404</td>\n",
       "      <td>2</td>\n",
       "      <td>19.064060</td>\n",
       "      <td>-98.303520</td>\n",
       "      <td>PUEBLA</td>\n",
       "    </tr>\n",
       "    <tr>\n",
       "      <th>21</th>\n",
       "      <td>-8.647188</td>\n",
       "      <td>-1.297519</td>\n",
       "      <td>-6.136995</td>\n",
       "      <td>1</td>\n",
       "      <td>20.588060</td>\n",
       "      <td>-100.388061</td>\n",
       "      <td>QUERETARO</td>\n",
       "    </tr>\n",
       "    <tr>\n",
       "      <th>22</th>\n",
       "      <td>4.407676</td>\n",
       "      <td>-3.556217</td>\n",
       "      <td>-2.932096</td>\n",
       "      <td>0</td>\n",
       "      <td>21.174290</td>\n",
       "      <td>-86.846558</td>\n",
       "      <td>QUINTANA ROO</td>\n",
       "    </tr>\n",
       "    <tr>\n",
       "      <th>23</th>\n",
       "      <td>-8.616764</td>\n",
       "      <td>0.228942</td>\n",
       "      <td>-9.021552</td>\n",
       "      <td>1</td>\n",
       "      <td>22.149820</td>\n",
       "      <td>-100.979156</td>\n",
       "      <td>SAN LUIS POTOSÍ</td>\n",
       "    </tr>\n",
       "    <tr>\n",
       "      <th>24</th>\n",
       "      <td>-1.305719</td>\n",
       "      <td>-3.048151</td>\n",
       "      <td>-2.893997</td>\n",
       "      <td>0</td>\n",
       "      <td>23.232901</td>\n",
       "      <td>-106.406197</td>\n",
       "      <td>SINALOA</td>\n",
       "    </tr>\n",
       "    <tr>\n",
       "      <th>25</th>\n",
       "      <td>7.809262</td>\n",
       "      <td>-6.731363</td>\n",
       "      <td>-5.100936</td>\n",
       "      <td>0</td>\n",
       "      <td>29.102600</td>\n",
       "      <td>-110.977318</td>\n",
       "      <td>SONORA</td>\n",
       "    </tr>\n",
       "    <tr>\n",
       "      <th>26</th>\n",
       "      <td>-1.545560</td>\n",
       "      <td>-2.006822</td>\n",
       "      <td>-2.344992</td>\n",
       "      <td>0</td>\n",
       "      <td>17.986891</td>\n",
       "      <td>-92.930283</td>\n",
       "      <td>TABASCO</td>\n",
       "    </tr>\n",
       "    <tr>\n",
       "      <th>27</th>\n",
       "      <td>-6.748644</td>\n",
       "      <td>0.546085</td>\n",
       "      <td>-7.813524</td>\n",
       "      <td>1</td>\n",
       "      <td>26.080610</td>\n",
       "      <td>-98.288353</td>\n",
       "      <td>TAMAULIPAS</td>\n",
       "    </tr>\n",
       "    <tr>\n",
       "      <th>28</th>\n",
       "      <td>-5.867174</td>\n",
       "      <td>-4.096364</td>\n",
       "      <td>0.296466</td>\n",
       "      <td>2</td>\n",
       "      <td>19.319050</td>\n",
       "      <td>-98.199820</td>\n",
       "      <td>TLAXCALA</td>\n",
       "    </tr>\n",
       "    <tr>\n",
       "      <th>29</th>\n",
       "      <td>-5.617103</td>\n",
       "      <td>-3.352699</td>\n",
       "      <td>-5.649369</td>\n",
       "      <td>1</td>\n",
       "      <td>19.180950</td>\n",
       "      <td>-96.142899</td>\n",
       "      <td>VERACRUZ</td>\n",
       "    </tr>\n",
       "    <tr>\n",
       "      <th>30</th>\n",
       "      <td>4.045563</td>\n",
       "      <td>-3.275026</td>\n",
       "      <td>-2.714460</td>\n",
       "      <td>0</td>\n",
       "      <td>20.400417</td>\n",
       "      <td>-89.134857</td>\n",
       "      <td>YUCATÁN</td>\n",
       "    </tr>\n",
       "    <tr>\n",
       "      <th>31</th>\n",
       "      <td>-6.289273</td>\n",
       "      <td>0.294253</td>\n",
       "      <td>-9.033875</td>\n",
       "      <td>1</td>\n",
       "      <td>22.768430</td>\n",
       "      <td>-102.581410</td>\n",
       "      <td>ZACATECAS</td>\n",
       "    </tr>\n",
       "  </tbody>\n",
       "</table>\n",
       "</div>"
      ],
      "text/plain": [
       "            0         1         2  ...        Lat        Long               Estado\n",
       "0    0.539033 -0.988151 -2.342771  ...  21.882340 -102.282593       AGUASCALIENTES\n",
       "1   -8.055016 -8.126482  2.798317  ...  32.627811 -115.454460      BAJA CALIFORNIA\n",
       "2    5.331813 -5.197880 -3.291242  ...  24.144369 -110.300499  BAJA CALIFORNIA SUR\n",
       "3    7.268159 -5.539064 -4.570120  ...  19.843861  -90.525543             CAMPECHE\n",
       "4   -5.709216 -5.603298  3.156803  ...  19.428471  -99.127663     CIUDAD DE MÉXICO\n",
       "5    1.893509 -3.581455 -2.489031  ...  16.759729  -93.113083              CHIAPAS\n",
       "6   -0.444701 -4.246380 -4.838334  ...  28.635281 -106.088890            CHIHUAHUA\n",
       "7   -2.957589 -0.687818 -6.747128  ...  25.423210 -101.005302             COAHUILA\n",
       "8   -1.122786 -0.796723 -3.340977  ...  19.249970 -103.727142               COLIMA\n",
       "9    0.435136 -2.681562 -7.059861  ...  25.569851 -103.495880              DURANGO\n",
       "10  -5.276000 -0.947533 -5.667129  ...  21.018580 -101.259102           GUANAJUATO\n",
       "11  -6.510108 -5.401522  0.953889  ...  16.849420  -99.908913             GUERRERO\n",
       "12  -7.825843 -3.603290 -2.066155  ...  20.116970  -98.733292              HIDALGO\n",
       "13  -7.367596  0.649759 -8.989139  ...  20.666821 -103.391823              JALISCO\n",
       "14 -11.072613 -5.805916 -0.999484  ...  19.287861  -99.653236               MÉXICO\n",
       "15  -6.347424 -2.569740 -3.657847  ...  19.700781 -101.184433            MICHOACÁN\n",
       "16  -7.182647 -5.913308  1.988515  ...  18.926100  -99.230751              MORELOS\n",
       "17   4.598552 -3.697920 -3.590333  ...  21.509510 -104.895691              NAYARIT\n",
       "18  -7.947001  1.045871 -9.515673  ...  25.675070 -100.318466           NUEVO LEÓN\n",
       "19  -5.490106 -3.781100 -0.439797  ...  17.065420  -96.723648               OAXACA\n",
       "20  -8.868391 -6.611191  1.131404  ...  19.064060  -98.303520               PUEBLA\n",
       "21  -8.647188 -1.297519 -6.136995  ...  20.588060 -100.388061            QUERETARO\n",
       "22   4.407676 -3.556217 -2.932096  ...  21.174290  -86.846558         QUINTANA ROO\n",
       "23  -8.616764  0.228942 -9.021552  ...  22.149820 -100.979156      SAN LUIS POTOSÍ\n",
       "24  -1.305719 -3.048151 -2.893997  ...  23.232901 -106.406197              SINALOA\n",
       "25   7.809262 -6.731363 -5.100936  ...  29.102600 -110.977318               SONORA\n",
       "26  -1.545560 -2.006822 -2.344992  ...  17.986891  -92.930283              TABASCO\n",
       "27  -6.748644  0.546085 -7.813524  ...  26.080610  -98.288353           TAMAULIPAS\n",
       "28  -5.867174 -4.096364  0.296466  ...  19.319050  -98.199820             TLAXCALA\n",
       "29  -5.617103 -3.352699 -5.649369  ...  19.180950  -96.142899             VERACRUZ\n",
       "30   4.045563 -3.275026 -2.714460  ...  20.400417  -89.134857              YUCATÁN\n",
       "31  -6.289273  0.294253 -9.033875  ...  22.768430 -102.581410            ZACATECAS\n",
       "\n",
       "[32 rows x 7 columns]"
      ]
     },
     "execution_count": 22,
     "metadata": {
      "tags": []
     },
     "output_type": "execute_result"
    }
   ],
   "source": [
    "df"
   ]
  },
  {
   "cell_type": "code",
   "execution_count": 23,
   "metadata": {
    "colab": {
     "base_uri": "https://localhost:8080/",
     "height": 542
    },
    "colab_type": "code",
    "id": "3dO_qBbY4uVF",
    "outputId": "7c09afd9-0953-4a95-8115-a46a6aaa0f7a"
   },
   "outputs": [
    {
     "data": {
      "text/html": [
       "<html>\n",
       "<head><meta charset=\"utf-8\" /></head>\n",
       "<body>\n",
       "    <div>\n",
       "            <script src=\"https://cdnjs.cloudflare.com/ajax/libs/mathjax/2.7.5/MathJax.js?config=TeX-AMS-MML_SVG\"></script><script type=\"text/javascript\">if (window.MathJax) {MathJax.Hub.Config({SVG: {font: \"STIX-Web\"}});}</script>\n",
       "                <script type=\"text/javascript\">window.PlotlyConfig = {MathJaxConfig: 'local'};</script>\n",
       "        <script src=\"https://cdn.plot.ly/plotly-latest.min.js\"></script>    \n",
       "            <div id=\"37a44cd2-2119-478f-a0c3-782c87e369c7\" class=\"plotly-graph-div\" style=\"height:525px; width:800px;\"></div>\n",
       "            <script type=\"text/javascript\">\n",
       "                \n",
       "                    window.PLOTLYENV=window.PLOTLYENV || {};\n",
       "                    \n",
       "                if (document.getElementById(\"37a44cd2-2119-478f-a0c3-782c87e369c7\")) {\n",
       "                    Plotly.newPlot(\n",
       "                        '37a44cd2-2119-478f-a0c3-782c87e369c7',\n",
       "                        [{\"geo\": \"geo\", \"hoverlabel\": {\"namelength\": 0}, \"hovertemplate\": \"size=%{marker.size}<br>Estado=%{text}<br>Lat=%{lat}<br>Long=%{lon}<br>li=%{marker.color}\", \"lat\": [21.8823395, 32.6278114, 24.144369100000002, 19.843860600000003, 19.4284706, 16.759729399999998, 28.635280600000005, 25.423210100000002, 19.249969500000002, 25.5698509, 21.0185795, 16.849420499999997, 20.1169701, 20.6668205, 19.2878609, 19.700780899999998, 18.926099800000003, 21.509510000000002, 25.6750698, 17.0654202, 19.0640602, 20.5880604, 21.1742897, 22.149820300000002, 23.2329006, 29.1026001, 17.9868908, 26.0806103, 19.31905, 19.180950199999998, 20.400417, 22.76843], \"legendgroup\": \"\", \"lon\": [-102.28259279999999, -115.4544601, -110.300499, -90.5255432, -99.1276627, -93.11308290000001, -106.08889009999999, -101.0053024, -103.7271423, -103.4958801, -101.2591019, -99.9089127, -98.7332916, -103.3918228, -99.65323640000001, -101.184433, -99.230751, -104.8956909, -100.3184662, -96.72364809999999, -98.30352020000001, -100.38806149999999, -86.84655759999998, -100.97915649999999, -106.4061966, -110.97731780000001, -92.93028259999998, -98.288353, -98.19981999999999, -96.1428986, -89.134857, -102.58140999999999], \"marker\": {\"color\": [0, 2, 0, 0, 2, 0, 0, 1, 1, 0, 1, 2, 2, 1, 2, 1, 2, 0, 1, 2, 2, 1, 0, 1, 0, 0, 0, 1, 2, 1, 0, 1], \"coloraxis\": \"coloraxis\", \"size\": [1, 3, 1, 1, 3, 1, 1, 2, 2, 1, 2, 3, 3, 2, 3, 2, 3, 1, 2, 3, 3, 2, 1, 2, 1, 1, 1, 2, 3, 2, 1, 2], \"sizemode\": \"area\", \"sizeref\": 0.0075}, \"name\": \"\", \"showlegend\": false, \"text\": [\"AGUASCALIENTES\", \"BAJA CALIFORNIA\", \"BAJA CALIFORNIA SUR\", \"CAMPECHE\", \"CIUDAD DE M\\u00c9XICO\", \"CHIAPAS\", \"CHIHUAHUA\", \"COAHUILA\", \"COLIMA\", \"DURANGO\", \"GUANAJUATO\", \"GUERRERO\", \"HIDALGO\", \"JALISCO\", \"M\\u00c9XICO\", \"MICHOAC\\u00c1N\", \"MORELOS\", \"NAYARIT\", \"NUEVO LE\\u00d3N\", \"OAXACA\", \"PUEBLA\", \"QUERETARO\", \"QUINTANA ROO\", \"SAN LUIS POTOS\\u00cd\", \"SINALOA\", \"SONORA\", \"TABASCO\", \"TAMAULIPAS\", \"TLAXCALA\", \"VERACRUZ\", \"YUCAT\\u00c1N\", \"ZACATECAS\"], \"type\": \"scattergeo\"}],\n",
       "                        {\"coloraxis\": {\"colorbar\": {\"title\": {\"text\": \"li\"}}, \"colorscale\": [[0.0, \"#0d0887\"], [0.1111111111111111, \"#46039f\"], [0.2222222222222222, \"#7201a8\"], [0.3333333333333333, \"#9c179e\"], [0.4444444444444444, \"#bd3786\"], [0.5555555555555556, \"#d8576b\"], [0.6666666666666666, \"#ed7953\"], [0.7777777777777778, \"#fb9f3a\"], [0.8888888888888888, \"#fdca26\"], [1.0, \"#f0f921\"]]}, \"geo\": {\"center\": {\"lat\": 19, \"lon\": -99}, \"domain\": {\"x\": [0.0, 1.0], \"y\": [0.0, 1.0]}, \"projection\": {\"type\": \"natural earth\"}, \"scope\": \"north america\"}, \"legend\": {\"itemsizing\": \"constant\", \"tracegroupgap\": 0}, \"margin\": {\"t\": 60}, \"template\": {\"data\": {\"bar\": [{\"error_x\": {\"color\": \"#2a3f5f\"}, \"error_y\": {\"color\": \"#2a3f5f\"}, \"marker\": {\"line\": {\"color\": \"#E5ECF6\", \"width\": 0.5}}, \"type\": \"bar\"}], \"barpolar\": [{\"marker\": {\"line\": {\"color\": \"#E5ECF6\", \"width\": 0.5}}, \"type\": \"barpolar\"}], \"carpet\": [{\"aaxis\": {\"endlinecolor\": \"#2a3f5f\", \"gridcolor\": \"white\", \"linecolor\": \"white\", \"minorgridcolor\": \"white\", \"startlinecolor\": \"#2a3f5f\"}, \"baxis\": {\"endlinecolor\": \"#2a3f5f\", \"gridcolor\": \"white\", \"linecolor\": \"white\", \"minorgridcolor\": \"white\", \"startlinecolor\": \"#2a3f5f\"}, \"type\": \"carpet\"}], \"choropleth\": [{\"colorbar\": {\"outlinewidth\": 0, \"ticks\": \"\"}, \"type\": \"choropleth\"}], \"contour\": [{\"colorbar\": {\"outlinewidth\": 0, \"ticks\": \"\"}, \"colorscale\": [[0.0, \"#0d0887\"], [0.1111111111111111, \"#46039f\"], [0.2222222222222222, \"#7201a8\"], [0.3333333333333333, \"#9c179e\"], [0.4444444444444444, \"#bd3786\"], [0.5555555555555556, \"#d8576b\"], [0.6666666666666666, \"#ed7953\"], [0.7777777777777778, \"#fb9f3a\"], [0.8888888888888888, \"#fdca26\"], [1.0, \"#f0f921\"]], \"type\": \"contour\"}], \"contourcarpet\": [{\"colorbar\": {\"outlinewidth\": 0, \"ticks\": \"\"}, \"type\": \"contourcarpet\"}], \"heatmap\": [{\"colorbar\": {\"outlinewidth\": 0, \"ticks\": \"\"}, \"colorscale\": [[0.0, \"#0d0887\"], [0.1111111111111111, \"#46039f\"], [0.2222222222222222, \"#7201a8\"], [0.3333333333333333, \"#9c179e\"], [0.4444444444444444, \"#bd3786\"], [0.5555555555555556, \"#d8576b\"], [0.6666666666666666, \"#ed7953\"], [0.7777777777777778, \"#fb9f3a\"], [0.8888888888888888, \"#fdca26\"], [1.0, \"#f0f921\"]], \"type\": \"heatmap\"}], \"heatmapgl\": [{\"colorbar\": {\"outlinewidth\": 0, \"ticks\": \"\"}, \"colorscale\": [[0.0, \"#0d0887\"], [0.1111111111111111, \"#46039f\"], [0.2222222222222222, \"#7201a8\"], [0.3333333333333333, \"#9c179e\"], [0.4444444444444444, \"#bd3786\"], [0.5555555555555556, \"#d8576b\"], [0.6666666666666666, \"#ed7953\"], [0.7777777777777778, \"#fb9f3a\"], [0.8888888888888888, \"#fdca26\"], [1.0, \"#f0f921\"]], \"type\": \"heatmapgl\"}], \"histogram\": [{\"marker\": {\"colorbar\": {\"outlinewidth\": 0, \"ticks\": \"\"}}, \"type\": \"histogram\"}], \"histogram2d\": [{\"colorbar\": {\"outlinewidth\": 0, \"ticks\": \"\"}, \"colorscale\": [[0.0, \"#0d0887\"], [0.1111111111111111, \"#46039f\"], [0.2222222222222222, \"#7201a8\"], [0.3333333333333333, \"#9c179e\"], [0.4444444444444444, \"#bd3786\"], [0.5555555555555556, \"#d8576b\"], [0.6666666666666666, \"#ed7953\"], [0.7777777777777778, \"#fb9f3a\"], [0.8888888888888888, \"#fdca26\"], [1.0, \"#f0f921\"]], \"type\": \"histogram2d\"}], \"histogram2dcontour\": [{\"colorbar\": {\"outlinewidth\": 0, \"ticks\": \"\"}, \"colorscale\": [[0.0, \"#0d0887\"], [0.1111111111111111, \"#46039f\"], [0.2222222222222222, \"#7201a8\"], [0.3333333333333333, \"#9c179e\"], [0.4444444444444444, \"#bd3786\"], [0.5555555555555556, \"#d8576b\"], [0.6666666666666666, \"#ed7953\"], [0.7777777777777778, \"#fb9f3a\"], [0.8888888888888888, \"#fdca26\"], [1.0, \"#f0f921\"]], \"type\": \"histogram2dcontour\"}], \"mesh3d\": [{\"colorbar\": {\"outlinewidth\": 0, \"ticks\": \"\"}, \"type\": \"mesh3d\"}], \"parcoords\": [{\"line\": {\"colorbar\": {\"outlinewidth\": 0, \"ticks\": \"\"}}, \"type\": \"parcoords\"}], \"pie\": [{\"automargin\": true, \"type\": \"pie\"}], \"scatter\": [{\"marker\": {\"colorbar\": {\"outlinewidth\": 0, \"ticks\": \"\"}}, \"type\": \"scatter\"}], \"scatter3d\": [{\"line\": {\"colorbar\": {\"outlinewidth\": 0, \"ticks\": \"\"}}, \"marker\": {\"colorbar\": {\"outlinewidth\": 0, \"ticks\": \"\"}}, \"type\": \"scatter3d\"}], \"scattercarpet\": [{\"marker\": {\"colorbar\": {\"outlinewidth\": 0, \"ticks\": \"\"}}, \"type\": \"scattercarpet\"}], \"scattergeo\": [{\"marker\": {\"colorbar\": {\"outlinewidth\": 0, \"ticks\": \"\"}}, \"type\": \"scattergeo\"}], \"scattergl\": [{\"marker\": {\"colorbar\": {\"outlinewidth\": 0, \"ticks\": \"\"}}, \"type\": \"scattergl\"}], \"scattermapbox\": [{\"marker\": {\"colorbar\": {\"outlinewidth\": 0, \"ticks\": \"\"}}, \"type\": \"scattermapbox\"}], \"scatterpolar\": [{\"marker\": {\"colorbar\": {\"outlinewidth\": 0, \"ticks\": \"\"}}, \"type\": \"scatterpolar\"}], \"scatterpolargl\": [{\"marker\": {\"colorbar\": {\"outlinewidth\": 0, \"ticks\": \"\"}}, \"type\": \"scatterpolargl\"}], \"scatterternary\": [{\"marker\": {\"colorbar\": {\"outlinewidth\": 0, \"ticks\": \"\"}}, \"type\": \"scatterternary\"}], \"surface\": [{\"colorbar\": {\"outlinewidth\": 0, \"ticks\": \"\"}, \"colorscale\": [[0.0, \"#0d0887\"], [0.1111111111111111, \"#46039f\"], [0.2222222222222222, \"#7201a8\"], [0.3333333333333333, \"#9c179e\"], [0.4444444444444444, \"#bd3786\"], [0.5555555555555556, \"#d8576b\"], [0.6666666666666666, \"#ed7953\"], [0.7777777777777778, \"#fb9f3a\"], [0.8888888888888888, \"#fdca26\"], [1.0, \"#f0f921\"]], \"type\": \"surface\"}], \"table\": [{\"cells\": {\"fill\": {\"color\": \"#EBF0F8\"}, \"line\": {\"color\": \"white\"}}, \"header\": {\"fill\": {\"color\": \"#C8D4E3\"}, \"line\": {\"color\": \"white\"}}, \"type\": \"table\"}]}, \"layout\": {\"annotationdefaults\": {\"arrowcolor\": \"#2a3f5f\", \"arrowhead\": 0, \"arrowwidth\": 1}, \"coloraxis\": {\"colorbar\": {\"outlinewidth\": 0, \"ticks\": \"\"}}, \"colorscale\": {\"diverging\": [[0, \"#8e0152\"], [0.1, \"#c51b7d\"], [0.2, \"#de77ae\"], [0.3, \"#f1b6da\"], [0.4, \"#fde0ef\"], [0.5, \"#f7f7f7\"], [0.6, \"#e6f5d0\"], [0.7, \"#b8e186\"], [0.8, \"#7fbc41\"], [0.9, \"#4d9221\"], [1, \"#276419\"]], \"sequential\": [[0.0, \"#0d0887\"], [0.1111111111111111, \"#46039f\"], [0.2222222222222222, \"#7201a8\"], [0.3333333333333333, \"#9c179e\"], [0.4444444444444444, \"#bd3786\"], [0.5555555555555556, \"#d8576b\"], [0.6666666666666666, \"#ed7953\"], [0.7777777777777778, \"#fb9f3a\"], [0.8888888888888888, \"#fdca26\"], [1.0, \"#f0f921\"]], \"sequentialminus\": [[0.0, \"#0d0887\"], [0.1111111111111111, \"#46039f\"], [0.2222222222222222, \"#7201a8\"], [0.3333333333333333, \"#9c179e\"], [0.4444444444444444, \"#bd3786\"], [0.5555555555555556, \"#d8576b\"], [0.6666666666666666, \"#ed7953\"], [0.7777777777777778, \"#fb9f3a\"], [0.8888888888888888, \"#fdca26\"], [1.0, \"#f0f921\"]]}, \"colorway\": [\"#636efa\", \"#EF553B\", \"#00cc96\", \"#ab63fa\", \"#FFA15A\", \"#19d3f3\", \"#FF6692\", \"#B6E880\", \"#FF97FF\", \"#FECB52\"], \"font\": {\"color\": \"#2a3f5f\"}, \"geo\": {\"bgcolor\": \"white\", \"lakecolor\": \"white\", \"landcolor\": \"#E5ECF6\", \"showlakes\": true, \"showland\": true, \"subunitcolor\": \"white\"}, \"hoverlabel\": {\"align\": \"left\"}, \"hovermode\": \"closest\", \"mapbox\": {\"style\": \"light\"}, \"paper_bgcolor\": \"white\", \"plot_bgcolor\": \"#E5ECF6\", \"polar\": {\"angularaxis\": {\"gridcolor\": \"white\", \"linecolor\": \"white\", \"ticks\": \"\"}, \"bgcolor\": \"#E5ECF6\", \"radialaxis\": {\"gridcolor\": \"white\", \"linecolor\": \"white\", \"ticks\": \"\"}}, \"scene\": {\"xaxis\": {\"backgroundcolor\": \"#E5ECF6\", \"gridcolor\": \"white\", \"gridwidth\": 2, \"linecolor\": \"white\", \"showbackground\": true, \"ticks\": \"\", \"zerolinecolor\": \"white\"}, \"yaxis\": {\"backgroundcolor\": \"#E5ECF6\", \"gridcolor\": \"white\", \"gridwidth\": 2, \"linecolor\": \"white\", \"showbackground\": true, \"ticks\": \"\", \"zerolinecolor\": \"white\"}, \"zaxis\": {\"backgroundcolor\": \"#E5ECF6\", \"gridcolor\": \"white\", \"gridwidth\": 2, \"linecolor\": \"white\", \"showbackground\": true, \"ticks\": \"\", \"zerolinecolor\": \"white\"}}, \"shapedefaults\": {\"line\": {\"color\": \"#2a3f5f\"}}, \"ternary\": {\"aaxis\": {\"gridcolor\": \"white\", \"linecolor\": \"white\", \"ticks\": \"\"}, \"baxis\": {\"gridcolor\": \"white\", \"linecolor\": \"white\", \"ticks\": \"\"}, \"bgcolor\": \"#E5ECF6\", \"caxis\": {\"gridcolor\": \"white\", \"linecolor\": \"white\", \"ticks\": \"\"}}, \"title\": {\"x\": 0.05}, \"xaxis\": {\"automargin\": true, \"gridcolor\": \"white\", \"linecolor\": \"white\", \"ticks\": \"\", \"title\": {\"standoff\": 15}, \"zerolinecolor\": \"white\", \"zerolinewidth\": 2}, \"yaxis\": {\"automargin\": true, \"gridcolor\": \"white\", \"linecolor\": \"white\", \"ticks\": \"\", \"title\": {\"standoff\": 15}, \"zerolinecolor\": \"white\", \"zerolinewidth\": 2}}}, \"width\": 800},\n",
       "                        {\"responsive\": true}\n",
       "                    ).then(function(){\n",
       "                            \n",
       "var gd = document.getElementById('37a44cd2-2119-478f-a0c3-782c87e369c7');\n",
       "var x = new MutationObserver(function (mutations, observer) {{\n",
       "        var display = window.getComputedStyle(gd).display;\n",
       "        if (!display || display === 'none') {{\n",
       "            console.log([gd, 'removed!']);\n",
       "            Plotly.purge(gd);\n",
       "            observer.disconnect();\n",
       "        }}\n",
       "}});\n",
       "\n",
       "// Listen for the removal of the full notebook cells\n",
       "var notebookContainer = gd.closest('#notebook-container');\n",
       "if (notebookContainer) {{\n",
       "    x.observe(notebookContainer, {childList: true});\n",
       "}}\n",
       "\n",
       "// Listen for the clearing of the current output cell\n",
       "var outputEl = gd.closest('.output');\n",
       "if (outputEl) {{\n",
       "    x.observe(outputEl, {childList: true});\n",
       "}}\n",
       "\n",
       "                        })\n",
       "                };\n",
       "                \n",
       "            </script>\n",
       "        </div>\n",
       "</body>\n",
       "</html>"
      ]
     },
     "metadata": {
      "tags": []
     },
     "output_type": "display_data"
    }
   ],
   "source": [
    "fig = px.scatter_geo(df, lat=\"Lat\",lon=\"Long\", color='li',size=df['li']+1,\n",
    "                     #animation_frame=\"Fecha\",\n",
    "                     scope='north america',#range_color=[0,max(todos['conteo'])],\n",
    "                     center={'lat':19,'lon':-99},width=800,text = df['Estado'],\n",
    "                     projection=\"natural earth\")\n",
    "\n",
    "\n",
    "fig.show()"
   ]
  },
  {
   "cell_type": "code",
   "execution_count": 0,
   "metadata": {
    "colab": {},
    "colab_type": "code",
    "id": "gEgto-ogaNj7"
   },
   "outputs": [],
   "source": []
  }
 ],
 "metadata": {
  "colab": {
   "authorship_tag": "ABX9TyOTiAj+QZprMNLAc610oCGY",
   "include_colab_link": true,
   "name": "dgl_map.ipynb",
   "provenance": []
  },
  "kernelspec": {
   "display_name": "Python 3",
   "language": "python",
   "name": "python3"
  },
  "language_info": {
   "codemirror_mode": {
    "name": "ipython",
    "version": 3
   },
   "file_extension": ".py",
   "mimetype": "text/x-python",
   "name": "python",
   "nbconvert_exporter": "python",
   "pygments_lexer": "ipython3",
   "version": "3.7.6"
  }
 },
 "nbformat": 4,
 "nbformat_minor": 1
}
